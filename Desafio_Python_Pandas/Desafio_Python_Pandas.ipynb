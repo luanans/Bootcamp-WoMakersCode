{
  "cells": [
    {
      "cell_type": "markdown",
      "metadata": {
        "id": "TKiRq52ECIRX"
      },
      "source": [
        "# Desafio Python e Pandas - Bootcamp TECH MINAS 2022/2023"
      ]
    },
    {
      "attachments": {},
      "cell_type": "markdown",
      "metadata": {},
      "source": [
        "Este desafio é composto por sub tasks que trabalham os conceitos aprendidos durante a  primeira semana do bootcamp. Os dados utilizados são disponibilizados pela biblioteca [pyDataset](https://pydataset.readthedocs.io/en/latest/index.html)"
      ]
    },
    {
      "attachments": {},
      "cell_type": "markdown",
      "metadata": {},
      "source": [
        "# Importações"
      ]
    },
    {
      "cell_type": "code",
      "execution_count": 261,
      "metadata": {
        "colab": {
          "base_uri": "https://localhost:8080/"
        },
        "id": "9gxZKW56Dao8",
        "outputId": "65cd04b1-ea3b-40e8-ce7c-552a59ade542"
      },
      "outputs": [],
      "source": [
        "#!pip install pydataset "
      ]
    },
    {
      "cell_type": "code",
      "execution_count": 262,
      "metadata": {},
      "outputs": [],
      "source": [
        "from pydataset import data\n",
        "import pandas as pd\n",
        "import matplotlib.pyplot as plt"
      ]
    },
    {
      "cell_type": "code",
      "execution_count": 263,
      "metadata": {},
      "outputs": [],
      "source": [
        "pd.set_option('display.max_column', None)"
      ]
    },
    {
      "cell_type": "markdown",
      "metadata": {
        "id": "bDbbBqBNCJBN"
      },
      "source": [
        "## Desafio 1: Importando dataset pelo pydataset"
      ]
    },
    {
      "attachments": {},
      "cell_type": "markdown",
      "metadata": {
        "id": "4IMW08CPDXFF"
      },
      "source": [
        "Dado o dataset plantTraits retorne:\n",
        "1. Importe o dataset utilizando a seguinte função do pydataset: data(“Código”)\n",
        "2. Imprimir na tela o dataset;\n",
        "3. Informe o tipo de dados retornado pela função data;\n",
        "4. Informe o número de exemplos (linhas) e características (colunas) do dataset.\n",
        "5. Crie uma função que ao receber um DataFrame retorna o número de linhas e colunas.\n",
        "\n",
        "Dicas:\n",
        "\n",
        "● plantTraits é um dataset que contém a descrição, por meio de atributos biológicos, de diferentes espécies de plantas;\n",
        "\n",
        "● função built-in (nativa da linguagem Python): type()\n",
        "\n",
        "● atributo do DataFrame: shape"
      ]
    },
    {
      "attachments": {},
      "cell_type": "markdown",
      "metadata": {},
      "source": [
        "#### 1. Importe o dataset utilizando a seguinte função do pydataset: data(“Código”)."
      ]
    },
    {
      "cell_type": "code",
      "execution_count": 264,
      "metadata": {
        "colab": {
          "base_uri": "https://localhost:8080/"
        },
        "id": "3KFtNFaXEZJW",
        "outputId": "399ddc3b-1b18-4541-f87e-1dcb25adfe3c"
      },
      "outputs": [
        {
          "name": "stdout",
          "output_type": "stream",
          "text": [
            "plantTraits\n",
            "\n",
            "PyDataset Documentation (adopted from R Documentation. The displayed examples are in R)\n",
            "\n",
            "## Plant Species Traits Data\n",
            "\n",
            "### Description\n",
            "\n",
            "This dataset constitutes a description of 136 plant species according to\n",
            "biological attributes (morphological or reproductive)\n",
            "\n",
            "### Usage\n",
            "\n",
            "    data(plantTraits)\n",
            "\n",
            "### Format\n",
            "\n",
            "A data frame with 136 observations on the following 31 variables.\n",
            "\n",
            "`pdias`\n",
            "\n",
            "Diaspore mass (mg)\n",
            "\n",
            "`longindex`\n",
            "\n",
            "Seed bank longevity\n",
            "\n",
            "`durflow`\n",
            "\n",
            "Flowering duration\n",
            "\n",
            "`height`\n",
            "\n",
            "Plant height, an ordered factor with levels `1` < `2` < ... < `8`.\n",
            "\n",
            "`begflow`\n",
            "\n",
            "Time of first flowering, an ordered factor with levels `1` < `2` < `3` < `4` <\n",
            "`5` < `6` < `7` < `8` < `9`\n",
            "\n",
            "`mycor`\n",
            "\n",
            "Mycorrhizas, an ordered factor with levels `0`never < `1` sometimes< `2`always\n",
            "\n",
            "`vegaer`\n",
            "\n",
            "aerial vegetative propagation, an ordered factor with levels `0`never < `1`\n",
            "present but limited< `2`important.\n",
            "\n",
            "`vegsout`\n",
            "\n",
            "underground vegetative propagation, an ordered factor with 3 levels identical\n",
            "to `vegaer` above.\n",
            "\n",
            "`autopoll`\n",
            "\n",
            "selfing pollination, an ordered factor with levels `0`never < `1`rare < `2`\n",
            "often< the rule`3`\n",
            "\n",
            "`insects`\n",
            "\n",
            "insect pollination, an ordered factor with 5 levels `0` < ... < `4`.\n",
            "\n",
            "`wind`\n",
            "\n",
            "wind pollination, an ordered factor with 5 levels `0` < ... < `4`.\n",
            "\n",
            "`lign`\n",
            "\n",
            "a binary factor with levels `0:1`, indicating if plant is woody.\n",
            "\n",
            "`piq`\n",
            "\n",
            "a binary factor indicating if plant is thorny.\n",
            "\n",
            "`ros`\n",
            "\n",
            "a binary factor indicating if plant is rosette.\n",
            "\n",
            "`semiros`\n",
            "\n",
            "semi-rosette plant, a binary factor (`0`: no; `1`: yes).\n",
            "\n",
            "`leafy`\n",
            "\n",
            "leafy plant, a binary factor.\n",
            "\n",
            "`suman`\n",
            "\n",
            "summer annual, a binary factor.\n",
            "\n",
            "`winan`\n",
            "\n",
            "winter annual, a binary factor.\n",
            "\n",
            "`monocarp`\n",
            "\n",
            "monocarpic perennial, a binary factor.\n",
            "\n",
            "`polycarp`\n",
            "\n",
            "polycarpic perennial, a binary factor.\n",
            "\n",
            "`seasaes`\n",
            "\n",
            "seasonal aestival leaves, a binary factor.\n",
            "\n",
            "`seashiv`\n",
            "\n",
            "seasonal hibernal leaves, a binary factor.\n",
            "\n",
            "`seasver`\n",
            "\n",
            "seasonal vernal leaves, a binary factor.\n",
            "\n",
            "`everalw`\n",
            "\n",
            "leaves always evergreen, a binary factor.\n",
            "\n",
            "`everparti`\n",
            "\n",
            "leaves partially evergreen, a binary factor.\n",
            "\n",
            "`elaio`\n",
            "\n",
            "fruits with an elaiosome (dispersed by ants), a binary factor.\n",
            "\n",
            "`endozoo`\n",
            "\n",
            "endozoochorous fruits, a binary factor.\n",
            "\n",
            "`epizoo`\n",
            "\n",
            "epizoochorous fruits, a binary factor.\n",
            "\n",
            "`aquat`\n",
            "\n",
            "aquatic dispersal fruits, a binary factor.\n",
            "\n",
            "`windgl`\n",
            "\n",
            "wind dispersed fruits, a binary factor.\n",
            "\n",
            "`unsp`\n",
            "\n",
            "unspecialized mechanism of seed dispersal, a binary factor.\n",
            "\n",
            "### Details\n",
            "\n",
            "Most of factor attributes are not disjunctive. For example, a plant can be\n",
            "usually pollinated by insects but sometimes self-pollination can occured.\n",
            "\n",
            "### Source\n",
            "\n",
            "Vallet, Jeanne (2005) _Structuration de communautÃ©s vÃ©gÃ©tales et analyse\n",
            "comparative de traits biologiques le long d'un gradient d'urbanisation_.\n",
            "MÃ©moire de Master 2 'Ecologie-BiodiversitÃ©-Evolution'; UniversitÃ© Paris Sud\n",
            "XI, 30p.+ annexes (in french)\n",
            "\n",
            "### Examples\n",
            "\n",
            "    data(plantTraits)\n",
            "    ## Calculation of a dissimilarity matrix\n",
            "    library(cluster)\n",
            "    dai.b <- daisy(plantTraits,\n",
            "                   type = list(ordratio = 4:11, symm = 12:13, asymm = 14:31))\n",
            "    ## Hierarchical classification\n",
            "    agn.trts <- agnes(dai.b, method=\"ward\")\n",
            "    plot(agn.trts, which.plots = 2, cex= 0.6)\n",
            "    plot(agn.trts, which.plots = 1)\n",
            "    cutree6 <- cutree(agn.trts, k=6)\n",
            "    cutree6\n",
            "    ## Principal Coordinate Analysis\n",
            "    cmdsdai.b <- cmdscale(dai.b, k=6)\n",
            "    plot(cmdsdai.b[, 1:2], asp = 1, col = cutree6)\n",
            "\n",
            "\n"
          ]
        }
      ],
      "source": [
        "# Retorna a documentação do dataset\n",
        "data('plantTraits', show_doc=True)\n",
        "\n",
        "# Retorna o dataset\n",
        "df = data('plantTraits')"
      ]
    },
    {
      "attachments": {},
      "cell_type": "markdown",
      "metadata": {},
      "source": [
        "#### 2. Imprimir na tela o dataset."
      ]
    },
    {
      "cell_type": "code",
      "execution_count": 265,
      "metadata": {
        "colab": {
          "base_uri": "https://localhost:8080/",
          "height": 456
        },
        "id": "UTv7cC8GEzl4",
        "outputId": "5982768a-970f-4f94-83e1-1947e743cd80"
      },
      "outputs": [
        {
          "data": {
            "text/html": [
              "<div>\n",
              "<style scoped>\n",
              "    .dataframe tbody tr th:only-of-type {\n",
              "        vertical-align: middle;\n",
              "    }\n",
              "\n",
              "    .dataframe tbody tr th {\n",
              "        vertical-align: top;\n",
              "    }\n",
              "\n",
              "    .dataframe thead th {\n",
              "        text-align: right;\n",
              "    }\n",
              "</style>\n",
              "<table border=\"1\" class=\"dataframe\">\n",
              "  <thead>\n",
              "    <tr style=\"text-align: right;\">\n",
              "      <th></th>\n",
              "      <th>pdias</th>\n",
              "      <th>longindex</th>\n",
              "      <th>durflow</th>\n",
              "      <th>height</th>\n",
              "      <th>begflow</th>\n",
              "      <th>mycor</th>\n",
              "      <th>vegaer</th>\n",
              "      <th>vegsout</th>\n",
              "      <th>autopoll</th>\n",
              "      <th>insects</th>\n",
              "      <th>wind</th>\n",
              "      <th>lign</th>\n",
              "      <th>piq</th>\n",
              "      <th>ros</th>\n",
              "      <th>semiros</th>\n",
              "      <th>leafy</th>\n",
              "      <th>suman</th>\n",
              "      <th>winan</th>\n",
              "      <th>monocarp</th>\n",
              "      <th>polycarp</th>\n",
              "      <th>seasaes</th>\n",
              "      <th>seashiv</th>\n",
              "      <th>seasver</th>\n",
              "      <th>everalw</th>\n",
              "      <th>everparti</th>\n",
              "      <th>elaio</th>\n",
              "      <th>endozoo</th>\n",
              "      <th>epizoo</th>\n",
              "      <th>aquat</th>\n",
              "      <th>windgl</th>\n",
              "      <th>unsp</th>\n",
              "    </tr>\n",
              "  </thead>\n",
              "  <tbody>\n",
              "    <tr>\n",
              "      <th>Aceca</th>\n",
              "      <td>96.84</td>\n",
              "      <td>0.000000</td>\n",
              "      <td>2</td>\n",
              "      <td>7</td>\n",
              "      <td>5</td>\n",
              "      <td>2.0</td>\n",
              "      <td>0.0</td>\n",
              "      <td>0.0</td>\n",
              "      <td>0</td>\n",
              "      <td>4</td>\n",
              "      <td>0</td>\n",
              "      <td>1</td>\n",
              "      <td>0</td>\n",
              "      <td>0.0</td>\n",
              "      <td>0.0</td>\n",
              "      <td>1.0</td>\n",
              "      <td>0</td>\n",
              "      <td>0</td>\n",
              "      <td>0</td>\n",
              "      <td>1</td>\n",
              "      <td>1.0</td>\n",
              "      <td>0.0</td>\n",
              "      <td>0.0</td>\n",
              "      <td>0.0</td>\n",
              "      <td>0.0</td>\n",
              "      <td>0.0</td>\n",
              "      <td>0.0</td>\n",
              "      <td>0.0</td>\n",
              "      <td>0.0</td>\n",
              "      <td>1.0</td>\n",
              "      <td>0.0</td>\n",
              "    </tr>\n",
              "    <tr>\n",
              "      <th>Aceps</th>\n",
              "      <td>110.72</td>\n",
              "      <td>0.000000</td>\n",
              "      <td>3</td>\n",
              "      <td>8</td>\n",
              "      <td>4</td>\n",
              "      <td>2.0</td>\n",
              "      <td>0.0</td>\n",
              "      <td>0.0</td>\n",
              "      <td>0</td>\n",
              "      <td>4</td>\n",
              "      <td>0</td>\n",
              "      <td>1</td>\n",
              "      <td>0</td>\n",
              "      <td>0.0</td>\n",
              "      <td>0.0</td>\n",
              "      <td>1.0</td>\n",
              "      <td>0</td>\n",
              "      <td>0</td>\n",
              "      <td>0</td>\n",
              "      <td>1</td>\n",
              "      <td>1.0</td>\n",
              "      <td>0.0</td>\n",
              "      <td>0.0</td>\n",
              "      <td>0.0</td>\n",
              "      <td>0.0</td>\n",
              "      <td>0.0</td>\n",
              "      <td>0.0</td>\n",
              "      <td>0.0</td>\n",
              "      <td>0.0</td>\n",
              "      <td>1.0</td>\n",
              "      <td>0.0</td>\n",
              "    </tr>\n",
              "    <tr>\n",
              "      <th>Agrca</th>\n",
              "      <td>0.06</td>\n",
              "      <td>0.666667</td>\n",
              "      <td>3</td>\n",
              "      <td>2</td>\n",
              "      <td>6</td>\n",
              "      <td>2.0</td>\n",
              "      <td>0.0</td>\n",
              "      <td>1.0</td>\n",
              "      <td>0</td>\n",
              "      <td>0</td>\n",
              "      <td>4</td>\n",
              "      <td>0</td>\n",
              "      <td>0</td>\n",
              "      <td>0.0</td>\n",
              "      <td>0.0</td>\n",
              "      <td>1.0</td>\n",
              "      <td>0</td>\n",
              "      <td>0</td>\n",
              "      <td>0</td>\n",
              "      <td>1</td>\n",
              "      <td>0.0</td>\n",
              "      <td>0.0</td>\n",
              "      <td>0.0</td>\n",
              "      <td>1.0</td>\n",
              "      <td>0.0</td>\n",
              "      <td>0.0</td>\n",
              "      <td>0.0</td>\n",
              "      <td>0.0</td>\n",
              "      <td>0.0</td>\n",
              "      <td>0.0</td>\n",
              "      <td>1.0</td>\n",
              "    </tr>\n",
              "    <tr>\n",
              "      <th>Agrst</th>\n",
              "      <td>0.08</td>\n",
              "      <td>0.488889</td>\n",
              "      <td>2</td>\n",
              "      <td>2</td>\n",
              "      <td>7</td>\n",
              "      <td>1.0</td>\n",
              "      <td>2.0</td>\n",
              "      <td>0.0</td>\n",
              "      <td>0</td>\n",
              "      <td>0</td>\n",
              "      <td>4</td>\n",
              "      <td>0</td>\n",
              "      <td>0</td>\n",
              "      <td>0.0</td>\n",
              "      <td>0.0</td>\n",
              "      <td>1.0</td>\n",
              "      <td>0</td>\n",
              "      <td>0</td>\n",
              "      <td>0</td>\n",
              "      <td>1</td>\n",
              "      <td>0.0</td>\n",
              "      <td>0.0</td>\n",
              "      <td>0.0</td>\n",
              "      <td>1.0</td>\n",
              "      <td>0.0</td>\n",
              "      <td>0.0</td>\n",
              "      <td>0.0</td>\n",
              "      <td>0.0</td>\n",
              "      <td>0.0</td>\n",
              "      <td>0.0</td>\n",
              "      <td>1.0</td>\n",
              "    </tr>\n",
              "    <tr>\n",
              "      <th>Ajure</th>\n",
              "      <td>1.48</td>\n",
              "      <td>0.476190</td>\n",
              "      <td>3</td>\n",
              "      <td>2</td>\n",
              "      <td>5</td>\n",
              "      <td>2.0</td>\n",
              "      <td>2.0</td>\n",
              "      <td>0.0</td>\n",
              "      <td>1</td>\n",
              "      <td>3</td>\n",
              "      <td>0</td>\n",
              "      <td>0</td>\n",
              "      <td>0</td>\n",
              "      <td>0.0</td>\n",
              "      <td>1.0</td>\n",
              "      <td>0.0</td>\n",
              "      <td>0</td>\n",
              "      <td>0</td>\n",
              "      <td>0</td>\n",
              "      <td>1</td>\n",
              "      <td>0.0</td>\n",
              "      <td>0.0</td>\n",
              "      <td>0.0</td>\n",
              "      <td>1.0</td>\n",
              "      <td>0.0</td>\n",
              "      <td>1.0</td>\n",
              "      <td>0.0</td>\n",
              "      <td>0.0</td>\n",
              "      <td>0.0</td>\n",
              "      <td>0.0</td>\n",
              "      <td>0.0</td>\n",
              "    </tr>\n",
              "    <tr>\n",
              "      <th>Allpe</th>\n",
              "      <td>2.33</td>\n",
              "      <td>0.500000</td>\n",
              "      <td>3</td>\n",
              "      <td>5</td>\n",
              "      <td>4</td>\n",
              "      <td>0.0</td>\n",
              "      <td>0.0</td>\n",
              "      <td>0.0</td>\n",
              "      <td>3</td>\n",
              "      <td>3</td>\n",
              "      <td>0</td>\n",
              "      <td>0</td>\n",
              "      <td>0</td>\n",
              "      <td>0.0</td>\n",
              "      <td>1.0</td>\n",
              "      <td>0.0</td>\n",
              "      <td>1</td>\n",
              "      <td>0</td>\n",
              "      <td>1</td>\n",
              "      <td>0</td>\n",
              "      <td>0.0</td>\n",
              "      <td>1.0</td>\n",
              "      <td>0.0</td>\n",
              "      <td>0.0</td>\n",
              "      <td>0.0</td>\n",
              "      <td>0.0</td>\n",
              "      <td>0.0</td>\n",
              "      <td>0.0</td>\n",
              "      <td>0.0</td>\n",
              "      <td>0.0</td>\n",
              "      <td>1.0</td>\n",
              "    </tr>\n",
              "    <tr>\n",
              "      <th>Anaar</th>\n",
              "      <td>0.38</td>\n",
              "      <td>0.904762</td>\n",
              "      <td>3</td>\n",
              "      <td>2</td>\n",
              "      <td>6</td>\n",
              "      <td>2.0</td>\n",
              "      <td>0.0</td>\n",
              "      <td>0.0</td>\n",
              "      <td>3</td>\n",
              "      <td>2</td>\n",
              "      <td>0</td>\n",
              "      <td>0</td>\n",
              "      <td>0</td>\n",
              "      <td>0.0</td>\n",
              "      <td>0.0</td>\n",
              "      <td>1.0</td>\n",
              "      <td>1</td>\n",
              "      <td>1</td>\n",
              "      <td>0</td>\n",
              "      <td>0</td>\n",
              "      <td>0.0</td>\n",
              "      <td>0.0</td>\n",
              "      <td>0.0</td>\n",
              "      <td>0.0</td>\n",
              "      <td>1.0</td>\n",
              "      <td>0.0</td>\n",
              "      <td>0.0</td>\n",
              "      <td>0.0</td>\n",
              "      <td>0.0</td>\n",
              "      <td>0.0</td>\n",
              "      <td>1.0</td>\n",
              "    </tr>\n",
              "    <tr>\n",
              "      <th>Anene</th>\n",
              "      <td>2.55</td>\n",
              "      <td>0.066667</td>\n",
              "      <td>3</td>\n",
              "      <td>2</td>\n",
              "      <td>3</td>\n",
              "      <td>2.0</td>\n",
              "      <td>0.0</td>\n",
              "      <td>2.0</td>\n",
              "      <td>1</td>\n",
              "      <td>3</td>\n",
              "      <td>0</td>\n",
              "      <td>0</td>\n",
              "      <td>0</td>\n",
              "      <td>0.0</td>\n",
              "      <td>1.0</td>\n",
              "      <td>0.0</td>\n",
              "      <td>0</td>\n",
              "      <td>0</td>\n",
              "      <td>0</td>\n",
              "      <td>1</td>\n",
              "      <td>0.0</td>\n",
              "      <td>0.0</td>\n",
              "      <td>1.0</td>\n",
              "      <td>0.0</td>\n",
              "      <td>0.0</td>\n",
              "      <td>0.0</td>\n",
              "      <td>0.0</td>\n",
              "      <td>1.0</td>\n",
              "      <td>0.0</td>\n",
              "      <td>0.0</td>\n",
              "      <td>0.0</td>\n",
              "    </tr>\n",
              "    <tr>\n",
              "      <th>Angsy</th>\n",
              "      <td>1.48</td>\n",
              "      <td>0.210526</td>\n",
              "      <td>3</td>\n",
              "      <td>3</td>\n",
              "      <td>7</td>\n",
              "      <td>2.0</td>\n",
              "      <td>0.0</td>\n",
              "      <td>0.0</td>\n",
              "      <td>0</td>\n",
              "      <td>3</td>\n",
              "      <td>0</td>\n",
              "      <td>0</td>\n",
              "      <td>0</td>\n",
              "      <td>0.0</td>\n",
              "      <td>1.0</td>\n",
              "      <td>0.0</td>\n",
              "      <td>0</td>\n",
              "      <td>0</td>\n",
              "      <td>1</td>\n",
              "      <td>1</td>\n",
              "      <td>1.0</td>\n",
              "      <td>0.0</td>\n",
              "      <td>0.0</td>\n",
              "      <td>0.0</td>\n",
              "      <td>0.0</td>\n",
              "      <td>0.0</td>\n",
              "      <td>0.0</td>\n",
              "      <td>0.0</td>\n",
              "      <td>1.0</td>\n",
              "      <td>0.0</td>\n",
              "      <td>0.0</td>\n",
              "    </tr>\n",
              "    <tr>\n",
              "      <th>Antod</th>\n",
              "      <td>0.52</td>\n",
              "      <td>0.369565</td>\n",
              "      <td>3</td>\n",
              "      <td>2</td>\n",
              "      <td>4</td>\n",
              "      <td>2.0</td>\n",
              "      <td>0.0</td>\n",
              "      <td>0.0</td>\n",
              "      <td>2</td>\n",
              "      <td>0</td>\n",
              "      <td>3</td>\n",
              "      <td>0</td>\n",
              "      <td>0</td>\n",
              "      <td>0.0</td>\n",
              "      <td>0.0</td>\n",
              "      <td>1.0</td>\n",
              "      <td>0</td>\n",
              "      <td>0</td>\n",
              "      <td>0</td>\n",
              "      <td>1</td>\n",
              "      <td>0.0</td>\n",
              "      <td>0.0</td>\n",
              "      <td>0.0</td>\n",
              "      <td>1.0</td>\n",
              "      <td>0.0</td>\n",
              "      <td>0.0</td>\n",
              "      <td>0.0</td>\n",
              "      <td>1.0</td>\n",
              "      <td>0.0</td>\n",
              "      <td>0.0</td>\n",
              "      <td>0.0</td>\n",
              "    </tr>\n",
              "  </tbody>\n",
              "</table>\n",
              "</div>"
            ],
            "text/plain": [
              "        pdias  longindex  durflow  height  begflow  mycor  vegaer  vegsout  \\\n",
              "Aceca   96.84   0.000000        2       7        5    2.0     0.0      0.0   \n",
              "Aceps  110.72   0.000000        3       8        4    2.0     0.0      0.0   \n",
              "Agrca    0.06   0.666667        3       2        6    2.0     0.0      1.0   \n",
              "Agrst    0.08   0.488889        2       2        7    1.0     2.0      0.0   \n",
              "Ajure    1.48   0.476190        3       2        5    2.0     2.0      0.0   \n",
              "Allpe    2.33   0.500000        3       5        4    0.0     0.0      0.0   \n",
              "Anaar    0.38   0.904762        3       2        6    2.0     0.0      0.0   \n",
              "Anene    2.55   0.066667        3       2        3    2.0     0.0      2.0   \n",
              "Angsy    1.48   0.210526        3       3        7    2.0     0.0      0.0   \n",
              "Antod    0.52   0.369565        3       2        4    2.0     0.0      0.0   \n",
              "\n",
              "       autopoll  insects  wind  lign  piq  ros  semiros  leafy  suman  winan  \\\n",
              "Aceca         0        4     0     1    0  0.0      0.0    1.0      0      0   \n",
              "Aceps         0        4     0     1    0  0.0      0.0    1.0      0      0   \n",
              "Agrca         0        0     4     0    0  0.0      0.0    1.0      0      0   \n",
              "Agrst         0        0     4     0    0  0.0      0.0    1.0      0      0   \n",
              "Ajure         1        3     0     0    0  0.0      1.0    0.0      0      0   \n",
              "Allpe         3        3     0     0    0  0.0      1.0    0.0      1      0   \n",
              "Anaar         3        2     0     0    0  0.0      0.0    1.0      1      1   \n",
              "Anene         1        3     0     0    0  0.0      1.0    0.0      0      0   \n",
              "Angsy         0        3     0     0    0  0.0      1.0    0.0      0      0   \n",
              "Antod         2        0     3     0    0  0.0      0.0    1.0      0      0   \n",
              "\n",
              "       monocarp  polycarp  seasaes  seashiv  seasver  everalw  everparti  \\\n",
              "Aceca         0         1      1.0      0.0      0.0      0.0        0.0   \n",
              "Aceps         0         1      1.0      0.0      0.0      0.0        0.0   \n",
              "Agrca         0         1      0.0      0.0      0.0      1.0        0.0   \n",
              "Agrst         0         1      0.0      0.0      0.0      1.0        0.0   \n",
              "Ajure         0         1      0.0      0.0      0.0      1.0        0.0   \n",
              "Allpe         1         0      0.0      1.0      0.0      0.0        0.0   \n",
              "Anaar         0         0      0.0      0.0      0.0      0.0        1.0   \n",
              "Anene         0         1      0.0      0.0      1.0      0.0        0.0   \n",
              "Angsy         1         1      1.0      0.0      0.0      0.0        0.0   \n",
              "Antod         0         1      0.0      0.0      0.0      1.0        0.0   \n",
              "\n",
              "       elaio  endozoo  epizoo  aquat  windgl  unsp  \n",
              "Aceca    0.0      0.0     0.0    0.0     1.0   0.0  \n",
              "Aceps    0.0      0.0     0.0    0.0     1.0   0.0  \n",
              "Agrca    0.0      0.0     0.0    0.0     0.0   1.0  \n",
              "Agrst    0.0      0.0     0.0    0.0     0.0   1.0  \n",
              "Ajure    1.0      0.0     0.0    0.0     0.0   0.0  \n",
              "Allpe    0.0      0.0     0.0    0.0     0.0   1.0  \n",
              "Anaar    0.0      0.0     0.0    0.0     0.0   1.0  \n",
              "Anene    0.0      0.0     1.0    0.0     0.0   0.0  \n",
              "Angsy    0.0      0.0     0.0    1.0     0.0   0.0  \n",
              "Antod    0.0      0.0     1.0    0.0     0.0   0.0  "
            ]
          },
          "metadata": {},
          "output_type": "display_data"
        }
      ],
      "source": [
        "display(df.head(10))"
      ]
    },
    {
      "attachments": {},
      "cell_type": "markdown",
      "metadata": {
        "id": "PCSu_xiPFCPr"
      },
      "source": [
        "#### 3. Informe o tipo de dados retornado pela função data."
      ]
    },
    {
      "cell_type": "code",
      "execution_count": 266,
      "metadata": {
        "colab": {
          "base_uri": "https://localhost:8080/"
        },
        "id": "fjqtlxnkFEG8",
        "outputId": "af8297f3-acb6-49b8-ad55-58f3aeaf5deb"
      },
      "outputs": [
        {
          "name": "stdout",
          "output_type": "stream",
          "text": [
            "A função data() retorna um objeto do tipo: <class 'pandas.core.frame.DataFrame'>\n"
          ]
        }
      ],
      "source": [
        "print(f\"A função data() retorna um objeto do tipo: {type(df)}\")"
      ]
    },
    {
      "cell_type": "code",
      "execution_count": 267,
      "metadata": {
        "colab": {
          "base_uri": "https://localhost:8080/"
        },
        "id": "Pkbku0pQFEWB",
        "outputId": "5e729375-d603-4206-a2cb-f8e385331053"
      },
      "outputs": [
        {
          "name": "stdout",
          "output_type": "stream",
          "text": [
            "<class 'pandas.core.frame.DataFrame'>\n",
            "Index: 136 entries, Aceca to Viore\n",
            "Data columns (total 31 columns):\n",
            " #   Column     Non-Null Count  Dtype  \n",
            "---  ------     --------------  -----  \n",
            " 0   pdias      100 non-null    float64\n",
            " 1   longindex  111 non-null    float64\n",
            " 2   durflow    136 non-null    int64  \n",
            " 3   height     136 non-null    int64  \n",
            " 4   begflow    136 non-null    int64  \n",
            " 5   mycor      97 non-null     float64\n",
            " 6   vegaer     134 non-null    float64\n",
            " 7   vegsout    134 non-null    float64\n",
            " 8   autopoll   136 non-null    int64  \n",
            " 9   insects    136 non-null    int64  \n",
            " 10  wind       136 non-null    int64  \n",
            " 11  lign       136 non-null    int64  \n",
            " 12  piq        136 non-null    int64  \n",
            " 13  ros        132 non-null    float64\n",
            " 14  semiros    132 non-null    float64\n",
            " 15  leafy      132 non-null    float64\n",
            " 16  suman      136 non-null    int64  \n",
            " 17  winan      136 non-null    int64  \n",
            " 18  monocarp   136 non-null    int64  \n",
            " 19  polycarp   136 non-null    int64  \n",
            " 20  seasaes    132 non-null    float64\n",
            " 21  seashiv    132 non-null    float64\n",
            " 22  seasver    132 non-null    float64\n",
            " 23  everalw    132 non-null    float64\n",
            " 24  everparti  132 non-null    float64\n",
            " 25  elaio      131 non-null    float64\n",
            " 26  endozoo    131 non-null    float64\n",
            " 27  epizoo     131 non-null    float64\n",
            " 28  aquat      131 non-null    float64\n",
            " 29  windgl     131 non-null    float64\n",
            " 30  unsp       131 non-null    float64\n",
            "dtypes: float64(19), int64(12)\n",
            "memory usage: 34.0+ KB\n"
          ]
        }
      ],
      "source": [
        "df.info()"
      ]
    },
    {
      "attachments": {},
      "cell_type": "markdown",
      "metadata": {
        "id": "GgrOp3XKFm-Y"
      },
      "source": [
        "#### 4. Informe o número de exemplos (linhas) e características (colunas) do dataset."
      ]
    },
    {
      "cell_type": "code",
      "execution_count": 268,
      "metadata": {
        "colab": {
          "base_uri": "https://localhost:8080/"
        },
        "id": "BhLK05PUFEY_",
        "outputId": "273d6d9a-ab92-4262-a550-993709d1004c"
      },
      "outputs": [
        {
          "name": "stdout",
          "output_type": "stream",
          "text": [
            "plantTraits possui 136 linhas e 31 colunas\n"
          ]
        }
      ],
      "source": [
        "print(f\"plantTraits possui {df.shape[0]} linhas e {df.shape[1]} colunas\")\n"
      ]
    },
    {
      "attachments": {},
      "cell_type": "markdown",
      "metadata": {
        "id": "jlMLwNsUF4Ls"
      },
      "source": [
        "#### 5. Crie uma função que ao receber um DataFrame retorna o número de linhas e colunas."
      ]
    },
    {
      "cell_type": "code",
      "execution_count": 269,
      "metadata": {
        "colab": {
          "base_uri": "https://localhost:8080/"
        },
        "id": "D51iTyo0F5di",
        "outputId": "780d440f-322c-4478-ac0b-fa09a3885f2e"
      },
      "outputs": [
        {
          "data": {
            "text/plain": [
              "(136, 31)"
            ]
          },
          "execution_count": 269,
          "metadata": {},
          "output_type": "execute_result"
        }
      ],
      "source": [
        "def numero_linhas_colunas(df):\n",
        "  return df.shape\n",
        "\n",
        "numero_linhas_colunas(df)"
      ]
    },
    {
      "cell_type": "markdown",
      "metadata": {
        "id": "sLEJ44kwCJIs"
      },
      "source": [
        "## Desafio 2: Conversão"
      ]
    },
    {
      "attachments": {},
      "cell_type": "markdown",
      "metadata": {
        "id": "LXAd5cIYGsXS"
      },
      "source": [
        "Definição do problema: Dada a tabela com a média de altura e peso de mulheres estadunidenses, onde os nomes das colunas estão em inglês height (altura) e weight (peso) e seus respectivos valores estão nas seguintes unidades: polegada e libras.\n",
        "1. Construa uma nova representação onde os nomes das colunas estão em português, e os valores de altura são convertidos para centímetros e os valores de peso convertidos para quilograma.\n",
        "2. Plote o scatterplot de altura x peso da nova representação.\n",
        "\n",
        "Código do dataset: women\n",
        "\n",
        "Dicas:\n",
        "* 1 polegada = 2,54 centímetros\n",
        "* 1 libra = 0,45 quilos\n",
        "* use o método .plot.scatter()"
      ]
    },
    {
      "cell_type": "code",
      "execution_count": 270,
      "metadata": {},
      "outputs": [
        {
          "name": "stdout",
          "output_type": "stream",
          "text": [
            "women\n",
            "\n",
            "PyDataset Documentation (adopted from R Documentation. The displayed examples are in R)\n",
            "\n",
            "## Average Heights and Weights for American Women\n",
            "\n",
            "### Description\n",
            "\n",
            "This data set gives the average heights and weights for American women aged\n",
            "30–39.\n",
            "\n",
            "### Usage\n",
            "\n",
            "    women\n",
            "\n",
            "### Format\n",
            "\n",
            "A data frame with 15 observations on 2 variables.\n",
            "\n",
            "`[,1]`\n",
            "\n",
            "`height`\n",
            "\n",
            "numeric\n",
            "\n",
            "Height (in)\n",
            "\n",
            "`[,2]`\n",
            "\n",
            "`weight`\n",
            "\n",
            "numeric\n",
            "\n",
            "Weight (lbs)\n",
            "\n",
            "### Details\n",
            "\n",
            "The data set appears to have been taken from the American Society of Actuaries\n",
            "_Build and Blood Pressure Study_ for some (unknown to us) earlier year.\n",
            "\n",
            "The World Almanac notes: “The figures represent weights in ordinary indoor\n",
            "clothing and shoes, and heights with shoes”.\n",
            "\n",
            "### Source\n",
            "\n",
            "The World Almanac and Book of Facts, 1975.\n",
            "\n",
            "### References\n",
            "\n",
            "McNeil, D. R. (1977) _Interactive Data Analysis_. Wiley.\n",
            "\n",
            "### Examples\n",
            "\n",
            "    require(graphics)\n",
            "    plot(women, xlab = \"Height (in)\", ylab = \"Weight (lb)\",\n",
            "         main = \"women data: American women aged 30-39\")\n",
            "\n",
            "\n"
          ]
        }
      ],
      "source": [
        "data('women', show_doc=True)\n",
        "df = data('women')"
      ]
    },
    {
      "cell_type": "code",
      "execution_count": 271,
      "metadata": {},
      "outputs": [
        {
          "data": {
            "text/html": [
              "<div>\n",
              "<style scoped>\n",
              "    .dataframe tbody tr th:only-of-type {\n",
              "        vertical-align: middle;\n",
              "    }\n",
              "\n",
              "    .dataframe tbody tr th {\n",
              "        vertical-align: top;\n",
              "    }\n",
              "\n",
              "    .dataframe thead th {\n",
              "        text-align: right;\n",
              "    }\n",
              "</style>\n",
              "<table border=\"1\" class=\"dataframe\">\n",
              "  <thead>\n",
              "    <tr style=\"text-align: right;\">\n",
              "      <th></th>\n",
              "      <th>height</th>\n",
              "      <th>weight</th>\n",
              "    </tr>\n",
              "  </thead>\n",
              "  <tbody>\n",
              "    <tr>\n",
              "      <th>1</th>\n",
              "      <td>58</td>\n",
              "      <td>115</td>\n",
              "    </tr>\n",
              "    <tr>\n",
              "      <th>2</th>\n",
              "      <td>59</td>\n",
              "      <td>117</td>\n",
              "    </tr>\n",
              "    <tr>\n",
              "      <th>3</th>\n",
              "      <td>60</td>\n",
              "      <td>120</td>\n",
              "    </tr>\n",
              "    <tr>\n",
              "      <th>4</th>\n",
              "      <td>61</td>\n",
              "      <td>123</td>\n",
              "    </tr>\n",
              "    <tr>\n",
              "      <th>5</th>\n",
              "      <td>62</td>\n",
              "      <td>126</td>\n",
              "    </tr>\n",
              "  </tbody>\n",
              "</table>\n",
              "</div>"
            ],
            "text/plain": [
              "   height  weight\n",
              "1      58     115\n",
              "2      59     117\n",
              "3      60     120\n",
              "4      61     123\n",
              "5      62     126"
            ]
          },
          "metadata": {},
          "output_type": "display_data"
        }
      ],
      "source": [
        "display(df.head())"
      ]
    },
    {
      "cell_type": "code",
      "execution_count": 272,
      "metadata": {},
      "outputs": [
        {
          "name": "stdout",
          "output_type": "stream",
          "text": [
            "<class 'pandas.core.frame.DataFrame'>\n",
            "Int64Index: 15 entries, 1 to 15\n",
            "Data columns (total 2 columns):\n",
            " #   Column  Non-Null Count  Dtype\n",
            "---  ------  --------------  -----\n",
            " 0   height  15 non-null     int64\n",
            " 1   weight  15 non-null     int64\n",
            "dtypes: int64(2)\n",
            "memory usage: 360.0 bytes\n"
          ]
        }
      ],
      "source": [
        "df.info()"
      ]
    },
    {
      "attachments": {},
      "cell_type": "markdown",
      "metadata": {},
      "source": [
        "#### 1. Construa uma nova representação onde os nomes das colunas estão em português, e os valores de altura são convertidos para centímetros e os valores de peso convertidos para quilograma."
      ]
    },
    {
      "cell_type": "code",
      "execution_count": 273,
      "metadata": {},
      "outputs": [
        {
          "data": {
            "text/html": [
              "<div>\n",
              "<style scoped>\n",
              "    .dataframe tbody tr th:only-of-type {\n",
              "        vertical-align: middle;\n",
              "    }\n",
              "\n",
              "    .dataframe tbody tr th {\n",
              "        vertical-align: top;\n",
              "    }\n",
              "\n",
              "    .dataframe thead th {\n",
              "        text-align: right;\n",
              "    }\n",
              "</style>\n",
              "<table border=\"1\" class=\"dataframe\">\n",
              "  <thead>\n",
              "    <tr style=\"text-align: right;\">\n",
              "      <th></th>\n",
              "      <th>altura</th>\n",
              "      <th>peso</th>\n",
              "    </tr>\n",
              "  </thead>\n",
              "  <tbody>\n",
              "    <tr>\n",
              "      <th>1</th>\n",
              "      <td>147.32</td>\n",
              "      <td>51.75</td>\n",
              "    </tr>\n",
              "    <tr>\n",
              "      <th>2</th>\n",
              "      <td>149.86</td>\n",
              "      <td>52.65</td>\n",
              "    </tr>\n",
              "    <tr>\n",
              "      <th>3</th>\n",
              "      <td>152.40</td>\n",
              "      <td>54.00</td>\n",
              "    </tr>\n",
              "    <tr>\n",
              "      <th>4</th>\n",
              "      <td>154.94</td>\n",
              "      <td>55.35</td>\n",
              "    </tr>\n",
              "    <tr>\n",
              "      <th>5</th>\n",
              "      <td>157.48</td>\n",
              "      <td>56.70</td>\n",
              "    </tr>\n",
              "  </tbody>\n",
              "</table>\n",
              "</div>"
            ],
            "text/plain": [
              "   altura   peso\n",
              "1  147.32  51.75\n",
              "2  149.86  52.65\n",
              "3  152.40  54.00\n",
              "4  154.94  55.35\n",
              "5  157.48  56.70"
            ]
          },
          "metadata": {},
          "output_type": "display_data"
        }
      ],
      "source": [
        "df = df.rename(columns={'height': 'altura', 'weight': 'peso'})\n",
        "\n",
        "df.altura = 2.54 * df.altura\n",
        "df.peso = 0.45 * df.peso\n",
        "\n",
        "display(df.head())"
      ]
    },
    {
      "attachments": {},
      "cell_type": "markdown",
      "metadata": {},
      "source": [
        "#### 2. Plote o scatterplot de altura x peso da nova representação."
      ]
    },
    {
      "cell_type": "code",
      "execution_count": 274,
      "metadata": {},
      "outputs": [
        {
          "data": {
            "image/png": "[encoded data removed]",
            "text/plain": [
              "<Figure size 640x480 with 1 Axes>"
            ]
          },
          "metadata": {},
          "output_type": "display_data"
        }
      ],
      "source": [
        "plt.scatter(df.altura, df.peso)\n",
        "plt.title('Altura x Peso')\n",
        "plt.xlabel('Altura (cm)')\n",
        "plt.ylabel('Peso (kg)')\n",
        "plt.show()\n",
        "#, s=None, c=None, marker=None, cmap=None, norm=None, vmin=None, vmax=None, alpha=None, linewidths=None, *, edgecolors=None, plotnonfinite=False, data=None, **kwargs)"
      ]
    },
    {
      "cell_type": "markdown",
      "metadata": {
        "id": "Vv2z3r9sCJXN"
      },
      "source": [
        "## Desafio 3: Titanic"
      ]
    },
    {
      "cell_type": "markdown",
      "metadata": {
        "id": "ePWYXdUyG2Ro"
      },
      "source": [
        "Definição do problema:Dado que você está trabalhando com um grupo de historiadores que estão analisando o naufrágio do Titanic, informe aos historiadores as seguintes questões?\n",
        "1. Quantas pessoas sobreviveram e quantas morreram?\n",
        "2. Quantas pessoas eram da primeira, segunda e terceira classe?\n",
        "3. Qual a porcentagem de sobreviventes na primeira classe?\n",
        "4. Qual a porcentagem de mortos da terceira classe?\n",
        "\n",
        "Código do dataset: titanic\n",
        "\n",
        "Dicas:\n",
        "\n",
        "● value_counts() (Itens 1 e 2)\n",
        "\n",
        "● seleção de subconjuntos (Itens 3 e 4)"
      ]
    },
    {
      "cell_type": "code",
      "execution_count": 275,
      "metadata": {
        "id": "nRZqaAARHfKZ"
      },
      "outputs": [
        {
          "name": "stdout",
          "output_type": "stream",
          "text": [
            "titanic\n",
            "\n",
            "PyDataset Documentation (adopted from R Documentation. The displayed examples are in R)\n",
            "\n",
            "## titanic\n",
            "\n",
            "### Description\n",
            "\n",
            "The data is an observation-based version of the 1912 Titanic passenger\n",
            "survival log,\n",
            "\n",
            "### Usage\n",
            "\n",
            "    data(titanic)\n",
            "\n",
            "### Format\n",
            "\n",
            "A data frame with 1316 observations on the following 4 variables.\n",
            "\n",
            "`class`\n",
            "\n",
            "a factor with levels `1st class` `2nd class` `3rd class` `crew`\n",
            "\n",
            "`age`\n",
            "\n",
            "a factor with levels `child` `adults`\n",
            "\n",
            "`sex`\n",
            "\n",
            "a factor with levels `women` `man`\n",
            "\n",
            "`survived`\n",
            "\n",
            "a factor with levels `no` `yes`\n",
            "\n",
            "### Details\n",
            "\n",
            "titanic is saved as a data frame. Used to assess risk ratios\n",
            "\n",
            "### Source\n",
            "\n",
            "Found in many other texts\n",
            "\n",
            "### References\n",
            "\n",
            "Hilbe, Joseph M (2014), Modeling Count Data, Cambridge University Press Hilbe,\n",
            "Joseph M (2007, 2011), Negative Binomial Regression, Cambridge University\n",
            "Press Hilbe, Joseph M (2009), Logistic Regression Models, Chapman & Hall/CRC\n",
            "\n",
            "### Examples\n",
            "\n",
            "    data(titanic)\n",
            "    titanic$survival <- titanic$survived == \"yes\"\n",
            "    glmlr <- glm(survival ~ age + sex + factor(class), family=binomial, data=titanic)\n",
            "    summary(glmlr)\n",
            "\n",
            "\n"
          ]
        }
      ],
      "source": [
        "data('titanic', show_doc=True)\n",
        "df = data('titanic')"
      ]
    },
    {
      "cell_type": "code",
      "execution_count": 276,
      "metadata": {},
      "outputs": [
        {
          "data": {
            "text/html": [
              "<div>\n",
              "<style scoped>\n",
              "    .dataframe tbody tr th:only-of-type {\n",
              "        vertical-align: middle;\n",
              "    }\n",
              "\n",
              "    .dataframe tbody tr th {\n",
              "        vertical-align: top;\n",
              "    }\n",
              "\n",
              "    .dataframe thead th {\n",
              "        text-align: right;\n",
              "    }\n",
              "</style>\n",
              "<table border=\"1\" class=\"dataframe\">\n",
              "  <thead>\n",
              "    <tr style=\"text-align: right;\">\n",
              "      <th></th>\n",
              "      <th>class</th>\n",
              "      <th>age</th>\n",
              "      <th>sex</th>\n",
              "      <th>survived</th>\n",
              "    </tr>\n",
              "  </thead>\n",
              "  <tbody>\n",
              "    <tr>\n",
              "      <th>1</th>\n",
              "      <td>1st class</td>\n",
              "      <td>adults</td>\n",
              "      <td>man</td>\n",
              "      <td>yes</td>\n",
              "    </tr>\n",
              "    <tr>\n",
              "      <th>2</th>\n",
              "      <td>1st class</td>\n",
              "      <td>adults</td>\n",
              "      <td>man</td>\n",
              "      <td>yes</td>\n",
              "    </tr>\n",
              "    <tr>\n",
              "      <th>3</th>\n",
              "      <td>1st class</td>\n",
              "      <td>adults</td>\n",
              "      <td>man</td>\n",
              "      <td>yes</td>\n",
              "    </tr>\n",
              "    <tr>\n",
              "      <th>4</th>\n",
              "      <td>1st class</td>\n",
              "      <td>adults</td>\n",
              "      <td>man</td>\n",
              "      <td>yes</td>\n",
              "    </tr>\n",
              "    <tr>\n",
              "      <th>5</th>\n",
              "      <td>1st class</td>\n",
              "      <td>adults</td>\n",
              "      <td>man</td>\n",
              "      <td>yes</td>\n",
              "    </tr>\n",
              "  </tbody>\n",
              "</table>\n",
              "</div>"
            ],
            "text/plain": [
              "       class     age  sex survived\n",
              "1  1st class  adults  man      yes\n",
              "2  1st class  adults  man      yes\n",
              "3  1st class  adults  man      yes\n",
              "4  1st class  adults  man      yes\n",
              "5  1st class  adults  man      yes"
            ]
          },
          "metadata": {},
          "output_type": "display_data"
        }
      ],
      "source": [
        "display(df.head())"
      ]
    },
    {
      "cell_type": "code",
      "execution_count": 277,
      "metadata": {},
      "outputs": [
        {
          "name": "stdout",
          "output_type": "stream",
          "text": [
            "<class 'pandas.core.frame.DataFrame'>\n",
            "Int64Index: 1316 entries, 1 to 1316\n",
            "Data columns (total 4 columns):\n",
            " #   Column    Non-Null Count  Dtype \n",
            "---  ------    --------------  ----- \n",
            " 0   class     1316 non-null   object\n",
            " 1   age       1316 non-null   object\n",
            " 2   sex       1316 non-null   object\n",
            " 3   survived  1316 non-null   object\n",
            "dtypes: object(4)\n",
            "memory usage: 51.4+ KB\n"
          ]
        }
      ],
      "source": [
        "df.info()"
      ]
    },
    {
      "attachments": {},
      "cell_type": "markdown",
      "metadata": {},
      "source": [
        "#### 1. Quantas pessoas sobreviveram e quantas morreram?"
      ]
    },
    {
      "cell_type": "code",
      "execution_count": 278,
      "metadata": {},
      "outputs": [],
      "source": [
        "qtd_survived = df['survived'].value_counts()['yes']\n",
        "qtd_not_survives = df['survived'].value_counts()['no']"
      ]
    },
    {
      "cell_type": "code",
      "execution_count": 279,
      "metadata": {},
      "outputs": [
        {
          "name": "stdout",
          "output_type": "stream",
          "text": [
            "Quantidade de sobreviventes: 499\n",
            "Quantidade de óbitos: 817\n"
          ]
        }
      ],
      "source": [
        "print(f\"Quantidade de sobreviventes: {qtd_survived}\")\n",
        "print(f\"Quantidade de óbitos: {qtd_not_survives}\")"
      ]
    },
    {
      "attachments": {},
      "cell_type": "markdown",
      "metadata": {},
      "source": [
        "#### 2. Quantas pessoas eram da primeira, segunda e terceira classe?\n"
      ]
    },
    {
      "cell_type": "code",
      "execution_count": 280,
      "metadata": {},
      "outputs": [
        {
          "data": {
            "text/plain": [
              "3rd class    706\n",
              "1st class    325\n",
              "2nd class    285\n",
              "Name: class, dtype: int64"
            ]
          },
          "execution_count": 280,
          "metadata": {},
          "output_type": "execute_result"
        }
      ],
      "source": [
        "df['class'].value_counts()"
      ]
    },
    {
      "cell_type": "code",
      "execution_count": 281,
      "metadata": {},
      "outputs": [],
      "source": [
        "qtd_1st = df['class'].value_counts()['1st class']\n",
        "qtd_2nd = df['class'].value_counts()['2nd class']\n",
        "qtd_3rd = df['class'].value_counts()['3rd class']"
      ]
    },
    {
      "cell_type": "code",
      "execution_count": 282,
      "metadata": {},
      "outputs": [
        {
          "name": "stdout",
          "output_type": "stream",
          "text": [
            "Quantidade de  na primeira classe: 325\n",
            "Quantidade de passageiros na segunda classe: 285\n",
            "Quantidade de passageiros na terceira classe: 706\n"
          ]
        }
      ],
      "source": [
        "print(f\"Quantidade de  na primeira classe: {qtd_1st}\")\n",
        "print(f\"Quantidade de passageiros na segunda classe: {qtd_2nd}\")\n",
        "print(f\"Quantidade de passageiros na terceira classe: {qtd_3rd}\")"
      ]
    },
    {
      "attachments": {},
      "cell_type": "markdown",
      "metadata": {},
      "source": [
        "#### 3. Qual a porcentagem de sobreviventes na primeira classe?\n"
      ]
    },
    {
      "cell_type": "code",
      "execution_count": 283,
      "metadata": {},
      "outputs": [],
      "source": [
        "df_survived = df[df['survived'] == 'yes']"
      ]
    },
    {
      "cell_type": "code",
      "execution_count": 284,
      "metadata": {},
      "outputs": [
        {
          "data": {
            "text/plain": [
              "1st class    0.406814\n",
              "3rd class    0.356713\n",
              "2nd class    0.236473\n",
              "Name: class, dtype: float64"
            ]
          },
          "execution_count": 284,
          "metadata": {},
          "output_type": "execute_result"
        }
      ],
      "source": [
        "idxs = df.index[df['survived'] == 'yes']\n",
        "df.loc[idxs]['class'].value_counts(normalize=True)"
      ]
    },
    {
      "attachments": {},
      "cell_type": "markdown",
      "metadata": {},
      "source": [
        "40,68% dos sobreviventes eram da primeira classe."
      ]
    },
    {
      "cell_type": "code",
      "execution_count": 285,
      "metadata": {},
      "outputs": [
        {
          "data": {
            "text/plain": [
              "62.46"
            ]
          },
          "execution_count": 285,
          "metadata": {},
          "output_type": "execute_result"
        }
      ],
      "source": [
        "qtd_1st_survived = df.loc[idxs]['class'].value_counts()['1st class']\n",
        "pctg_2 = 100 * qtd_1st_survived / qtd_1st\n",
        "\n",
        "pctg_2.round(2)"
      ]
    },
    {
      "attachments": {},
      "cell_type": "markdown",
      "metadata": {},
      "source": [
        "62.46% das pessoas da primeira classe que sobreviveram."
      ]
    },
    {
      "attachments": {},
      "cell_type": "markdown",
      "metadata": {},
      "source": [
        "#### 4. Qual a porcentagem de mortos da terceira classe?"
      ]
    },
    {
      "cell_type": "code",
      "execution_count": 286,
      "metadata": {},
      "outputs": [
        {
          "data": {
            "text/plain": [
              "3rd class    0.646267\n",
              "2nd class    0.204406\n",
              "1st class    0.149327\n",
              "Name: class, dtype: float64"
            ]
          },
          "execution_count": 286,
          "metadata": {},
          "output_type": "execute_result"
        }
      ],
      "source": [
        "idxs = df.index[df['survived'] == 'no']\n",
        "df.loc[idxs]['class'].value_counts(normalize=True)"
      ]
    },
    {
      "attachments": {},
      "cell_type": "markdown",
      "metadata": {},
      "source": [
        "64,63% dos mortos eram da terceira classe."
      ]
    },
    {
      "cell_type": "code",
      "execution_count": 287,
      "metadata": {},
      "outputs": [
        {
          "data": {
            "text/plain": [
              "74.79"
            ]
          },
          "execution_count": 287,
          "metadata": {},
          "output_type": "execute_result"
        }
      ],
      "source": [
        "qtd_3rd_survived = df.loc[idxs]['class'].value_counts()['3rd class']\n",
        "pctg_1 = 100 * qtd_3rd_survived / qtd_3rd\n",
        "\n",
        "pctg_1.round(2)"
      ]
    },
    {
      "attachments": {},
      "cell_type": "markdown",
      "metadata": {},
      "source": [
        "74.79% das pessoas da terceira classe que morrearam."
      ]
    },
    {
      "cell_type": "markdown",
      "metadata": {
        "id": "dPlqbJFRCJdw"
      },
      "source": [
        "## Desafio 4: Futebol"
      ]
    },
    {
      "cell_type": "markdown",
      "metadata": {
        "id": "eZ8ErtCPHEGi"
      },
      "source": [
        "Definição do problema: Dado que você está trabalhando numa emissora de televisão, o narrador precisa informar o jogo com o maior número de gols na história da Bundesliga (Campeonato Alemão). Você precisa fazer uma busca em todos os jogos da história deste campeonato e verificar qual jogo é esse e passar a informação ao narrador, para posteriormente, o narrador informar aos telespectadores.\n",
        "1. Verificar os jogos com maior quantidade de gols na história da Bundesliga\n",
        "2. Informar a data, os times participantes e o placar do jogo\n",
        "\n",
        "Código do dataset: Bundesliga\n",
        "\n",
        "Dicas:\n",
        "\n",
        "● Criar uma nova variável \"TotalGols\" com o total de gols da partida;\n",
        "\n",
        "● Use o método.max()"
      ]
    },
    {
      "cell_type": "code",
      "execution_count": 288,
      "metadata": {},
      "outputs": [
        {
          "name": "stdout",
          "output_type": "stream",
          "text": [
            "Bundesliga\n",
            "\n",
            "PyDataset Documentation (adopted from R Documentation. The displayed examples are in R)\n",
            "\n",
            "## Ergebnisse der Fussball-Bundesliga\n",
            "\n",
            "### Description\n",
            "\n",
            "Results from the first German soccer league (1963-2008).\n",
            "\n",
            "### Usage\n",
            "\n",
            "    data(\"Bundesliga\")\n",
            "\n",
            "### Format\n",
            "\n",
            "A data frame with 14018 observations and 7 variables.\n",
            "\n",
            "HomeTeam\n",
            "\n",
            "factor. Name of the home team.\n",
            "\n",
            "AwayTeam\n",
            "\n",
            "factor. Name of the away team.\n",
            "\n",
            "HomeGoals\n",
            "\n",
            "number of goals scored by the home team.\n",
            "\n",
            "AwayGoals\n",
            "\n",
            "number of goals scored by the away team.\n",
            "\n",
            "Round\n",
            "\n",
            "round of the game.\n",
            "\n",
            "Year\n",
            "\n",
            "year in which the season started.\n",
            "\n",
            "Date\n",
            "\n",
            "starting time of the game (in `\"POSIXct\"` format).\n",
            "\n",
            "### Details\n",
            "\n",
            "The data comprises all games in the first German soccer league since its\n",
            "foundation in 1963. The data have been queried online from the official Web\n",
            "page of the DFB and prepared as a data frame in R by Daniel Dekic, Torsten\n",
            "Hothorn, and Achim Zeileis (replacing earlier versions of the data in the\n",
            "package containing only subsets of years).\n",
            "\n",
            "Each year/season comprises 34 rounds (except 1963, 1964, 1991) so that all 18\n",
            "teams play twice against each other (switching home court advantage). In\n",
            "1963/64, there were only 16 teams, hence only 30 rounds. In 1991, after the\n",
            "German unification, there was one season with 20 teams and 38 rounds.\n",
            "\n",
            "### Source\n",
            "\n",
            "Homepage of the Deutscher Fussball-Bund (DFB, German Football Association):\n",
            "http://www.dfb.de/\n",
            "\n",
            "### References\n",
            "\n",
            "Leonhard Knorr-Held (1999), Dynamic rating of sports teams. SFB 386\n",
            "“Statistical Analysis of Discrete Structures”, Discussion paper **98**.\n",
            "\n",
            "### See Also\n",
            "\n",
            "`UKSoccer`\n",
            "\n",
            "### Examples\n",
            "\n",
            "    data(\"Bundesliga\")\n",
            "    ## number of goals per game poisson distributed?\n",
            "    ngoals1 <- xtabs(~ HomeGoals, data = Bundesliga, subset = Year == 1995)\n",
            "    ngoals2 <- xtabs(~ AwayGoals, data = Bundesliga, subset = Year == 1995)\n",
            "    ngoals3 <- table(apply(subset(Bundesliga, Year == 1995)[,3:4], 1, sum))\n",
            "    gf1 <- goodfit(ngoals1)\n",
            "    gf2 <- goodfit(ngoals2)\n",
            "    gf3 <- goodfit(ngoals3)\n",
            "    summary(gf1)\n",
            "    summary(gf2)\n",
            "    summary(gf3)\n",
            "    plot(gf1)\n",
            "    plot(gf2)\n",
            "    plot(gf3)\n",
            "    Ord_plot(ngoals1)\n",
            "    distplot(ngoals1)\n",
            "\n",
            "\n"
          ]
        }
      ],
      "source": [
        "data('Bundesliga', show_doc=True)"
      ]
    },
    {
      "cell_type": "code",
      "execution_count": 289,
      "metadata": {},
      "outputs": [
        {
          "data": {
            "text/html": [
              "<div>\n",
              "<style scoped>\n",
              "    .dataframe tbody tr th:only-of-type {\n",
              "        vertical-align: middle;\n",
              "    }\n",
              "\n",
              "    .dataframe tbody tr th {\n",
              "        vertical-align: top;\n",
              "    }\n",
              "\n",
              "    .dataframe thead th {\n",
              "        text-align: right;\n",
              "    }\n",
              "</style>\n",
              "<table border=\"1\" class=\"dataframe\">\n",
              "  <thead>\n",
              "    <tr style=\"text-align: right;\">\n",
              "      <th></th>\n",
              "      <th>HomeTeam</th>\n",
              "      <th>AwayTeam</th>\n",
              "      <th>HomeGoals</th>\n",
              "      <th>AwayGoals</th>\n",
              "      <th>Round</th>\n",
              "      <th>Year</th>\n",
              "      <th>Date</th>\n",
              "    </tr>\n",
              "  </thead>\n",
              "  <tbody>\n",
              "    <tr>\n",
              "      <th>1</th>\n",
              "      <td>Werder Bremen</td>\n",
              "      <td>Borussia Dortmund</td>\n",
              "      <td>3</td>\n",
              "      <td>2</td>\n",
              "      <td>1</td>\n",
              "      <td>1963</td>\n",
              "      <td>1963-08-24 09:30:00</td>\n",
              "    </tr>\n",
              "    <tr>\n",
              "      <th>2</th>\n",
              "      <td>Hertha BSC Berlin</td>\n",
              "      <td>1. FC Nuernberg</td>\n",
              "      <td>1</td>\n",
              "      <td>1</td>\n",
              "      <td>1</td>\n",
              "      <td>1963</td>\n",
              "      <td>1963-08-24 09:30:00</td>\n",
              "    </tr>\n",
              "    <tr>\n",
              "      <th>3</th>\n",
              "      <td>Preussen Muenster</td>\n",
              "      <td>Hamburger SV</td>\n",
              "      <td>1</td>\n",
              "      <td>1</td>\n",
              "      <td>1</td>\n",
              "      <td>1963</td>\n",
              "      <td>1963-08-24 09:30:00</td>\n",
              "    </tr>\n",
              "    <tr>\n",
              "      <th>4</th>\n",
              "      <td>Eintracht Frankfurt</td>\n",
              "      <td>1. FC Kaiserslautern</td>\n",
              "      <td>1</td>\n",
              "      <td>1</td>\n",
              "      <td>1</td>\n",
              "      <td>1963</td>\n",
              "      <td>1963-08-24 09:30:00</td>\n",
              "    </tr>\n",
              "    <tr>\n",
              "      <th>5</th>\n",
              "      <td>Karlsruher SC</td>\n",
              "      <td>Meidericher SV</td>\n",
              "      <td>1</td>\n",
              "      <td>4</td>\n",
              "      <td>1</td>\n",
              "      <td>1963</td>\n",
              "      <td>1963-08-24 09:30:00</td>\n",
              "    </tr>\n",
              "  </tbody>\n",
              "</table>\n",
              "</div>"
            ],
            "text/plain": [
              "              HomeTeam              AwayTeam  HomeGoals  AwayGoals  Round  \\\n",
              "1        Werder Bremen     Borussia Dortmund          3          2      1   \n",
              "2    Hertha BSC Berlin       1. FC Nuernberg          1          1      1   \n",
              "3    Preussen Muenster          Hamburger SV          1          1      1   \n",
              "4  Eintracht Frankfurt  1. FC Kaiserslautern          1          1      1   \n",
              "5        Karlsruher SC        Meidericher SV          1          4      1   \n",
              "\n",
              "   Year                 Date  \n",
              "1  1963  1963-08-24 09:30:00  \n",
              "2  1963  1963-08-24 09:30:00  \n",
              "3  1963  1963-08-24 09:30:00  \n",
              "4  1963  1963-08-24 09:30:00  \n",
              "5  1963  1963-08-24 09:30:00  "
            ]
          },
          "execution_count": 289,
          "metadata": {},
          "output_type": "execute_result"
        }
      ],
      "source": [
        "df = data('Bundesliga')\n",
        "df.head()"
      ]
    },
    {
      "attachments": {},
      "cell_type": "markdown",
      "metadata": {},
      "source": [
        "#### 1. Verificar os jogos com maior quantidade de gols na história da Bundesliga\n"
      ]
    },
    {
      "cell_type": "code",
      "execution_count": 290,
      "metadata": {},
      "outputs": [
        {
          "data": {
            "text/html": [
              "<div>\n",
              "<style scoped>\n",
              "    .dataframe tbody tr th:only-of-type {\n",
              "        vertical-align: middle;\n",
              "    }\n",
              "\n",
              "    .dataframe tbody tr th {\n",
              "        vertical-align: top;\n",
              "    }\n",
              "\n",
              "    .dataframe thead th {\n",
              "        text-align: right;\n",
              "    }\n",
              "</style>\n",
              "<table border=\"1\" class=\"dataframe\">\n",
              "  <thead>\n",
              "    <tr style=\"text-align: right;\">\n",
              "      <th></th>\n",
              "      <th>HomeTeam</th>\n",
              "      <th>AwayTeam</th>\n",
              "      <th>HomeGoals</th>\n",
              "      <th>AwayGoals</th>\n",
              "      <th>Round</th>\n",
              "      <th>Year</th>\n",
              "      <th>Date</th>\n",
              "      <th>TotalGoals</th>\n",
              "    </tr>\n",
              "  </thead>\n",
              "  <tbody>\n",
              "    <tr>\n",
              "      <th>4457</th>\n",
              "      <td>Borussia Moenchengladbach</td>\n",
              "      <td>Borussia Dortmund</td>\n",
              "      <td>12</td>\n",
              "      <td>0</td>\n",
              "      <td>34</td>\n",
              "      <td>1977</td>\n",
              "      <td>1978-04-29 09:30:00</td>\n",
              "      <td>12</td>\n",
              "    </tr>\n",
              "    <tr>\n",
              "      <th>4052</th>\n",
              "      <td>1. FC Koeln</td>\n",
              "      <td>Tennis Borussia Berlin</td>\n",
              "      <td>8</td>\n",
              "      <td>4</td>\n",
              "      <td>23</td>\n",
              "      <td>1976</td>\n",
              "      <td>1977-02-26 09:30:00</td>\n",
              "      <td>12</td>\n",
              "    </tr>\n",
              "    <tr>\n",
              "      <th>2456</th>\n",
              "      <td>Bayern Muenchen</td>\n",
              "      <td>Borussia Dortmund</td>\n",
              "      <td>11</td>\n",
              "      <td>1</td>\n",
              "      <td>16</td>\n",
              "      <td>1971</td>\n",
              "      <td>1971-11-27 09:30:00</td>\n",
              "      <td>12</td>\n",
              "    </tr>\n",
              "    <tr>\n",
              "      <th>81</th>\n",
              "      <td>Borussia Dortmund</td>\n",
              "      <td>1. FC Kaiserslautern</td>\n",
              "      <td>9</td>\n",
              "      <td>3</td>\n",
              "      <td>11</td>\n",
              "      <td>1963</td>\n",
              "      <td>1963-11-16 09:30:00</td>\n",
              "      <td>12</td>\n",
              "    </tr>\n",
              "    <tr>\n",
              "      <th>5788</th>\n",
              "      <td>Borussia Dortmund</td>\n",
              "      <td>Arminia Bielefeld</td>\n",
              "      <td>11</td>\n",
              "      <td>1</td>\n",
              "      <td>12</td>\n",
              "      <td>1982</td>\n",
              "      <td>1982-11-06 09:30:00</td>\n",
              "      <td>12</td>\n",
              "    </tr>\n",
              "  </tbody>\n",
              "</table>\n",
              "</div>"
            ],
            "text/plain": [
              "                       HomeTeam                AwayTeam  HomeGoals  AwayGoals  \\\n",
              "4457  Borussia Moenchengladbach       Borussia Dortmund         12          0   \n",
              "4052                1. FC Koeln  Tennis Borussia Berlin          8          4   \n",
              "2456            Bayern Muenchen       Borussia Dortmund         11          1   \n",
              "81            Borussia Dortmund    1. FC Kaiserslautern          9          3   \n",
              "5788          Borussia Dortmund       Arminia Bielefeld         11          1   \n",
              "\n",
              "      Round  Year                 Date  TotalGoals  \n",
              "4457     34  1977  1978-04-29 09:30:00          12  \n",
              "4052     23  1976  1977-02-26 09:30:00          12  \n",
              "2456     16  1971  1971-11-27 09:30:00          12  \n",
              "81       11  1963  1963-11-16 09:30:00          12  \n",
              "5788     12  1982  1982-11-06 09:30:00          12  "
            ]
          },
          "execution_count": 290,
          "metadata": {},
          "output_type": "execute_result"
        }
      ],
      "source": [
        "df['TotalGoals'] = df['HomeGoals'] + df['AwayGoals']\n",
        "df.sort_values('TotalGoals', ascending=False).head(5)"
      ]
    },
    {
      "attachments": {},
      "cell_type": "markdown",
      "metadata": {},
      "source": [
        "#### 2. Informar a data, os times participantes e o placar do jogo"
      ]
    },
    {
      "cell_type": "code",
      "execution_count": 291,
      "metadata": {},
      "outputs": [
        {
          "data": {
            "text/html": [
              "<div>\n",
              "<style scoped>\n",
              "    .dataframe tbody tr th:only-of-type {\n",
              "        vertical-align: middle;\n",
              "    }\n",
              "\n",
              "    .dataframe tbody tr th {\n",
              "        vertical-align: top;\n",
              "    }\n",
              "\n",
              "    .dataframe thead th {\n",
              "        text-align: right;\n",
              "    }\n",
              "</style>\n",
              "<table border=\"1\" class=\"dataframe\">\n",
              "  <thead>\n",
              "    <tr style=\"text-align: right;\">\n",
              "      <th></th>\n",
              "      <th>Date</th>\n",
              "      <th>HomeTeam</th>\n",
              "      <th>AwayTeam</th>\n",
              "      <th>HomeGoals</th>\n",
              "      <th>AwayGoals</th>\n",
              "    </tr>\n",
              "  </thead>\n",
              "  <tbody>\n",
              "    <tr>\n",
              "      <th>81</th>\n",
              "      <td>1963-11-16 09:30:00</td>\n",
              "      <td>Borussia Dortmund</td>\n",
              "      <td>1. FC Kaiserslautern</td>\n",
              "      <td>9</td>\n",
              "      <td>3</td>\n",
              "    </tr>\n",
              "    <tr>\n",
              "      <th>2456</th>\n",
              "      <td>1971-11-27 09:30:00</td>\n",
              "      <td>Bayern Muenchen</td>\n",
              "      <td>Borussia Dortmund</td>\n",
              "      <td>11</td>\n",
              "      <td>1</td>\n",
              "    </tr>\n",
              "    <tr>\n",
              "      <th>4052</th>\n",
              "      <td>1977-02-26 09:30:00</td>\n",
              "      <td>1. FC Koeln</td>\n",
              "      <td>Tennis Borussia Berlin</td>\n",
              "      <td>8</td>\n",
              "      <td>4</td>\n",
              "    </tr>\n",
              "    <tr>\n",
              "      <th>4457</th>\n",
              "      <td>1978-04-29 09:30:00</td>\n",
              "      <td>Borussia Moenchengladbach</td>\n",
              "      <td>Borussia Dortmund</td>\n",
              "      <td>12</td>\n",
              "      <td>0</td>\n",
              "    </tr>\n",
              "    <tr>\n",
              "      <th>5788</th>\n",
              "      <td>1982-11-06 09:30:00</td>\n",
              "      <td>Borussia Dortmund</td>\n",
              "      <td>Arminia Bielefeld</td>\n",
              "      <td>11</td>\n",
              "      <td>1</td>\n",
              "    </tr>\n",
              "  </tbody>\n",
              "</table>\n",
              "</div>"
            ],
            "text/plain": [
              "                     Date                   HomeTeam                AwayTeam  \\\n",
              "81    1963-11-16 09:30:00          Borussia Dortmund    1. FC Kaiserslautern   \n",
              "2456  1971-11-27 09:30:00            Bayern Muenchen       Borussia Dortmund   \n",
              "4052  1977-02-26 09:30:00                1. FC Koeln  Tennis Borussia Berlin   \n",
              "4457  1978-04-29 09:30:00  Borussia Moenchengladbach       Borussia Dortmund   \n",
              "5788  1982-11-06 09:30:00          Borussia Dortmund       Arminia Bielefeld   \n",
              "\n",
              "      HomeGoals  AwayGoals  \n",
              "81            9          3  \n",
              "2456         11          1  \n",
              "4052          8          4  \n",
              "4457         12          0  \n",
              "5788         11          1  "
            ]
          },
          "metadata": {},
          "output_type": "display_data"
        }
      ],
      "source": [
        "max_goals = df['TotalGoals'].max()\n",
        "\n",
        "display(df[df['TotalGoals'] == max_goals][['Date', 'HomeTeam', 'AwayTeam', 'HomeGoals', 'AwayGoals']])"
      ]
    },
    {
      "cell_type": "markdown",
      "metadata": {
        "id": "ez7ttIiaCJil"
      },
      "source": [
        "## Desafio 5: Forbes"
      ]
    },
    {
      "cell_type": "markdown",
      "metadata": {
        "id": "2FRRKHZJHRqC"
      },
      "source": [
        "Definição do problema: Você está trabalhando em um jornal e o editor quer que você responda as seguintes questões:\n",
        "1. Qual a empresa mais valiosa da lista da Forbes 2000?\n",
        "2. Construa uma tabela com as TOP 10 empresas mais lucrativas da lista.\n",
        "3. Qual a média de valores de empresa das cinco categorias mais valiosas?\n",
        "Código do dataset: Forbes2000\n",
        "\n",
        "Dicas:\n",
        "\n",
        "● Método.max()\n",
        "\n",
        "● Método.nlargest()\n",
        "\n",
        "● Método.groupby()"
      ]
    },
    {
      "cell_type": "code",
      "execution_count": 292,
      "metadata": {},
      "outputs": [
        {
          "name": "stdout",
          "output_type": "stream",
          "text": [
            "Forbes2000\n",
            "\n",
            "PyDataset Documentation (adopted from R Documentation. The displayed examples are in R)\n",
            "\n",
            "##  The Forbes 2000 Ranking of the World's Biggest Companies (Year 2004)\n",
            "\n",
            "### Description\n",
            "\n",
            "The Forbes 2000 list is a ranking of the world's biggest companies, measured\n",
            "by sales, profits, assets and market value.\n",
            "\n",
            "### Usage\n",
            "\n",
            "    data(\"Forbes2000\")\n",
            "\n",
            "### Format\n",
            "\n",
            "A data frame with 2000 observations on the following 8 variables.\n",
            "\n",
            "rank\n",
            "\n",
            "the ranking of the company.\n",
            "\n",
            "name\n",
            "\n",
            "the name of the company.\n",
            "\n",
            "country\n",
            "\n",
            "a factor giving the country the company is situated in.\n",
            "\n",
            "category\n",
            "\n",
            "a factor describing the products the company produces.\n",
            "\n",
            "sales\n",
            "\n",
            "the amount of sales of the company in billion USD.\n",
            "\n",
            "profits\n",
            "\n",
            "the profit of the company in billion USD.\n",
            "\n",
            "assets\n",
            "\n",
            "the assets of the company in billion USD.\n",
            "\n",
            "marketvalue\n",
            "\n",
            "the market value of the company in billion USD.\n",
            "\n",
            "### Source\n",
            "\n",
            "http://www.forbes.com, assessed on November 26th, 2004.\n",
            "\n",
            "### Examples\n",
            "\n",
            "    data(\"Forbes2000\", package = \"HSAUR\")\n",
            "    summary(Forbes2000)\n",
            "    ### number of countries\n",
            "    length(levels(Forbes2000$country))\n",
            "    ### number of industries\n",
            "    length(levels(Forbes2000$category))\n",
            "\n",
            "\n"
          ]
        }
      ],
      "source": [
        "data('Forbes2000', show_doc=True)"
      ]
    },
    {
      "cell_type": "code",
      "execution_count": 293,
      "metadata": {
        "id": "_OVapLyPHZcD"
      },
      "outputs": [
        {
          "data": {
            "text/html": [
              "<div>\n",
              "<style scoped>\n",
              "    .dataframe tbody tr th:only-of-type {\n",
              "        vertical-align: middle;\n",
              "    }\n",
              "\n",
              "    .dataframe tbody tr th {\n",
              "        vertical-align: top;\n",
              "    }\n",
              "\n",
              "    .dataframe thead th {\n",
              "        text-align: right;\n",
              "    }\n",
              "</style>\n",
              "<table border=\"1\" class=\"dataframe\">\n",
              "  <thead>\n",
              "    <tr style=\"text-align: right;\">\n",
              "      <th></th>\n",
              "      <th>rank</th>\n",
              "      <th>name</th>\n",
              "      <th>country</th>\n",
              "      <th>category</th>\n",
              "      <th>sales</th>\n",
              "      <th>profits</th>\n",
              "      <th>assets</th>\n",
              "      <th>marketvalue</th>\n",
              "    </tr>\n",
              "  </thead>\n",
              "  <tbody>\n",
              "    <tr>\n",
              "      <th>1</th>\n",
              "      <td>1</td>\n",
              "      <td>Citigroup</td>\n",
              "      <td>United States</td>\n",
              "      <td>Banking</td>\n",
              "      <td>94.71</td>\n",
              "      <td>17.85</td>\n",
              "      <td>1264.03</td>\n",
              "      <td>255.30</td>\n",
              "    </tr>\n",
              "    <tr>\n",
              "      <th>2</th>\n",
              "      <td>2</td>\n",
              "      <td>General Electric</td>\n",
              "      <td>United States</td>\n",
              "      <td>Conglomerates</td>\n",
              "      <td>134.19</td>\n",
              "      <td>15.59</td>\n",
              "      <td>626.93</td>\n",
              "      <td>328.54</td>\n",
              "    </tr>\n",
              "    <tr>\n",
              "      <th>3</th>\n",
              "      <td>3</td>\n",
              "      <td>American Intl Group</td>\n",
              "      <td>United States</td>\n",
              "      <td>Insurance</td>\n",
              "      <td>76.66</td>\n",
              "      <td>6.46</td>\n",
              "      <td>647.66</td>\n",
              "      <td>194.87</td>\n",
              "    </tr>\n",
              "    <tr>\n",
              "      <th>4</th>\n",
              "      <td>4</td>\n",
              "      <td>ExxonMobil</td>\n",
              "      <td>United States</td>\n",
              "      <td>Oil &amp; gas operations</td>\n",
              "      <td>222.88</td>\n",
              "      <td>20.96</td>\n",
              "      <td>166.99</td>\n",
              "      <td>277.02</td>\n",
              "    </tr>\n",
              "    <tr>\n",
              "      <th>5</th>\n",
              "      <td>5</td>\n",
              "      <td>BP</td>\n",
              "      <td>United Kingdom</td>\n",
              "      <td>Oil &amp; gas operations</td>\n",
              "      <td>232.57</td>\n",
              "      <td>10.27</td>\n",
              "      <td>177.57</td>\n",
              "      <td>173.54</td>\n",
              "    </tr>\n",
              "  </tbody>\n",
              "</table>\n",
              "</div>"
            ],
            "text/plain": [
              "   rank                 name         country              category   sales  \\\n",
              "1     1            Citigroup   United States               Banking   94.71   \n",
              "2     2     General Electric   United States         Conglomerates  134.19   \n",
              "3     3  American Intl Group   United States             Insurance   76.66   \n",
              "4     4           ExxonMobil   United States  Oil & gas operations  222.88   \n",
              "5     5                   BP  United Kingdom  Oil & gas operations  232.57   \n",
              "\n",
              "   profits   assets  marketvalue  \n",
              "1    17.85  1264.03       255.30  \n",
              "2    15.59   626.93       328.54  \n",
              "3     6.46   647.66       194.87  \n",
              "4    20.96   166.99       277.02  \n",
              "5    10.27   177.57       173.54  "
            ]
          },
          "execution_count": 293,
          "metadata": {},
          "output_type": "execute_result"
        }
      ],
      "source": [
        "df = data('Forbes2000')\n",
        "df.head(5)"
      ]
    },
    {
      "attachments": {},
      "cell_type": "markdown",
      "metadata": {},
      "source": [
        "#### 1. Qual a empresa mais valiosa  da Forbes 2000?"
      ]
    },
    {
      "cell_type": "code",
      "execution_count": 294,
      "metadata": {},
      "outputs": [
        {
          "data": {
            "text/html": [
              "<div>\n",
              "<style scoped>\n",
              "    .dataframe tbody tr th:only-of-type {\n",
              "        vertical-align: middle;\n",
              "    }\n",
              "\n",
              "    .dataframe tbody tr th {\n",
              "        vertical-align: top;\n",
              "    }\n",
              "\n",
              "    .dataframe thead th {\n",
              "        text-align: right;\n",
              "    }\n",
              "</style>\n",
              "<table border=\"1\" class=\"dataframe\">\n",
              "  <thead>\n",
              "    <tr style=\"text-align: right;\">\n",
              "      <th></th>\n",
              "      <th>rank</th>\n",
              "      <th>name</th>\n",
              "      <th>country</th>\n",
              "      <th>category</th>\n",
              "      <th>sales</th>\n",
              "      <th>profits</th>\n",
              "      <th>assets</th>\n",
              "      <th>marketvalue</th>\n",
              "    </tr>\n",
              "  </thead>\n",
              "  <tbody>\n",
              "    <tr>\n",
              "      <th>2</th>\n",
              "      <td>2</td>\n",
              "      <td>General Electric</td>\n",
              "      <td>United States</td>\n",
              "      <td>Conglomerates</td>\n",
              "      <td>134.19</td>\n",
              "      <td>15.59</td>\n",
              "      <td>626.93</td>\n",
              "      <td>328.54</td>\n",
              "    </tr>\n",
              "  </tbody>\n",
              "</table>\n",
              "</div>"
            ],
            "text/plain": [
              "   rank              name        country       category   sales  profits  \\\n",
              "2     2  General Electric  United States  Conglomerates  134.19    15.59   \n",
              "\n",
              "   assets  marketvalue  \n",
              "2  626.93       328.54  "
            ]
          },
          "execution_count": 294,
          "metadata": {},
          "output_type": "execute_result"
        }
      ],
      "source": [
        "df.sort_values('marketvalue', ascending=False).head(1)"
      ]
    },
    {
      "attachments": {},
      "cell_type": "markdown",
      "metadata": {},
      "source": [
        "#### 2. Construa uma tabela com as TOP 10 empresas mais lucrativas da lista"
      ]
    },
    {
      "cell_type": "code",
      "execution_count": 295,
      "metadata": {},
      "outputs": [
        {
          "data": {
            "text/html": [
              "<div>\n",
              "<style scoped>\n",
              "    .dataframe tbody tr th:only-of-type {\n",
              "        vertical-align: middle;\n",
              "    }\n",
              "\n",
              "    .dataframe tbody tr th {\n",
              "        vertical-align: top;\n",
              "    }\n",
              "\n",
              "    .dataframe thead th {\n",
              "        text-align: right;\n",
              "    }\n",
              "</style>\n",
              "<table border=\"1\" class=\"dataframe\">\n",
              "  <thead>\n",
              "    <tr style=\"text-align: right;\">\n",
              "      <th></th>\n",
              "      <th>rank</th>\n",
              "      <th>name</th>\n",
              "      <th>country</th>\n",
              "      <th>category</th>\n",
              "      <th>sales</th>\n",
              "      <th>profits</th>\n",
              "      <th>assets</th>\n",
              "      <th>marketvalue</th>\n",
              "    </tr>\n",
              "  </thead>\n",
              "  <tbody>\n",
              "    <tr>\n",
              "      <th>4</th>\n",
              "      <td>4</td>\n",
              "      <td>ExxonMobil</td>\n",
              "      <td>United States</td>\n",
              "      <td>Oil &amp; gas operations</td>\n",
              "      <td>222.88</td>\n",
              "      <td>20.96</td>\n",
              "      <td>166.99</td>\n",
              "      <td>277.02</td>\n",
              "    </tr>\n",
              "    <tr>\n",
              "      <th>1</th>\n",
              "      <td>1</td>\n",
              "      <td>Citigroup</td>\n",
              "      <td>United States</td>\n",
              "      <td>Banking</td>\n",
              "      <td>94.71</td>\n",
              "      <td>17.85</td>\n",
              "      <td>1264.03</td>\n",
              "      <td>255.30</td>\n",
              "    </tr>\n",
              "    <tr>\n",
              "      <th>2</th>\n",
              "      <td>2</td>\n",
              "      <td>General Electric</td>\n",
              "      <td>United States</td>\n",
              "      <td>Conglomerates</td>\n",
              "      <td>134.19</td>\n",
              "      <td>15.59</td>\n",
              "      <td>626.93</td>\n",
              "      <td>328.54</td>\n",
              "    </tr>\n",
              "    <tr>\n",
              "      <th>6</th>\n",
              "      <td>6</td>\n",
              "      <td>Bank of America</td>\n",
              "      <td>United States</td>\n",
              "      <td>Banking</td>\n",
              "      <td>49.01</td>\n",
              "      <td>10.81</td>\n",
              "      <td>736.45</td>\n",
              "      <td>117.55</td>\n",
              "    </tr>\n",
              "    <tr>\n",
              "      <th>5</th>\n",
              "      <td>5</td>\n",
              "      <td>BP</td>\n",
              "      <td>United Kingdom</td>\n",
              "      <td>Oil &amp; gas operations</td>\n",
              "      <td>232.57</td>\n",
              "      <td>10.27</td>\n",
              "      <td>177.57</td>\n",
              "      <td>173.54</td>\n",
              "    </tr>\n",
              "    <tr>\n",
              "      <th>20</th>\n",
              "      <td>20</td>\n",
              "      <td>Freddie Mac</td>\n",
              "      <td>United States</td>\n",
              "      <td>Diversified financials</td>\n",
              "      <td>46.26</td>\n",
              "      <td>10.09</td>\n",
              "      <td>752.25</td>\n",
              "      <td>44.25</td>\n",
              "    </tr>\n",
              "    <tr>\n",
              "      <th>22</th>\n",
              "      <td>22</td>\n",
              "      <td>Altria Group</td>\n",
              "      <td>United States</td>\n",
              "      <td>Food drink &amp; tobacco</td>\n",
              "      <td>60.70</td>\n",
              "      <td>9.20</td>\n",
              "      <td>96.18</td>\n",
              "      <td>111.02</td>\n",
              "    </tr>\n",
              "    <tr>\n",
              "      <th>10</th>\n",
              "      <td>10</td>\n",
              "      <td>Wal-Mart Stores</td>\n",
              "      <td>United States</td>\n",
              "      <td>Retailing</td>\n",
              "      <td>256.33</td>\n",
              "      <td>9.05</td>\n",
              "      <td>104.91</td>\n",
              "      <td>243.74</td>\n",
              "    </tr>\n",
              "    <tr>\n",
              "      <th>31</th>\n",
              "      <td>31</td>\n",
              "      <td>Microsoft</td>\n",
              "      <td>United States</td>\n",
              "      <td>Software &amp; services</td>\n",
              "      <td>34.27</td>\n",
              "      <td>8.88</td>\n",
              "      <td>85.94</td>\n",
              "      <td>287.02</td>\n",
              "    </tr>\n",
              "    <tr>\n",
              "      <th>17</th>\n",
              "      <td>17</td>\n",
              "      <td>Total</td>\n",
              "      <td>France</td>\n",
              "      <td>Oil &amp; gas operations</td>\n",
              "      <td>131.64</td>\n",
              "      <td>8.84</td>\n",
              "      <td>87.84</td>\n",
              "      <td>116.64</td>\n",
              "    </tr>\n",
              "  </tbody>\n",
              "</table>\n",
              "</div>"
            ],
            "text/plain": [
              "    rank              name         country                category   sales  \\\n",
              "4      4        ExxonMobil   United States    Oil & gas operations  222.88   \n",
              "1      1         Citigroup   United States                 Banking   94.71   \n",
              "2      2  General Electric   United States           Conglomerates  134.19   \n",
              "6      6   Bank of America   United States                 Banking   49.01   \n",
              "5      5                BP  United Kingdom    Oil & gas operations  232.57   \n",
              "20    20       Freddie Mac   United States  Diversified financials   46.26   \n",
              "22    22      Altria Group   United States    Food drink & tobacco   60.70   \n",
              "10    10   Wal-Mart Stores   United States               Retailing  256.33   \n",
              "31    31         Microsoft   United States     Software & services   34.27   \n",
              "17    17             Total          France    Oil & gas operations  131.64   \n",
              "\n",
              "    profits   assets  marketvalue  \n",
              "4     20.96   166.99       277.02  \n",
              "1     17.85  1264.03       255.30  \n",
              "2     15.59   626.93       328.54  \n",
              "6     10.81   736.45       117.55  \n",
              "5     10.27   177.57       173.54  \n",
              "20    10.09   752.25        44.25  \n",
              "22     9.20    96.18       111.02  \n",
              "10     9.05   104.91       243.74  \n",
              "31     8.88    85.94       287.02  \n",
              "17     8.84    87.84       116.64  "
            ]
          },
          "execution_count": 295,
          "metadata": {},
          "output_type": "execute_result"
        }
      ],
      "source": [
        "top_10 = df.nlargest(10, 'profits')\n",
        "top_10"
      ]
    },
    {
      "attachments": {},
      "cell_type": "markdown",
      "metadata": {},
      "source": [
        "#### 3. Qual a média de valores de empresa das cinco categorias mais valiosas?"
      ]
    },
    {
      "cell_type": "code",
      "execution_count": 296,
      "metadata": {},
      "outputs": [
        {
          "name": "stdout",
          "output_type": "stream",
          "text": [
            "Categorias mais valiosas:\n",
            "  - Banking\n",
            "  - Oil & gas operations\n",
            "  - Drugs & biotechnology\n",
            "  - Diversified financials\n",
            "  - Telecommunications services\n"
          ]
        }
      ],
      "source": [
        "categories = df.groupby('category', as_index=False).sum().nlargest(5, 'marketvalue')['category'].values\n",
        "\n",
        "print('Categorias mais valiosas:')\n",
        "for c in categories:\n",
        "    print(f\"  - {c}\")"
      ]
    },
    {
      "cell_type": "code",
      "execution_count": 297,
      "metadata": {},
      "outputs": [
        {
          "data": {
            "text/plain": [
              "14.57"
            ]
          },
          "execution_count": 297,
          "metadata": {},
          "output_type": "execute_result"
        }
      ],
      "source": [
        "round(df[df['category'].isin(categories)]['marketvalue'].mean(), 2)"
      ]
    },
    {
      "cell_type": "markdown",
      "metadata": {
        "id": "6CFao6mmCJtm"
      },
      "source": [
        "## Desafio 6: Rendimento Ações"
      ]
    },
    {
      "cell_type": "markdown",
      "metadata": {
        "id": "suBaR16sHjn0"
      },
      "source": [
        "Definição do problema: Você está trabalhando num banco e precisa informar ao seu cliente em que ano foi a maior rentabilidade de dividendo pago por ação da empresa Johnson&Jonson\n",
        "\n",
        "1. Agregar os rendimentos de um mesmo ano.\n",
        "\n",
        "2. Calcular a valorização do rendimento de um ano para outro.\n",
        "\n",
        "3. Informar o ano de maior rentabilidade.\n",
        "\n",
        "Código do dataset: JohnsonJohnson\n",
        "\n",
        "Dicas:\n",
        "\n",
        "* Criar uma nova representação dos dados, onde a informação é anual\n",
        "\n",
        "* Criar uma nova coluna informando a valorização anual\n",
        "\n",
        "* numpy.trunc()\n",
        "\n",
        "* método.shift()\n",
        "\n",
        "* método.idxmax()"
      ]
    },
    {
      "cell_type": "code",
      "execution_count": 298,
      "metadata": {},
      "outputs": [
        {
          "name": "stdout",
          "output_type": "stream",
          "text": [
            "JohnsonJohnson\n",
            "\n",
            "PyDataset Documentation (adopted from R Documentation. The displayed examples are in R)\n",
            "\n",
            "## Quarterly Earnings per Johnson & Johnson Share\n",
            "\n",
            "### Description\n",
            "\n",
            "Quarterly earnings (dollars) per Johnson & Johnson share 1960–80.\n",
            "\n",
            "### Usage\n",
            "\n",
            "    JohnsonJohnson\n",
            "\n",
            "### Format\n",
            "\n",
            "A quarterly time series\n",
            "\n",
            "### Source\n",
            "\n",
            "Shumway, R. H. and Stoffer, D. S. (2000) _Time Series Analysis and its\n",
            "Applications_. Second Edition. Springer. Example 1.1.\n",
            "\n",
            "### Examples\n",
            "\n",
            "    require(stats); require(graphics)\n",
            "    JJ <- log10(JohnsonJohnson)\n",
            "    plot(JJ)\n",
            "    ## This example gives a possible-non-convergence warning on some\n",
            "    ## platforms, but does seem to converge on x86 Linux and Windows.\n",
            "    (fit <- StructTS(JJ, type = \"BSM\"))\n",
            "    tsdiag(fit)\n",
            "    sm <- tsSmooth(fit)\n",
            "    plot(cbind(JJ, sm[, 1], sm[, 3]-0.5), plot.type = \"single\",\n",
            "         col = c(\"black\", \"green\", \"blue\"))\n",
            "    abline(h = -0.5, col = \"grey60\")\n",
            "    monthplot(fit)\n",
            "\n",
            "\n"
          ]
        }
      ],
      "source": [
        "data('JohnsonJohnson', show_doc=True)"
      ]
    },
    {
      "cell_type": "code",
      "execution_count": 299,
      "metadata": {
        "id": "LZoyJTUoHr_c"
      },
      "outputs": [
        {
          "data": {
            "text/html": [
              "<div>\n",
              "<style scoped>\n",
              "    .dataframe tbody tr th:only-of-type {\n",
              "        vertical-align: middle;\n",
              "    }\n",
              "\n",
              "    .dataframe tbody tr th {\n",
              "        vertical-align: top;\n",
              "    }\n",
              "\n",
              "    .dataframe thead th {\n",
              "        text-align: right;\n",
              "    }\n",
              "</style>\n",
              "<table border=\"1\" class=\"dataframe\">\n",
              "  <thead>\n",
              "    <tr style=\"text-align: right;\">\n",
              "      <th></th>\n",
              "      <th>time</th>\n",
              "      <th>JohnsonJohnson</th>\n",
              "    </tr>\n",
              "  </thead>\n",
              "  <tbody>\n",
              "    <tr>\n",
              "      <th>1</th>\n",
              "      <td>1960.00</td>\n",
              "      <td>0.71</td>\n",
              "    </tr>\n",
              "    <tr>\n",
              "      <th>2</th>\n",
              "      <td>1960.25</td>\n",
              "      <td>0.63</td>\n",
              "    </tr>\n",
              "  </tbody>\n",
              "</table>\n",
              "</div>"
            ],
            "text/plain": [
              "      time  JohnsonJohnson\n",
              "1  1960.00            0.71\n",
              "2  1960.25            0.63"
            ]
          },
          "execution_count": 299,
          "metadata": {},
          "output_type": "execute_result"
        }
      ],
      "source": [
        "df = data('JohnsonJohnson')\n",
        "df.head(2)"
      ]
    },
    {
      "attachments": {},
      "cell_type": "markdown",
      "metadata": {},
      "source": [
        "#### 1. Agregar os rendimentos de um mesmo ano."
      ]
    },
    {
      "cell_type": "code",
      "execution_count": 300,
      "metadata": {},
      "outputs": [
        {
          "data": {
            "text/html": [
              "<div>\n",
              "<style scoped>\n",
              "    .dataframe tbody tr th:only-of-type {\n",
              "        vertical-align: middle;\n",
              "    }\n",
              "\n",
              "    .dataframe tbody tr th {\n",
              "        vertical-align: top;\n",
              "    }\n",
              "\n",
              "    .dataframe thead th {\n",
              "        text-align: right;\n",
              "    }\n",
              "</style>\n",
              "<table border=\"1\" class=\"dataframe\">\n",
              "  <thead>\n",
              "    <tr style=\"text-align: right;\">\n",
              "      <th></th>\n",
              "      <th>time</th>\n",
              "      <th>JohnsonJohnson</th>\n",
              "      <th>year</th>\n",
              "    </tr>\n",
              "  </thead>\n",
              "  <tbody>\n",
              "    <tr>\n",
              "      <th>1</th>\n",
              "      <td>1960.00</td>\n",
              "      <td>0.71</td>\n",
              "      <td>1960</td>\n",
              "    </tr>\n",
              "    <tr>\n",
              "      <th>2</th>\n",
              "      <td>1960.25</td>\n",
              "      <td>0.63</td>\n",
              "      <td>1960</td>\n",
              "    </tr>\n",
              "  </tbody>\n",
              "</table>\n",
              "</div>"
            ],
            "text/plain": [
              "      time  JohnsonJohnson  year\n",
              "1  1960.00            0.71  1960\n",
              "2  1960.25            0.63  1960"
            ]
          },
          "execution_count": 300,
          "metadata": {},
          "output_type": "execute_result"
        }
      ],
      "source": [
        "df['year'] = df['time'].astype(int)\n",
        "df.head(2)"
      ]
    },
    {
      "cell_type": "code",
      "execution_count": 301,
      "metadata": {},
      "outputs": [
        {
          "data": {
            "text/html": [
              "<div>\n",
              "<style scoped>\n",
              "    .dataframe tbody tr th:only-of-type {\n",
              "        vertical-align: middle;\n",
              "    }\n",
              "\n",
              "    .dataframe tbody tr th {\n",
              "        vertical-align: top;\n",
              "    }\n",
              "\n",
              "    .dataframe thead th {\n",
              "        text-align: right;\n",
              "    }\n",
              "</style>\n",
              "<table border=\"1\" class=\"dataframe\">\n",
              "  <thead>\n",
              "    <tr style=\"text-align: right;\">\n",
              "      <th></th>\n",
              "      <th>year</th>\n",
              "      <th>JohnsonJohnson</th>\n",
              "    </tr>\n",
              "  </thead>\n",
              "  <tbody>\n",
              "    <tr>\n",
              "      <th>0</th>\n",
              "      <td>1960</td>\n",
              "      <td>2.63</td>\n",
              "    </tr>\n",
              "    <tr>\n",
              "      <th>1</th>\n",
              "      <td>1961</td>\n",
              "      <td>2.77</td>\n",
              "    </tr>\n",
              "    <tr>\n",
              "      <th>2</th>\n",
              "      <td>1962</td>\n",
              "      <td>3.01</td>\n",
              "    </tr>\n",
              "    <tr>\n",
              "      <th>3</th>\n",
              "      <td>1963</td>\n",
              "      <td>3.40</td>\n",
              "    </tr>\n",
              "    <tr>\n",
              "      <th>4</th>\n",
              "      <td>1964</td>\n",
              "      <td>4.16</td>\n",
              "    </tr>\n",
              "    <tr>\n",
              "      <th>5</th>\n",
              "      <td>1965</td>\n",
              "      <td>5.16</td>\n",
              "    </tr>\n",
              "    <tr>\n",
              "      <th>6</th>\n",
              "      <td>1966</td>\n",
              "      <td>6.06</td>\n",
              "    </tr>\n",
              "    <tr>\n",
              "      <th>7</th>\n",
              "      <td>1967</td>\n",
              "      <td>6.81</td>\n",
              "    </tr>\n",
              "    <tr>\n",
              "      <th>8</th>\n",
              "      <td>1968</td>\n",
              "      <td>8.19</td>\n",
              "    </tr>\n",
              "    <tr>\n",
              "      <th>9</th>\n",
              "      <td>1969</td>\n",
              "      <td>9.54</td>\n",
              "    </tr>\n",
              "    <tr>\n",
              "      <th>10</th>\n",
              "      <td>1970</td>\n",
              "      <td>13.50</td>\n",
              "    </tr>\n",
              "    <tr>\n",
              "      <th>11</th>\n",
              "      <td>1971</td>\n",
              "      <td>16.29</td>\n",
              "    </tr>\n",
              "    <tr>\n",
              "      <th>12</th>\n",
              "      <td>1972</td>\n",
              "      <td>19.35</td>\n",
              "    </tr>\n",
              "    <tr>\n",
              "      <th>13</th>\n",
              "      <td>1973</td>\n",
              "      <td>23.31</td>\n",
              "    </tr>\n",
              "    <tr>\n",
              "      <th>14</th>\n",
              "      <td>1974</td>\n",
              "      <td>25.20</td>\n",
              "    </tr>\n",
              "    <tr>\n",
              "      <th>15</th>\n",
              "      <td>1975</td>\n",
              "      <td>28.62</td>\n",
              "    </tr>\n",
              "    <tr>\n",
              "      <th>16</th>\n",
              "      <td>1976</td>\n",
              "      <td>31.77</td>\n",
              "    </tr>\n",
              "    <tr>\n",
              "      <th>17</th>\n",
              "      <td>1977</td>\n",
              "      <td>38.07</td>\n",
              "    </tr>\n",
              "    <tr>\n",
              "      <th>18</th>\n",
              "      <td>1978</td>\n",
              "      <td>45.00</td>\n",
              "    </tr>\n",
              "    <tr>\n",
              "      <th>19</th>\n",
              "      <td>1979</td>\n",
              "      <td>51.84</td>\n",
              "    </tr>\n",
              "    <tr>\n",
              "      <th>20</th>\n",
              "      <td>1980</td>\n",
              "      <td>58.50</td>\n",
              "    </tr>\n",
              "  </tbody>\n",
              "</table>\n",
              "</div>"
            ],
            "text/plain": [
              "    year  JohnsonJohnson\n",
              "0   1960            2.63\n",
              "1   1961            2.77\n",
              "2   1962            3.01\n",
              "3   1963            3.40\n",
              "4   1964            4.16\n",
              "5   1965            5.16\n",
              "6   1966            6.06\n",
              "7   1967            6.81\n",
              "8   1968            8.19\n",
              "9   1969            9.54\n",
              "10  1970           13.50\n",
              "11  1971           16.29\n",
              "12  1972           19.35\n",
              "13  1973           23.31\n",
              "14  1974           25.20\n",
              "15  1975           28.62\n",
              "16  1976           31.77\n",
              "17  1977           38.07\n",
              "18  1978           45.00\n",
              "19  1979           51.84\n",
              "20  1980           58.50"
            ]
          },
          "execution_count": 301,
          "metadata": {},
          "output_type": "execute_result"
        }
      ],
      "source": [
        "df_year_earnings = df.groupby('year', as_index=False)['JohnsonJohnson'].sum()\n",
        "df_year_earnings"
      ]
    },
    {
      "attachments": {},
      "cell_type": "markdown",
      "metadata": {},
      "source": [
        "#### 2. Calcular a valorização do rendimento de um ano para outro."
      ]
    },
    {
      "cell_type": "code",
      "execution_count": 302,
      "metadata": {},
      "outputs": [
        {
          "data": {
            "text/html": [
              "<div>\n",
              "<style scoped>\n",
              "    .dataframe tbody tr th:only-of-type {\n",
              "        vertical-align: middle;\n",
              "    }\n",
              "\n",
              "    .dataframe tbody tr th {\n",
              "        vertical-align: top;\n",
              "    }\n",
              "\n",
              "    .dataframe thead th {\n",
              "        text-align: right;\n",
              "    }\n",
              "</style>\n",
              "<table border=\"1\" class=\"dataframe\">\n",
              "  <thead>\n",
              "    <tr style=\"text-align: right;\">\n",
              "      <th></th>\n",
              "      <th>year</th>\n",
              "      <th>JohnsonJohnson</th>\n",
              "      <th>year_valorization</th>\n",
              "    </tr>\n",
              "  </thead>\n",
              "  <tbody>\n",
              "    <tr>\n",
              "      <th>0</th>\n",
              "      <td>1960</td>\n",
              "      <td>2.63</td>\n",
              "      <td>NaN</td>\n",
              "    </tr>\n",
              "    <tr>\n",
              "      <th>1</th>\n",
              "      <td>1961</td>\n",
              "      <td>2.77</td>\n",
              "      <td>0.14</td>\n",
              "    </tr>\n",
              "    <tr>\n",
              "      <th>2</th>\n",
              "      <td>1962</td>\n",
              "      <td>3.01</td>\n",
              "      <td>0.24</td>\n",
              "    </tr>\n",
              "    <tr>\n",
              "      <th>3</th>\n",
              "      <td>1963</td>\n",
              "      <td>3.40</td>\n",
              "      <td>0.39</td>\n",
              "    </tr>\n",
              "    <tr>\n",
              "      <th>4</th>\n",
              "      <td>1964</td>\n",
              "      <td>4.16</td>\n",
              "      <td>0.76</td>\n",
              "    </tr>\n",
              "    <tr>\n",
              "      <th>5</th>\n",
              "      <td>1965</td>\n",
              "      <td>5.16</td>\n",
              "      <td>1.00</td>\n",
              "    </tr>\n",
              "    <tr>\n",
              "      <th>6</th>\n",
              "      <td>1966</td>\n",
              "      <td>6.06</td>\n",
              "      <td>0.90</td>\n",
              "    </tr>\n",
              "    <tr>\n",
              "      <th>7</th>\n",
              "      <td>1967</td>\n",
              "      <td>6.81</td>\n",
              "      <td>0.75</td>\n",
              "    </tr>\n",
              "    <tr>\n",
              "      <th>8</th>\n",
              "      <td>1968</td>\n",
              "      <td>8.19</td>\n",
              "      <td>1.38</td>\n",
              "    </tr>\n",
              "    <tr>\n",
              "      <th>9</th>\n",
              "      <td>1969</td>\n",
              "      <td>9.54</td>\n",
              "      <td>1.35</td>\n",
              "    </tr>\n",
              "    <tr>\n",
              "      <th>10</th>\n",
              "      <td>1970</td>\n",
              "      <td>13.50</td>\n",
              "      <td>3.96</td>\n",
              "    </tr>\n",
              "    <tr>\n",
              "      <th>11</th>\n",
              "      <td>1971</td>\n",
              "      <td>16.29</td>\n",
              "      <td>2.79</td>\n",
              "    </tr>\n",
              "    <tr>\n",
              "      <th>12</th>\n",
              "      <td>1972</td>\n",
              "      <td>19.35</td>\n",
              "      <td>3.06</td>\n",
              "    </tr>\n",
              "    <tr>\n",
              "      <th>13</th>\n",
              "      <td>1973</td>\n",
              "      <td>23.31</td>\n",
              "      <td>3.96</td>\n",
              "    </tr>\n",
              "    <tr>\n",
              "      <th>14</th>\n",
              "      <td>1974</td>\n",
              "      <td>25.20</td>\n",
              "      <td>1.89</td>\n",
              "    </tr>\n",
              "    <tr>\n",
              "      <th>15</th>\n",
              "      <td>1975</td>\n",
              "      <td>28.62</td>\n",
              "      <td>3.42</td>\n",
              "    </tr>\n",
              "    <tr>\n",
              "      <th>16</th>\n",
              "      <td>1976</td>\n",
              "      <td>31.77</td>\n",
              "      <td>3.15</td>\n",
              "    </tr>\n",
              "    <tr>\n",
              "      <th>17</th>\n",
              "      <td>1977</td>\n",
              "      <td>38.07</td>\n",
              "      <td>6.30</td>\n",
              "    </tr>\n",
              "    <tr>\n",
              "      <th>18</th>\n",
              "      <td>1978</td>\n",
              "      <td>45.00</td>\n",
              "      <td>6.93</td>\n",
              "    </tr>\n",
              "    <tr>\n",
              "      <th>19</th>\n",
              "      <td>1979</td>\n",
              "      <td>51.84</td>\n",
              "      <td>6.84</td>\n",
              "    </tr>\n",
              "    <tr>\n",
              "      <th>20</th>\n",
              "      <td>1980</td>\n",
              "      <td>58.50</td>\n",
              "      <td>6.66</td>\n",
              "    </tr>\n",
              "  </tbody>\n",
              "</table>\n",
              "</div>"
            ],
            "text/plain": [
              "    year  JohnsonJohnson  year_valorization\n",
              "0   1960            2.63                NaN\n",
              "1   1961            2.77               0.14\n",
              "2   1962            3.01               0.24\n",
              "3   1963            3.40               0.39\n",
              "4   1964            4.16               0.76\n",
              "5   1965            5.16               1.00\n",
              "6   1966            6.06               0.90\n",
              "7   1967            6.81               0.75\n",
              "8   1968            8.19               1.38\n",
              "9   1969            9.54               1.35\n",
              "10  1970           13.50               3.96\n",
              "11  1971           16.29               2.79\n",
              "12  1972           19.35               3.06\n",
              "13  1973           23.31               3.96\n",
              "14  1974           25.20               1.89\n",
              "15  1975           28.62               3.42\n",
              "16  1976           31.77               3.15\n",
              "17  1977           38.07               6.30\n",
              "18  1978           45.00               6.93\n",
              "19  1979           51.84               6.84\n",
              "20  1980           58.50               6.66"
            ]
          },
          "execution_count": 302,
          "metadata": {},
          "output_type": "execute_result"
        }
      ],
      "source": [
        "df_year_earnings['year_valorization'] = (\n",
        "    - df_year_earnings['JohnsonJohnson'].shift()\n",
        "    + df_year_earnings['JohnsonJohnson']\n",
        "    )\n",
        "\n",
        "df_year_earnings\n"
      ]
    },
    {
      "attachments": {},
      "cell_type": "markdown",
      "metadata": {},
      "source": [
        "#### 3. Informar o ano de maior rentabilidade."
      ]
    },
    {
      "cell_type": "code",
      "execution_count": 303,
      "metadata": {},
      "outputs": [
        {
          "data": {
            "text/plain": [
              "1980"
            ]
          },
          "execution_count": 303,
          "metadata": {},
          "output_type": "execute_result"
        }
      ],
      "source": [
        "max_rent = df_year_earnings['JohnsonJohnson'].max() \n",
        "df_year_earnings.query(f\"JohnsonJohnson == {max_rent}\")['year'].values[0]"
      ]
    },
    {
      "cell_type": "markdown",
      "metadata": {
        "id": "-Pt_6P0DC_Do"
      },
      "source": [
        "## Desafio 7: Condições de Moradia"
      ]
    },
    {
      "cell_type": "markdown",
      "metadata": {
        "id": "GLfiLT7_HuVI"
      },
      "source": [
        "Definição do problema: Dado que você recebeu dados de pessoas em situação de rua, informe aos pesquisadores as seguintes respostas\n",
        "1. Em quantas medições, em média, as pessoas da base estava em situação de rua?\n",
        "\n",
        "2. Qual a proporção de moradores que estiveram inscritos em Section 8 em algum momento?\n",
        "\n",
        "3. Quantas pessoas estiveram 100% do tempo em situação de rua?\n",
        "\n",
        "4. Qual percentual das pessoas apresentaram uma melhora de condições de moradia no final do estudo?\n",
        "\n",
        "Código do dataset: housing\n",
        "\n",
        "Dicas:\n",
        "\n",
        "● Cada pessoa está registrada com um ID diferente.\n",
        "\n",
        "● Uma medição da condição da pessoa é feita a cada seis meses.\n",
        "\n",
        "● Foram feitas medições por 2 anos.\n",
        "\n",
        "● É importante conferir a documentação da base para entender o que significa cada código da variável y."
      ]
    },
    {
      "cell_type": "code",
      "execution_count": 304,
      "metadata": {},
      "outputs": [
        {
          "name": "stdout",
          "output_type": "stream",
          "text": [
            "housing\n",
            "\n",
            "PyDataset Documentation (adopted from R Documentation. The displayed examples are in R)\n",
            "\n",
            "##  Homeless Data\n",
            "\n",
            "### Description\n",
            "\n",
            "Housing status for 362 severely mentally ill homeless subjects measured at\n",
            "baseline and at three follow-up times.\n",
            "\n",
            "### Usage\n",
            "\n",
            "    data(housing)\n",
            "\n",
            "### Format\n",
            "\n",
            "A data frame with 1448 observations on the following 4 variables:\n",
            "\n",
            "`id`\n",
            "\n",
            "Subject identifier variable.\n",
            "\n",
            "`y`\n",
            "\n",
            "Housing status response, coded as (1) for street living, (2) for community\n",
            "living and (3) for independent housing.\n",
            "\n",
            "`time`\n",
            "\n",
            "Time recorded in months.\n",
            "\n",
            "`sec`\n",
            "\n",
            "Section 8 rent certificate indicator.\n",
            "\n",
            "### Source\n",
            "\n",
            "Hulrburt M.S., Wood, P.A. and Hough, R.L. (1996). Providing independent\n",
            "housing for the homeless mentally ill: a novel approach to evaluating\n",
            "longitudinal housing patterns. _Journal of Community Psychology_, **24**,\n",
            "291–310.\n",
            "\n",
            "### Examples\n",
            "\n",
            "    data(housing)\n",
            "    str(housing)\n",
            "\n",
            "\n"
          ]
        }
      ],
      "source": [
        "data('housing', show_doc=True)"
      ]
    },
    {
      "attachments": {},
      "cell_type": "markdown",
      "metadata": {},
      "source": [
        "coded as (1) for street living, (2) for community\n",
        "living and (3) for independent housing."
      ]
    },
    {
      "cell_type": "code",
      "execution_count": 325,
      "metadata": {},
      "outputs": [
        {
          "data": {
            "text/html": [
              "<div>\n",
              "<style scoped>\n",
              "    .dataframe tbody tr th:only-of-type {\n",
              "        vertical-align: middle;\n",
              "    }\n",
              "\n",
              "    .dataframe tbody tr th {\n",
              "        vertical-align: top;\n",
              "    }\n",
              "\n",
              "    .dataframe thead th {\n",
              "        text-align: right;\n",
              "    }\n",
              "</style>\n",
              "<table border=\"1\" class=\"dataframe\">\n",
              "  <thead>\n",
              "    <tr style=\"text-align: right;\">\n",
              "      <th></th>\n",
              "      <th>id</th>\n",
              "      <th>y</th>\n",
              "      <th>time</th>\n",
              "      <th>sec</th>\n",
              "    </tr>\n",
              "  </thead>\n",
              "  <tbody>\n",
              "    <tr>\n",
              "      <th>1</th>\n",
              "      <td>1</td>\n",
              "      <td>1.0</td>\n",
              "      <td>0</td>\n",
              "      <td>1</td>\n",
              "    </tr>\n",
              "    <tr>\n",
              "      <th>2</th>\n",
              "      <td>1</td>\n",
              "      <td>2.0</td>\n",
              "      <td>6</td>\n",
              "      <td>1</td>\n",
              "    </tr>\n",
              "  </tbody>\n",
              "</table>\n",
              "</div>"
            ],
            "text/plain": [
              "   id    y  time  sec\n",
              "1   1  1.0     0    1\n",
              "2   1  2.0     6    1"
            ]
          },
          "execution_count": 325,
          "metadata": {},
          "output_type": "execute_result"
        }
      ],
      "source": [
        "df = data('housing')\n",
        "df.head(2)"
      ]
    },
    {
      "cell_type": "code",
      "execution_count": 306,
      "metadata": {},
      "outputs": [
        {
          "name": "stdout",
          "output_type": "stream",
          "text": [
            "<class 'pandas.core.frame.DataFrame'>\n",
            "Int64Index: 1448 entries, 1 to 1448\n",
            "Data columns (total 4 columns):\n",
            " #   Column  Non-Null Count  Dtype  \n",
            "---  ------  --------------  -----  \n",
            " 0   id      1448 non-null   int64  \n",
            " 1   y       1289 non-null   float64\n",
            " 2   time    1448 non-null   int64  \n",
            " 3   sec     1448 non-null   int64  \n",
            "dtypes: float64(1), int64(3)\n",
            "memory usage: 56.6 KB\n"
          ]
        }
      ],
      "source": [
        "df.info()"
      ]
    },
    {
      "cell_type": "code",
      "execution_count": 111,
      "metadata": {},
      "outputs": [
        {
          "data": {
            "text/plain": [
              "0.10980662983425414"
            ]
          },
          "execution_count": 111,
          "metadata": {},
          "output_type": "execute_result"
        }
      ],
      "source": [
        "# Verificando a quantidade de nulos em status de moradia\n",
        "df[df['y'].isna()].shape[0] / df.shape[0] "
      ]
    },
    {
      "cell_type": "code",
      "execution_count": 314,
      "metadata": {},
      "outputs": [],
      "source": [
        "# Filtrando os não nulos\n",
        "df = df[~df['y'].isna()]"
      ]
    },
    {
      "cell_type": "code",
      "execution_count": 315,
      "metadata": {},
      "outputs": [
        {
          "data": {
            "text/plain": [
              "array([1., 2., 0.])"
            ]
          },
          "execution_count": 315,
          "metadata": {},
          "output_type": "execute_result"
        }
      ],
      "source": [
        "df['y'].unique()"
      ]
    },
    {
      "attachments": {},
      "cell_type": "markdown",
      "metadata": {},
      "source": [
        "Ao invés de possuir os valores 1, 2 e 3, para temos 0, 1 e 2. Então, vamos considerar (0) situação de rua, (1) moradia comunitária e (2) moradia independente."
      ]
    },
    {
      "cell_type": "code",
      "execution_count": 327,
      "metadata": {},
      "outputs": [
        {
          "data": {
            "text/plain": [
              "362"
            ]
          },
          "execution_count": 327,
          "metadata": {},
          "output_type": "execute_result"
        }
      ],
      "source": [
        "len(df['id'].unique())"
      ]
    },
    {
      "attachments": {},
      "cell_type": "markdown",
      "metadata": {},
      "source": [
        "362 pessoas foram acompanhadas durante a pesquisa."
      ]
    },
    {
      "attachments": {},
      "cell_type": "markdown",
      "metadata": {},
      "source": [
        "#### 1. Em quantas medições, em média, as pessoas da base estava em situação de rua?\n"
      ]
    },
    {
      "cell_type": "code",
      "execution_count": 330,
      "metadata": {},
      "outputs": [
        {
          "name": "stdout",
          "output_type": "stream",
          "text": [
            "294\n"
          ]
        },
        {
          "data": {
            "text/plain": [
              "1448"
            ]
          },
          "execution_count": 330,
          "metadata": {},
          "output_type": "execute_result"
        }
      ],
      "source": [
        "# Quantidade de medições com y = 0\n",
        "print(df['y'].value_counts()[0])\n",
        "\n",
        "# Quantidade total de medições\n",
        "df.shape[0]"
      ]
    },
    {
      "cell_type": "code",
      "execution_count": 331,
      "metadata": {},
      "outputs": [
        {
          "data": {
            "text/plain": [
              "0.2"
            ]
          },
          "execution_count": 331,
          "metadata": {},
          "output_type": "execute_result"
        }
      ],
      "source": [
        "round(df['y'].value_counts()[0] / df.shape[0], 2)"
      ]
    },
    {
      "attachments": {},
      "cell_type": "markdown",
      "metadata": {},
      "source": [
        "Em 20% das medições as pessoas estavam em situaçõ de rua."
      ]
    },
    {
      "attachments": {},
      "cell_type": "markdown",
      "metadata": {},
      "source": [
        "#### 2. Qual a proporção de moradores que estiveram inscritos em Section 8 em algum momento?\n"
      ]
    },
    {
      "cell_type": "code",
      "execution_count": 340,
      "metadata": {},
      "outputs": [
        {
          "data": {
            "text/html": [
              "<div>\n",
              "<style scoped>\n",
              "    .dataframe tbody tr th:only-of-type {\n",
              "        vertical-align: middle;\n",
              "    }\n",
              "\n",
              "    .dataframe tbody tr th {\n",
              "        vertical-align: top;\n",
              "    }\n",
              "\n",
              "    .dataframe thead th {\n",
              "        text-align: right;\n",
              "    }\n",
              "</style>\n",
              "<table border=\"1\" class=\"dataframe\">\n",
              "  <thead>\n",
              "    <tr style=\"text-align: right;\">\n",
              "      <th></th>\n",
              "      <th>id</th>\n",
              "      <th>y</th>\n",
              "      <th>time</th>\n",
              "      <th>sec</th>\n",
              "    </tr>\n",
              "  </thead>\n",
              "  <tbody>\n",
              "    <tr>\n",
              "      <th>1</th>\n",
              "      <td>1</td>\n",
              "      <td>1.0</td>\n",
              "      <td>0</td>\n",
              "      <td>1</td>\n",
              "    </tr>\n",
              "    <tr>\n",
              "      <th>2</th>\n",
              "      <td>1</td>\n",
              "      <td>2.0</td>\n",
              "      <td>6</td>\n",
              "      <td>1</td>\n",
              "    </tr>\n",
              "    <tr>\n",
              "      <th>3</th>\n",
              "      <td>1</td>\n",
              "      <td>2.0</td>\n",
              "      <td>12</td>\n",
              "      <td>1</td>\n",
              "    </tr>\n",
              "    <tr>\n",
              "      <th>4</th>\n",
              "      <td>1</td>\n",
              "      <td>2.0</td>\n",
              "      <td>24</td>\n",
              "      <td>1</td>\n",
              "    </tr>\n",
              "    <tr>\n",
              "      <th>5</th>\n",
              "      <td>2</td>\n",
              "      <td>1.0</td>\n",
              "      <td>0</td>\n",
              "      <td>1</td>\n",
              "    </tr>\n",
              "    <tr>\n",
              "      <th>...</th>\n",
              "      <td>...</td>\n",
              "      <td>...</td>\n",
              "      <td>...</td>\n",
              "      <td>...</td>\n",
              "    </tr>\n",
              "    <tr>\n",
              "      <th>720</th>\n",
              "      <td>180</td>\n",
              "      <td>1.0</td>\n",
              "      <td>24</td>\n",
              "      <td>1</td>\n",
              "    </tr>\n",
              "    <tr>\n",
              "      <th>721</th>\n",
              "      <td>181</td>\n",
              "      <td>0.0</td>\n",
              "      <td>0</td>\n",
              "      <td>1</td>\n",
              "    </tr>\n",
              "    <tr>\n",
              "      <th>722</th>\n",
              "      <td>181</td>\n",
              "      <td>2.0</td>\n",
              "      <td>6</td>\n",
              "      <td>1</td>\n",
              "    </tr>\n",
              "    <tr>\n",
              "      <th>723</th>\n",
              "      <td>181</td>\n",
              "      <td>2.0</td>\n",
              "      <td>12</td>\n",
              "      <td>1</td>\n",
              "    </tr>\n",
              "    <tr>\n",
              "      <th>724</th>\n",
              "      <td>181</td>\n",
              "      <td>2.0</td>\n",
              "      <td>24</td>\n",
              "      <td>1</td>\n",
              "    </tr>\n",
              "  </tbody>\n",
              "</table>\n",
              "<p>724 rows × 4 columns</p>\n",
              "</div>"
            ],
            "text/plain": [
              "      id    y  time  sec\n",
              "1      1  1.0     0    1\n",
              "2      1  2.0     6    1\n",
              "3      1  2.0    12    1\n",
              "4      1  2.0    24    1\n",
              "5      2  1.0     0    1\n",
              "..   ...  ...   ...  ...\n",
              "720  180  1.0    24    1\n",
              "721  181  0.0     0    1\n",
              "722  181  2.0     6    1\n",
              "723  181  2.0    12    1\n",
              "724  181  2.0    24    1\n",
              "\n",
              "[724 rows x 4 columns]"
            ]
          },
          "execution_count": 340,
          "metadata": {},
          "output_type": "execute_result"
        }
      ],
      "source": [
        "sec_group = df.groupby('sec')\n",
        "sec_group.get_group(1)"
      ]
    },
    {
      "cell_type": "code",
      "execution_count": 342,
      "metadata": {},
      "outputs": [
        {
          "name": "stdout",
          "output_type": "stream",
          "text": [
            "50% dos moradores estiveram na section 8.\n"
          ]
        }
      ],
      "source": [
        "print(f\"{round(100 * len(sec_group.get_group(1)['id'].unique()) / len(df['id'].unique()))}% dos moradores estiveram na section 8.\")"
      ]
    },
    {
      "attachments": {},
      "cell_type": "markdown",
      "metadata": {},
      "source": [
        "#### 3. Quantas pessoas estiveram 100% do tempo em situação de rua?"
      ]
    },
    {
      "cell_type": "code",
      "execution_count": 343,
      "metadata": {},
      "outputs": [
        {
          "data": {
            "text/plain": [
              "10"
            ]
          },
          "execution_count": 343,
          "metadata": {},
          "output_type": "execute_result"
        }
      ],
      "source": [
        "always_street = 0\n",
        "ids = []\n",
        "for id in df['id'].unique():\n",
        "    temp = df[df['id'] == id]['y']\n",
        "    filt = temp == 0\n",
        "    if filt.all():\n",
        "        always_street += 1\n",
        "\n",
        "always_street "
      ]
    },
    {
      "attachments": {},
      "cell_type": "markdown",
      "metadata": {},
      "source": [
        "10 pessoas estavam em situação de rua em todas as medições."
      ]
    },
    {
      "attachments": {},
      "cell_type": "markdown",
      "metadata": {},
      "source": [
        "#### 4. Qual percentual das pessoas apresentaram uma melhora de condições de moradia no final do estudo?"
      ]
    },
    {
      "cell_type": "code",
      "execution_count": 130,
      "metadata": {
        "id": "DZiYOKLOH39m"
      },
      "outputs": [
        {
          "data": {
            "text/plain": [
              "array([ 0,  6, 12, 24], dtype=int64)"
            ]
          },
          "execution_count": 130,
          "metadata": {},
          "output_type": "execute_result"
        }
      ],
      "source": [
        "df['time'].unique()"
      ]
    },
    {
      "cell_type": "code",
      "execution_count": 159,
      "metadata": {},
      "outputs": [
        {
          "data": {
            "text/plain": [
              "185"
            ]
          },
          "execution_count": 159,
          "metadata": {},
          "output_type": "execute_result"
        }
      ],
      "source": [
        "improved = 0\n",
        "for id in df['id'].unique():\n",
        "    temp = df[df['id'] == id]\n",
        "    start = temp[temp['time'] == 0]['y'].values[0]\n",
        "    try:\n",
        "        end = temp[temp['time'] == 24]['y'].values[0]\n",
        "    except Exception as e:\n",
        "        end = 0\n",
        "    if end - start > 0:\n",
        "        improved += 1 \n",
        "\n",
        "improved"
      ]
    },
    {
      "cell_type": "code",
      "execution_count": 346,
      "metadata": {},
      "outputs": [
        {
          "data": {
            "text/plain": [
              "51"
            ]
          },
          "execution_count": 346,
          "metadata": {},
          "output_type": "execute_result"
        }
      ],
      "source": [
        "round(100 * improved / len(df['id'].unique()))"
      ]
    },
    {
      "attachments": {},
      "cell_type": "markdown",
      "metadata": {},
      "source": [
        "51% das pessoas tiveram melhora em sua situação."
      ]
    },
    {
      "cell_type": "markdown",
      "metadata": {
        "id": "J5bHUBB9C_Pl"
      },
      "source": [
        "## Desafio 8: Suicídios"
      ]
    },
    {
      "cell_type": "markdown",
      "metadata": {
        "id": "vhxgrirSH6Ho"
      },
      "source": [
        "Definição do problema: Dado que você é uma investigadora da polícia e tem em mãos uma base de dados sobre o histórico de suicídios de seu país.\n",
        "\n",
        "1. Crie uma função que ao informar o sexo e a faixa etária de um suícidio é retornado as probabilidades do método utilizado.\n",
        "\n",
        "2. Com auxílio da função input() faça a chamada da função do item 1. (a ideia é simular uma interface amigável)\n",
        "\n",
        "Código do dataset: Suicide\n",
        "\n",
        "Dicas:\n",
        "\n",
        "● Utilizar o método groupby"
      ]
    },
    {
      "cell_type": "code",
      "execution_count": null,
      "metadata": {},
      "outputs": [
        {
          "name": "stdout",
          "output_type": "stream",
          "text": [
            "Suicide\n",
            "\n",
            "PyDataset Documentation (adopted from R Documentation. The displayed examples are in R)\n",
            "\n",
            "## Suicide Rates in Germany\n",
            "\n",
            "### Description\n",
            "\n",
            "Data from Heuer (1979) on suicide rates in West Germany classified by age,\n",
            "sex, and method of suicide.\n",
            "\n",
            "### Usage\n",
            "\n",
            "    data(\"Suicide\")\n",
            "\n",
            "### Format\n",
            "\n",
            "A data frame with 306 observations and 6 variables.\n",
            "\n",
            "Freq\n",
            "\n",
            "frequency of suicides.\n",
            "\n",
            "sex\n",
            "\n",
            "factor indicating sex (male, female).\n",
            "\n",
            "method\n",
            "\n",
            "factor indicating method used.\n",
            "\n",
            "age\n",
            "\n",
            "age (rounded).\n",
            "\n",
            "age.group\n",
            "\n",
            "factor. Age classified into 5 groups.\n",
            "\n",
            "method2\n",
            "\n",
            "factor indicating method used (same as `method` but some levels are merged).\n",
            "\n",
            "### Source\n",
            "\n",
            "Michael Friendly (2000), Visualizing Categorical Data:\n",
            "http://euclid.psych.yorku.ca/ftp/sas/vcd/catdata/suicide.sas\n",
            "\n",
            "### References\n",
            "\n",
            "J. Heuer (1979), _Selbstmord bei Kindern und Jugendlichen_. Ernst Klett\n",
            "Verlag, Stuttgart.\n",
            "\n",
            "M. Friendly (2000), _Visualizing Categorical Data_. SAS Institute, Cary, NC.\n",
            "\n",
            "### Examples\n",
            "\n",
            "    data(\"Suicide\")\n",
            "    structable(~ sex + method2 + age.group, data = Suicide)\n",
            "\n",
            "\n"
          ]
        }
      ],
      "source": [
        "data('Suicide', show_doc=True)"
      ]
    },
    {
      "cell_type": "code",
      "execution_count": null,
      "metadata": {
        "id": "P0GSeyfRICO4"
      },
      "outputs": [
        {
          "data": {
            "text/html": [
              "<div>\n",
              "<style scoped>\n",
              "    .dataframe tbody tr th:only-of-type {\n",
              "        vertical-align: middle;\n",
              "    }\n",
              "\n",
              "    .dataframe tbody tr th {\n",
              "        vertical-align: top;\n",
              "    }\n",
              "\n",
              "    .dataframe thead th {\n",
              "        text-align: right;\n",
              "    }\n",
              "</style>\n",
              "<table border=\"1\" class=\"dataframe\">\n",
              "  <thead>\n",
              "    <tr style=\"text-align: right;\">\n",
              "      <th></th>\n",
              "      <th>Freq</th>\n",
              "      <th>sex</th>\n",
              "      <th>method</th>\n",
              "      <th>age</th>\n",
              "      <th>age.group</th>\n",
              "      <th>method2</th>\n",
              "    </tr>\n",
              "  </thead>\n",
              "  <tbody>\n",
              "    <tr>\n",
              "      <th>1</th>\n",
              "      <td>4</td>\n",
              "      <td>male</td>\n",
              "      <td>poison</td>\n",
              "      <td>10</td>\n",
              "      <td>10-20</td>\n",
              "      <td>poison</td>\n",
              "    </tr>\n",
              "    <tr>\n",
              "      <th>2</th>\n",
              "      <td>0</td>\n",
              "      <td>male</td>\n",
              "      <td>cookgas</td>\n",
              "      <td>10</td>\n",
              "      <td>10-20</td>\n",
              "      <td>gas</td>\n",
              "    </tr>\n",
              "    <tr>\n",
              "      <th>3</th>\n",
              "      <td>0</td>\n",
              "      <td>male</td>\n",
              "      <td>toxicgas</td>\n",
              "      <td>10</td>\n",
              "      <td>10-20</td>\n",
              "      <td>gas</td>\n",
              "    </tr>\n",
              "    <tr>\n",
              "      <th>4</th>\n",
              "      <td>247</td>\n",
              "      <td>male</td>\n",
              "      <td>hang</td>\n",
              "      <td>10</td>\n",
              "      <td>10-20</td>\n",
              "      <td>hang</td>\n",
              "    </tr>\n",
              "    <tr>\n",
              "      <th>5</th>\n",
              "      <td>1</td>\n",
              "      <td>male</td>\n",
              "      <td>drown</td>\n",
              "      <td>10</td>\n",
              "      <td>10-20</td>\n",
              "      <td>drown</td>\n",
              "    </tr>\n",
              "    <tr>\n",
              "      <th>6</th>\n",
              "      <td>17</td>\n",
              "      <td>male</td>\n",
              "      <td>gun</td>\n",
              "      <td>10</td>\n",
              "      <td>10-20</td>\n",
              "      <td>gun</td>\n",
              "    </tr>\n",
              "    <tr>\n",
              "      <th>7</th>\n",
              "      <td>1</td>\n",
              "      <td>male</td>\n",
              "      <td>knife</td>\n",
              "      <td>10</td>\n",
              "      <td>10-20</td>\n",
              "      <td>knife</td>\n",
              "    </tr>\n",
              "    <tr>\n",
              "      <th>8</th>\n",
              "      <td>6</td>\n",
              "      <td>male</td>\n",
              "      <td>jump</td>\n",
              "      <td>10</td>\n",
              "      <td>10-20</td>\n",
              "      <td>jump</td>\n",
              "    </tr>\n",
              "    <tr>\n",
              "      <th>9</th>\n",
              "      <td>0</td>\n",
              "      <td>male</td>\n",
              "      <td>other</td>\n",
              "      <td>10</td>\n",
              "      <td>10-20</td>\n",
              "      <td>other</td>\n",
              "    </tr>\n",
              "    <tr>\n",
              "      <th>10</th>\n",
              "      <td>348</td>\n",
              "      <td>male</td>\n",
              "      <td>poison</td>\n",
              "      <td>15</td>\n",
              "      <td>10-20</td>\n",
              "      <td>poison</td>\n",
              "    </tr>\n",
              "  </tbody>\n",
              "</table>\n",
              "</div>"
            ],
            "text/plain": [
              "    Freq   sex    method  age age.group method2\n",
              "1      4  male    poison   10     10-20  poison\n",
              "2      0  male   cookgas   10     10-20     gas\n",
              "3      0  male  toxicgas   10     10-20     gas\n",
              "4    247  male      hang   10     10-20    hang\n",
              "5      1  male     drown   10     10-20   drown\n",
              "6     17  male       gun   10     10-20     gun\n",
              "7      1  male     knife   10     10-20   knife\n",
              "8      6  male      jump   10     10-20    jump\n",
              "9      0  male     other   10     10-20   other\n",
              "10   348  male    poison   15     10-20  poison"
            ]
          },
          "execution_count": 44,
          "metadata": {},
          "output_type": "execute_result"
        }
      ],
      "source": [
        "df =  data('Suicide')\n",
        "df.head(10)"
      ]
    },
    {
      "cell_type": "code",
      "execution_count": null,
      "metadata": {},
      "outputs": [
        {
          "data": {
            "text/plain": [
              "array(['10-20', '25-35', '40-50', '55-65', '70-90'], dtype=object)"
            ]
          },
          "execution_count": 43,
          "metadata": {},
          "output_type": "execute_result"
        }
      ],
      "source": [
        "df['age.group'].unique()"
      ]
    },
    {
      "cell_type": "code",
      "execution_count": null,
      "metadata": {},
      "outputs": [
        {
          "data": {
            "text/plain": [
              "array([10, 15, 20, 25, 30, 35, 40, 45, 50, 55, 60, 65, 70, 75, 80, 85, 90],\n",
              "      dtype=int64)"
            ]
          },
          "execution_count": 45,
          "metadata": {},
          "output_type": "execute_result"
        }
      ],
      "source": [
        "df['age'].unique()"
      ]
    },
    {
      "attachments": {},
      "cell_type": "markdown",
      "metadata": {},
      "source": [
        "O dataset possui uma coluna de age.group e uma coluna de age. As idades estão arredondadas, consistuindo outro grupo de idades. Considerarei age como a coluna para faixa etária."
      ]
    },
    {
      "attachments": {},
      "cell_type": "markdown",
      "metadata": {},
      "source": [
        "#### 1. Crie uma função que ao informar o sexo e a faixa etária de um suícidio é retornado as probabilidades do método utilizado."
      ]
    },
    {
      "cell_type": "code",
      "execution_count": null,
      "metadata": {},
      "outputs": [
        {
          "data": {
            "text/html": [
              "<div>\n",
              "<style scoped>\n",
              "    .dataframe tbody tr th:only-of-type {\n",
              "        vertical-align: middle;\n",
              "    }\n",
              "\n",
              "    .dataframe tbody tr th {\n",
              "        vertical-align: top;\n",
              "    }\n",
              "\n",
              "    .dataframe thead th {\n",
              "        text-align: right;\n",
              "    }\n",
              "</style>\n",
              "<table border=\"1\" class=\"dataframe\">\n",
              "  <thead>\n",
              "    <tr style=\"text-align: right;\">\n",
              "      <th></th>\n",
              "      <th>sex</th>\n",
              "      <th>age</th>\n",
              "      <th>Freq</th>\n",
              "    </tr>\n",
              "  </thead>\n",
              "  <tbody>\n",
              "    <tr>\n",
              "      <th>0</th>\n",
              "      <td>female</td>\n",
              "      <td>10</td>\n",
              "      <td>68</td>\n",
              "    </tr>\n",
              "    <tr>\n",
              "      <th>1</th>\n",
              "      <td>female</td>\n",
              "      <td>15</td>\n",
              "      <td>560</td>\n",
              "    </tr>\n",
              "    <tr>\n",
              "      <th>2</th>\n",
              "      <td>female</td>\n",
              "      <td>20</td>\n",
              "      <td>842</td>\n",
              "    </tr>\n",
              "    <tr>\n",
              "      <th>3</th>\n",
              "      <td>female</td>\n",
              "      <td>25</td>\n",
              "      <td>839</td>\n",
              "    </tr>\n",
              "    <tr>\n",
              "      <th>4</th>\n",
              "      <td>female</td>\n",
              "      <td>30</td>\n",
              "      <td>985</td>\n",
              "    </tr>\n",
              "    <tr>\n",
              "      <th>5</th>\n",
              "      <td>female</td>\n",
              "      <td>35</td>\n",
              "      <td>1319</td>\n",
              "    </tr>\n",
              "    <tr>\n",
              "      <th>6</th>\n",
              "      <td>female</td>\n",
              "      <td>40</td>\n",
              "      <td>1242</td>\n",
              "    </tr>\n",
              "    <tr>\n",
              "      <th>7</th>\n",
              "      <td>female</td>\n",
              "      <td>45</td>\n",
              "      <td>1504</td>\n",
              "    </tr>\n",
              "    <tr>\n",
              "      <th>8</th>\n",
              "      <td>female</td>\n",
              "      <td>50</td>\n",
              "      <td>2168</td>\n",
              "    </tr>\n",
              "    <tr>\n",
              "      <th>9</th>\n",
              "      <td>female</td>\n",
              "      <td>55</td>\n",
              "      <td>1658</td>\n",
              "    </tr>\n",
              "    <tr>\n",
              "      <th>10</th>\n",
              "      <td>female</td>\n",
              "      <td>60</td>\n",
              "      <td>2083</td>\n",
              "    </tr>\n",
              "    <tr>\n",
              "      <th>11</th>\n",
              "      <td>female</td>\n",
              "      <td>65</td>\n",
              "      <td>2096</td>\n",
              "    </tr>\n",
              "    <tr>\n",
              "      <th>12</th>\n",
              "      <td>female</td>\n",
              "      <td>70</td>\n",
              "      <td>1691</td>\n",
              "    </tr>\n",
              "    <tr>\n",
              "      <th>13</th>\n",
              "      <td>female</td>\n",
              "      <td>75</td>\n",
              "      <td>1280</td>\n",
              "    </tr>\n",
              "    <tr>\n",
              "      <th>14</th>\n",
              "      <td>female</td>\n",
              "      <td>80</td>\n",
              "      <td>715</td>\n",
              "    </tr>\n",
              "    <tr>\n",
              "      <th>15</th>\n",
              "      <td>female</td>\n",
              "      <td>85</td>\n",
              "      <td>256</td>\n",
              "    </tr>\n",
              "    <tr>\n",
              "      <th>16</th>\n",
              "      <td>female</td>\n",
              "      <td>90</td>\n",
              "      <td>57</td>\n",
              "    </tr>\n",
              "    <tr>\n",
              "      <th>17</th>\n",
              "      <td>male</td>\n",
              "      <td>10</td>\n",
              "      <td>276</td>\n",
              "    </tr>\n",
              "    <tr>\n",
              "      <th>18</th>\n",
              "      <td>male</td>\n",
              "      <td>15</td>\n",
              "      <td>1461</td>\n",
              "    </tr>\n",
              "    <tr>\n",
              "      <th>19</th>\n",
              "      <td>male</td>\n",
              "      <td>20</td>\n",
              "      <td>2561</td>\n",
              "    </tr>\n",
              "    <tr>\n",
              "      <th>20</th>\n",
              "      <td>male</td>\n",
              "      <td>25</td>\n",
              "      <td>2399</td>\n",
              "    </tr>\n",
              "    <tr>\n",
              "      <th>21</th>\n",
              "      <td>male</td>\n",
              "      <td>30</td>\n",
              "      <td>2836</td>\n",
              "    </tr>\n",
              "    <tr>\n",
              "      <th>22</th>\n",
              "      <td>male</td>\n",
              "      <td>35</td>\n",
              "      <td>3567</td>\n",
              "    </tr>\n",
              "    <tr>\n",
              "      <th>23</th>\n",
              "      <td>male</td>\n",
              "      <td>40</td>\n",
              "      <td>3179</td>\n",
              "    </tr>\n",
              "    <tr>\n",
              "      <th>24</th>\n",
              "      <td>male</td>\n",
              "      <td>45</td>\n",
              "      <td>3227</td>\n",
              "    </tr>\n",
              "    <tr>\n",
              "      <th>25</th>\n",
              "      <td>male</td>\n",
              "      <td>50</td>\n",
              "      <td>2703</td>\n",
              "    </tr>\n",
              "    <tr>\n",
              "      <th>26</th>\n",
              "      <td>male</td>\n",
              "      <td>55</td>\n",
              "      <td>1946</td>\n",
              "    </tr>\n",
              "    <tr>\n",
              "      <th>27</th>\n",
              "      <td>male</td>\n",
              "      <td>60</td>\n",
              "      <td>2355</td>\n",
              "    </tr>\n",
              "    <tr>\n",
              "      <th>28</th>\n",
              "      <td>male</td>\n",
              "      <td>65</td>\n",
              "      <td>2417</td>\n",
              "    </tr>\n",
              "    <tr>\n",
              "      <th>29</th>\n",
              "      <td>male</td>\n",
              "      <td>70</td>\n",
              "      <td>2175</td>\n",
              "    </tr>\n",
              "    <tr>\n",
              "      <th>30</th>\n",
              "      <td>male</td>\n",
              "      <td>75</td>\n",
              "      <td>1429</td>\n",
              "    </tr>\n",
              "    <tr>\n",
              "      <th>31</th>\n",
              "      <td>male</td>\n",
              "      <td>80</td>\n",
              "      <td>782</td>\n",
              "    </tr>\n",
              "    <tr>\n",
              "      <th>32</th>\n",
              "      <td>male</td>\n",
              "      <td>85</td>\n",
              "      <td>393</td>\n",
              "    </tr>\n",
              "    <tr>\n",
              "      <th>33</th>\n",
              "      <td>male</td>\n",
              "      <td>90</td>\n",
              "      <td>113</td>\n",
              "    </tr>\n",
              "  </tbody>\n",
              "</table>\n",
              "</div>"
            ],
            "text/plain": [
              "       sex  age  Freq\n",
              "0   female   10    68\n",
              "1   female   15   560\n",
              "2   female   20   842\n",
              "3   female   25   839\n",
              "4   female   30   985\n",
              "5   female   35  1319\n",
              "6   female   40  1242\n",
              "7   female   45  1504\n",
              "8   female   50  2168\n",
              "9   female   55  1658\n",
              "10  female   60  2083\n",
              "11  female   65  2096\n",
              "12  female   70  1691\n",
              "13  female   75  1280\n",
              "14  female   80   715\n",
              "15  female   85   256\n",
              "16  female   90    57\n",
              "17    male   10   276\n",
              "18    male   15  1461\n",
              "19    male   20  2561\n",
              "20    male   25  2399\n",
              "21    male   30  2836\n",
              "22    male   35  3567\n",
              "23    male   40  3179\n",
              "24    male   45  3227\n",
              "25    male   50  2703\n",
              "26    male   55  1946\n",
              "27    male   60  2355\n",
              "28    male   65  2417\n",
              "29    male   70  2175\n",
              "30    male   75  1429\n",
              "31    male   80   782\n",
              "32    male   85   393\n",
              "33    male   90   113"
            ]
          },
          "execution_count": 64,
          "metadata": {},
          "output_type": "execute_result"
        }
      ],
      "source": [
        "df.groupby(['sex', 'age'], as_index=False).sum()"
      ]
    },
    {
      "cell_type": "code",
      "execution_count": null,
      "metadata": {},
      "outputs": [
        {
          "name": "stdout",
          "output_type": "stream",
          "text": [
            "68\n",
            "560\n",
            "842\n",
            "839\n",
            "985\n",
            "1319\n",
            "1242\n",
            "1504\n",
            "2168\n",
            "1658\n",
            "2083\n",
            "2096\n",
            "1691\n",
            "1280\n",
            "715\n",
            "256\n",
            "57\n"
          ]
        }
      ],
      "source": [
        "df_groups = df.groupby(['sex', 'age'], as_index=False).sum()\n",
        "for age in df.age.unique():\n",
        "     print(df_groups[(df_groups['sex'] == 'female') & (df_groups['age'] == age)]['Freq'].values[0])"
      ]
    },
    {
      "cell_type": "code",
      "execution_count": 347,
      "metadata": {},
      "outputs": [
        {
          "name": "stdout",
          "output_type": "stream",
          "text": [
            "0.13\n"
          ]
        }
      ],
      "source": [
        "def suicide_probability(sex, age):\n",
        "     '''\n",
        "     Função que recebe como paramentros sexo e idade e retorna\n",
        "     a probabilidade de uma pessoa com essas características cometer\n",
        "     suicídio.\n",
        "     '''\n",
        "     df =  data('Suicide')\n",
        "\n",
        "     total = df['Freq'].sum()\n",
        "\n",
        "     # Acessa a quantidade de pessoas no grupo\n",
        "     df_groups = df.groupby(['sex', 'age'], as_index=False).sum()\n",
        "     qtd = df_groups[(df_groups['sex'] == 'female') & (df_groups['age'] == age)]['Freq'].values[0]\n",
        "     \n",
        "     return round(100 * qtd/total, 2)\n",
        "\n",
        "print(suicide_probability('female', 10))"
      ]
    },
    {
      "attachments": {},
      "cell_type": "markdown",
      "metadata": {},
      "source": [
        "#### 2. Com auxílio da função input() faça a chamada da função do item 1."
      ]
    },
    {
      "cell_type": "code",
      "execution_count": null,
      "metadata": {},
      "outputs": [
        {
          "name": "stdout",
          "output_type": "stream",
          "text": [
            "Dados sobre suicidios cometidos no Oeste Alemão.\n",
            "Os dados possuem informações sobre sexo, faixa hetária, método e frequência.\n",
            "As faixas etárias são divididas em: 0-10 , 11-15, 16-20 ...\n",
            "\n",
            "Consulta finalizada.\n"
          ]
        }
      ],
      "source": [
        "print('Dados sobre suicidios cometidos no Oeste Alemão.')\n",
        "print('Os dados possuem informações sobre sexo, faixa hetária, método e frequência.')\n",
        "print('As faixas etárias são divididas em: 0-10 , 11-15, 16-20 ...\\n')\n",
        "\n",
        "user_choice = input('Deseja consultar a probabilidade de suicidio por sexo e faixa hetária? (sim/não)').upper()\n",
        "if user_choice == 'SIM':\n",
        "     ended = False\n",
        "else:\n",
        "     ended = True\n",
        "     print('Consulta finalizada.')\n",
        "\n",
        "age = -1\n",
        "sex = ''\n",
        "sex_key = ''\n",
        "sex_case = {\n",
        "     'F': 'female',\n",
        "     'M': 'male'\n",
        "}\n",
        "\n",
        "\n",
        "while not ended:\n",
        "     while age < 0 or age > 90:\n",
        "          try:\n",
        "               age = int(input('Digite uma idade menor que 91 para seleção da faixa etária: '))\n",
        "          except ValueError:\n",
        "               print('Valor inválido! O valor deve ser um número positivo menor que 91.')\n",
        "\n",
        "     while sex_key != 'F' and sex_key != 'M': \n",
        "          sex_key = input('Digite F para sexo feminino ou M para sexo masculino: ').upper()\n",
        "          print(sex_key)\n",
        "     \n",
        "     sex = sex_case[sex_key]\n",
        "     for a in range(10, 91, 5):\n",
        "          if a >= age:\n",
        "               age = a\n",
        "               break\n",
        "          \n",
        "     prob = suicide_probability(sex, age)\n",
        "     print(f\"A probailidade para esse grupo é de {prob}%.\")\n",
        "\n",
        "     user_choice = input('Deseja consultar outro grupo? (sim/não)').upper()\n",
        "     if user_choice == 'SIM':\n",
        "          ended = False\n",
        "     else:\n",
        "          ended = True\n",
        "          print('Consulta finalizada.')"
      ]
    }
  ],
  "metadata": {
    "colab": {
      "provenance": []
    },
    "kernelspec": {
      "display_name": "base",
      "language": "python",
      "name": "python3"
    },
    "language_info": {
      "codemirror_mode": {
        "name": "ipython",
        "version": 3
      },
      "file_extension": ".py",
      "mimetype": "text/x-python",
      "name": "python",
      "nbconvert_exporter": "python",
      "pygments_lexer": "ipython3",
      "version": "3.9.13"
    },
    "vscode": {
      "interpreter": {
        "hash": "a9a945df823e285c06b96a2606972f70ab25f91665b500d829d03b1c9fd07f0c"
      }
    }
  },
  "nbformat": 4,
  "nbformat_minor": 0
}
