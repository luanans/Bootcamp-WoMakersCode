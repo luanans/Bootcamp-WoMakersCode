{
  "cells": [
    {
      "cell_type": "markdown",
      "metadata": {
        "id": "TKiRq52ECIRX"
      },
      "source": [
        "# Desafio Python e Pandas - Bootcamp TECH MINAS 2022/2023"
      ]
    },
    {
      "attachments": {},
      "cell_type": "markdown",
      "metadata": {},
      "source": [
        "Este desafio é composto por sub tasks que trabalham os conceitos aprendidos durante a  primeira semana do bootcamp. Os dados utilizados são disponibilizados pela biblioteca [pyDataset](https://pydataset.readthedocs.io/en/latest/index.html)"
      ]
    },
    {
      "attachments": {},
      "cell_type": "markdown",
      "metadata": {},
      "source": [
        "# Importações"
      ]
    },
    {
      "cell_type": "code",
      "execution_count": 1,
      "metadata": {
        "colab": {
          "base_uri": "https://localhost:8080/"
        },
        "id": "9gxZKW56Dao8",
        "outputId": "65cd04b1-ea3b-40e8-ce7c-552a59ade542"
      },
      "outputs": [
        {
          "name": "stdout",
          "output_type": "stream",
          "text": [
            "Requirement already satisfied: pydataset in c:\\users\\lnune\\anaconda3\\lib\\site-packages (0.2.0)\n",
            "Requirement already satisfied: pandas in c:\\users\\lnune\\anaconda3\\lib\\site-packages (from pydataset) (1.4.4)\n",
            "Requirement already satisfied: numpy>=1.18.5 in c:\\users\\lnune\\anaconda3\\lib\\site-packages (from pandas->pydataset) (1.21.5)\n",
            "Requirement already satisfied: python-dateutil>=2.8.1 in c:\\users\\lnune\\anaconda3\\lib\\site-packages (from pandas->pydataset) (2.8.2)\n",
            "Requirement already satisfied: pytz>=2020.1 in c:\\users\\lnune\\anaconda3\\lib\\site-packages (from pandas->pydataset) (2022.1)\n",
            "Requirement already satisfied: six>=1.5 in c:\\users\\lnune\\anaconda3\\lib\\site-packages (from python-dateutil>=2.8.1->pandas->pydataset) (1.16.0)\n"
          ]
        }
      ],
      "source": [
        "!pip install pydataset"
      ]
    },
    {
      "cell_type": "code",
      "execution_count": 2,
      "metadata": {},
      "outputs": [],
      "source": [
        "from pydataset import data\n",
        "import pandas as pd\n",
        "import matplotlib.pyplot as plt"
      ]
    },
    {
      "cell_type": "code",
      "execution_count": 3,
      "metadata": {},
      "outputs": [],
      "source": [
        "pd.set_option('display.max_column', None)"
      ]
    },
    {
      "cell_type": "markdown",
      "metadata": {
        "id": "bDbbBqBNCJBN"
      },
      "source": [
        "## Desafio 1: Importando dataset pelo pydataset"
      ]
    },
    {
      "attachments": {},
      "cell_type": "markdown",
      "metadata": {
        "id": "4IMW08CPDXFF"
      },
      "source": [
        "Dado o dataset plantTraits retorne:\n",
        "1. Importe o dataset utilizando a seguinte função do pydataset: data(“Código”)\n",
        "2. Imprimir na tela o dataset;\n",
        "3. Informe o tipo de dados retornado pela função data;\n",
        "4. Informe o número de exemplos (linhas) e características (colunas) do dataset.\n",
        "5. Crie uma função que ao receber um DataFrame retorna o número de linhas e colunas.\n",
        "\n",
        "Dicas:\n",
        "\n",
        "● plantTraits é um dataset que contém a descrição, por meio de atributos biológicos, de diferentes espécies de plantas;\n",
        "\n",
        "● função built-in (nativa da linguagem Python): type()\n",
        "\n",
        "● atributo do DataFrame: shape"
      ]
    },
    {
      "attachments": {},
      "cell_type": "markdown",
      "metadata": {},
      "source": [
        "#### 1. Importação do dataset"
      ]
    },
    {
      "cell_type": "code",
      "execution_count": 4,
      "metadata": {
        "colab": {
          "base_uri": "https://localhost:8080/"
        },
        "id": "3KFtNFaXEZJW",
        "outputId": "399ddc3b-1b18-4541-f87e-1dcb25adfe3c"
      },
      "outputs": [
        {
          "name": "stdout",
          "output_type": "stream",
          "text": [
            "plantTraits\n",
            "\n",
            "PyDataset Documentation (adopted from R Documentation. The displayed examples are in R)\n",
            "\n",
            "## Plant Species Traits Data\n",
            "\n",
            "### Description\n",
            "\n",
            "This dataset constitutes a description of 136 plant species according to\n",
            "biological attributes (morphological or reproductive)\n",
            "\n",
            "### Usage\n",
            "\n",
            "    data(plantTraits)\n",
            "\n",
            "### Format\n",
            "\n",
            "A data frame with 136 observations on the following 31 variables.\n",
            "\n",
            "`pdias`\n",
            "\n",
            "Diaspore mass (mg)\n",
            "\n",
            "`longindex`\n",
            "\n",
            "Seed bank longevity\n",
            "\n",
            "`durflow`\n",
            "\n",
            "Flowering duration\n",
            "\n",
            "`height`\n",
            "\n",
            "Plant height, an ordered factor with levels `1` < `2` < ... < `8`.\n",
            "\n",
            "`begflow`\n",
            "\n",
            "Time of first flowering, an ordered factor with levels `1` < `2` < `3` < `4` <\n",
            "`5` < `6` < `7` < `8` < `9`\n",
            "\n",
            "`mycor`\n",
            "\n",
            "Mycorrhizas, an ordered factor with levels `0`never < `1` sometimes< `2`always\n",
            "\n",
            "`vegaer`\n",
            "\n",
            "aerial vegetative propagation, an ordered factor with levels `0`never < `1`\n",
            "present but limited< `2`important.\n",
            "\n",
            "`vegsout`\n",
            "\n",
            "underground vegetative propagation, an ordered factor with 3 levels identical\n",
            "to `vegaer` above.\n",
            "\n",
            "`autopoll`\n",
            "\n",
            "selfing pollination, an ordered factor with levels `0`never < `1`rare < `2`\n",
            "often< the rule`3`\n",
            "\n",
            "`insects`\n",
            "\n",
            "insect pollination, an ordered factor with 5 levels `0` < ... < `4`.\n",
            "\n",
            "`wind`\n",
            "\n",
            "wind pollination, an ordered factor with 5 levels `0` < ... < `4`.\n",
            "\n",
            "`lign`\n",
            "\n",
            "a binary factor with levels `0:1`, indicating if plant is woody.\n",
            "\n",
            "`piq`\n",
            "\n",
            "a binary factor indicating if plant is thorny.\n",
            "\n",
            "`ros`\n",
            "\n",
            "a binary factor indicating if plant is rosette.\n",
            "\n",
            "`semiros`\n",
            "\n",
            "semi-rosette plant, a binary factor (`0`: no; `1`: yes).\n",
            "\n",
            "`leafy`\n",
            "\n",
            "leafy plant, a binary factor.\n",
            "\n",
            "`suman`\n",
            "\n",
            "summer annual, a binary factor.\n",
            "\n",
            "`winan`\n",
            "\n",
            "winter annual, a binary factor.\n",
            "\n",
            "`monocarp`\n",
            "\n",
            "monocarpic perennial, a binary factor.\n",
            "\n",
            "`polycarp`\n",
            "\n",
            "polycarpic perennial, a binary factor.\n",
            "\n",
            "`seasaes`\n",
            "\n",
            "seasonal aestival leaves, a binary factor.\n",
            "\n",
            "`seashiv`\n",
            "\n",
            "seasonal hibernal leaves, a binary factor.\n",
            "\n",
            "`seasver`\n",
            "\n",
            "seasonal vernal leaves, a binary factor.\n",
            "\n",
            "`everalw`\n",
            "\n",
            "leaves always evergreen, a binary factor.\n",
            "\n",
            "`everparti`\n",
            "\n",
            "leaves partially evergreen, a binary factor.\n",
            "\n",
            "`elaio`\n",
            "\n",
            "fruits with an elaiosome (dispersed by ants), a binary factor.\n",
            "\n",
            "`endozoo`\n",
            "\n",
            "endozoochorous fruits, a binary factor.\n",
            "\n",
            "`epizoo`\n",
            "\n",
            "epizoochorous fruits, a binary factor.\n",
            "\n",
            "`aquat`\n",
            "\n",
            "aquatic dispersal fruits, a binary factor.\n",
            "\n",
            "`windgl`\n",
            "\n",
            "wind dispersed fruits, a binary factor.\n",
            "\n",
            "`unsp`\n",
            "\n",
            "unspecialized mechanism of seed dispersal, a binary factor.\n",
            "\n",
            "### Details\n",
            "\n",
            "Most of factor attributes are not disjunctive. For example, a plant can be\n",
            "usually pollinated by insects but sometimes self-pollination can occured.\n",
            "\n",
            "### Source\n",
            "\n",
            "Vallet, Jeanne (2005) _Structuration de communautÃ©s vÃ©gÃ©tales et analyse\n",
            "comparative de traits biologiques le long d'un gradient d'urbanisation_.\n",
            "MÃ©moire de Master 2 'Ecologie-BiodiversitÃ©-Evolution'; UniversitÃ© Paris Sud\n",
            "XI, 30p.+ annexes (in french)\n",
            "\n",
            "### Examples\n",
            "\n",
            "    data(plantTraits)\n",
            "    ## Calculation of a dissimilarity matrix\n",
            "    library(cluster)\n",
            "    dai.b <- daisy(plantTraits,\n",
            "                   type = list(ordratio = 4:11, symm = 12:13, asymm = 14:31))\n",
            "    ## Hierarchical classification\n",
            "    agn.trts <- agnes(dai.b, method=\"ward\")\n",
            "    plot(agn.trts, which.plots = 2, cex= 0.6)\n",
            "    plot(agn.trts, which.plots = 1)\n",
            "    cutree6 <- cutree(agn.trts, k=6)\n",
            "    cutree6\n",
            "    ## Principal Coordinate Analysis\n",
            "    cmdsdai.b <- cmdscale(dai.b, k=6)\n",
            "    plot(cmdsdai.b[, 1:2], asp = 1, col = cutree6)\n",
            "\n",
            "\n"
          ]
        }
      ],
      "source": [
        "# Retorna a documentação do dataset\n",
        "data('plantTraits', show_doc=True)\n",
        "\n",
        "# Retorna o dataset\n",
        "df = data('plantTraits')"
      ]
    },
    {
      "attachments": {},
      "cell_type": "markdown",
      "metadata": {},
      "source": [
        "#### 2. Imprimindo os dados"
      ]
    },
    {
      "cell_type": "code",
      "execution_count": 5,
      "metadata": {
        "colab": {
          "base_uri": "https://localhost:8080/",
          "height": 456
        },
        "id": "UTv7cC8GEzl4",
        "outputId": "5982768a-970f-4f94-83e1-1947e743cd80"
      },
      "outputs": [
        {
          "data": {
            "text/html": [
              "<div>\n",
              "<style scoped>\n",
              "    .dataframe tbody tr th:only-of-type {\n",
              "        vertical-align: middle;\n",
              "    }\n",
              "\n",
              "    .dataframe tbody tr th {\n",
              "        vertical-align: top;\n",
              "    }\n",
              "\n",
              "    .dataframe thead th {\n",
              "        text-align: right;\n",
              "    }\n",
              "</style>\n",
              "<table border=\"1\" class=\"dataframe\">\n",
              "  <thead>\n",
              "    <tr style=\"text-align: right;\">\n",
              "      <th></th>\n",
              "      <th>pdias</th>\n",
              "      <th>longindex</th>\n",
              "      <th>durflow</th>\n",
              "      <th>height</th>\n",
              "      <th>begflow</th>\n",
              "      <th>mycor</th>\n",
              "      <th>vegaer</th>\n",
              "      <th>vegsout</th>\n",
              "      <th>autopoll</th>\n",
              "      <th>insects</th>\n",
              "      <th>wind</th>\n",
              "      <th>lign</th>\n",
              "      <th>piq</th>\n",
              "      <th>ros</th>\n",
              "      <th>semiros</th>\n",
              "      <th>leafy</th>\n",
              "      <th>suman</th>\n",
              "      <th>winan</th>\n",
              "      <th>monocarp</th>\n",
              "      <th>polycarp</th>\n",
              "      <th>seasaes</th>\n",
              "      <th>seashiv</th>\n",
              "      <th>seasver</th>\n",
              "      <th>everalw</th>\n",
              "      <th>everparti</th>\n",
              "      <th>elaio</th>\n",
              "      <th>endozoo</th>\n",
              "      <th>epizoo</th>\n",
              "      <th>aquat</th>\n",
              "      <th>windgl</th>\n",
              "      <th>unsp</th>\n",
              "    </tr>\n",
              "  </thead>\n",
              "  <tbody>\n",
              "    <tr>\n",
              "      <th>Aceca</th>\n",
              "      <td>96.84</td>\n",
              "      <td>0.000000</td>\n",
              "      <td>2</td>\n",
              "      <td>7</td>\n",
              "      <td>5</td>\n",
              "      <td>2.0</td>\n",
              "      <td>0.0</td>\n",
              "      <td>0.0</td>\n",
              "      <td>0</td>\n",
              "      <td>4</td>\n",
              "      <td>0</td>\n",
              "      <td>1</td>\n",
              "      <td>0</td>\n",
              "      <td>0.0</td>\n",
              "      <td>0.0</td>\n",
              "      <td>1.0</td>\n",
              "      <td>0</td>\n",
              "      <td>0</td>\n",
              "      <td>0</td>\n",
              "      <td>1</td>\n",
              "      <td>1.0</td>\n",
              "      <td>0.0</td>\n",
              "      <td>0.0</td>\n",
              "      <td>0.0</td>\n",
              "      <td>0.0</td>\n",
              "      <td>0.0</td>\n",
              "      <td>0.0</td>\n",
              "      <td>0.0</td>\n",
              "      <td>0.0</td>\n",
              "      <td>1.0</td>\n",
              "      <td>0.0</td>\n",
              "    </tr>\n",
              "    <tr>\n",
              "      <th>Aceps</th>\n",
              "      <td>110.72</td>\n",
              "      <td>0.000000</td>\n",
              "      <td>3</td>\n",
              "      <td>8</td>\n",
              "      <td>4</td>\n",
              "      <td>2.0</td>\n",
              "      <td>0.0</td>\n",
              "      <td>0.0</td>\n",
              "      <td>0</td>\n",
              "      <td>4</td>\n",
              "      <td>0</td>\n",
              "      <td>1</td>\n",
              "      <td>0</td>\n",
              "      <td>0.0</td>\n",
              "      <td>0.0</td>\n",
              "      <td>1.0</td>\n",
              "      <td>0</td>\n",
              "      <td>0</td>\n",
              "      <td>0</td>\n",
              "      <td>1</td>\n",
              "      <td>1.0</td>\n",
              "      <td>0.0</td>\n",
              "      <td>0.0</td>\n",
              "      <td>0.0</td>\n",
              "      <td>0.0</td>\n",
              "      <td>0.0</td>\n",
              "      <td>0.0</td>\n",
              "      <td>0.0</td>\n",
              "      <td>0.0</td>\n",
              "      <td>1.0</td>\n",
              "      <td>0.0</td>\n",
              "    </tr>\n",
              "    <tr>\n",
              "      <th>Agrca</th>\n",
              "      <td>0.06</td>\n",
              "      <td>0.666667</td>\n",
              "      <td>3</td>\n",
              "      <td>2</td>\n",
              "      <td>6</td>\n",
              "      <td>2.0</td>\n",
              "      <td>0.0</td>\n",
              "      <td>1.0</td>\n",
              "      <td>0</td>\n",
              "      <td>0</td>\n",
              "      <td>4</td>\n",
              "      <td>0</td>\n",
              "      <td>0</td>\n",
              "      <td>0.0</td>\n",
              "      <td>0.0</td>\n",
              "      <td>1.0</td>\n",
              "      <td>0</td>\n",
              "      <td>0</td>\n",
              "      <td>0</td>\n",
              "      <td>1</td>\n",
              "      <td>0.0</td>\n",
              "      <td>0.0</td>\n",
              "      <td>0.0</td>\n",
              "      <td>1.0</td>\n",
              "      <td>0.0</td>\n",
              "      <td>0.0</td>\n",
              "      <td>0.0</td>\n",
              "      <td>0.0</td>\n",
              "      <td>0.0</td>\n",
              "      <td>0.0</td>\n",
              "      <td>1.0</td>\n",
              "    </tr>\n",
              "    <tr>\n",
              "      <th>Agrst</th>\n",
              "      <td>0.08</td>\n",
              "      <td>0.488889</td>\n",
              "      <td>2</td>\n",
              "      <td>2</td>\n",
              "      <td>7</td>\n",
              "      <td>1.0</td>\n",
              "      <td>2.0</td>\n",
              "      <td>0.0</td>\n",
              "      <td>0</td>\n",
              "      <td>0</td>\n",
              "      <td>4</td>\n",
              "      <td>0</td>\n",
              "      <td>0</td>\n",
              "      <td>0.0</td>\n",
              "      <td>0.0</td>\n",
              "      <td>1.0</td>\n",
              "      <td>0</td>\n",
              "      <td>0</td>\n",
              "      <td>0</td>\n",
              "      <td>1</td>\n",
              "      <td>0.0</td>\n",
              "      <td>0.0</td>\n",
              "      <td>0.0</td>\n",
              "      <td>1.0</td>\n",
              "      <td>0.0</td>\n",
              "      <td>0.0</td>\n",
              "      <td>0.0</td>\n",
              "      <td>0.0</td>\n",
              "      <td>0.0</td>\n",
              "      <td>0.0</td>\n",
              "      <td>1.0</td>\n",
              "    </tr>\n",
              "    <tr>\n",
              "      <th>Ajure</th>\n",
              "      <td>1.48</td>\n",
              "      <td>0.476190</td>\n",
              "      <td>3</td>\n",
              "      <td>2</td>\n",
              "      <td>5</td>\n",
              "      <td>2.0</td>\n",
              "      <td>2.0</td>\n",
              "      <td>0.0</td>\n",
              "      <td>1</td>\n",
              "      <td>3</td>\n",
              "      <td>0</td>\n",
              "      <td>0</td>\n",
              "      <td>0</td>\n",
              "      <td>0.0</td>\n",
              "      <td>1.0</td>\n",
              "      <td>0.0</td>\n",
              "      <td>0</td>\n",
              "      <td>0</td>\n",
              "      <td>0</td>\n",
              "      <td>1</td>\n",
              "      <td>0.0</td>\n",
              "      <td>0.0</td>\n",
              "      <td>0.0</td>\n",
              "      <td>1.0</td>\n",
              "      <td>0.0</td>\n",
              "      <td>1.0</td>\n",
              "      <td>0.0</td>\n",
              "      <td>0.0</td>\n",
              "      <td>0.0</td>\n",
              "      <td>0.0</td>\n",
              "      <td>0.0</td>\n",
              "    </tr>\n",
              "    <tr>\n",
              "      <th>Allpe</th>\n",
              "      <td>2.33</td>\n",
              "      <td>0.500000</td>\n",
              "      <td>3</td>\n",
              "      <td>5</td>\n",
              "      <td>4</td>\n",
              "      <td>0.0</td>\n",
              "      <td>0.0</td>\n",
              "      <td>0.0</td>\n",
              "      <td>3</td>\n",
              "      <td>3</td>\n",
              "      <td>0</td>\n",
              "      <td>0</td>\n",
              "      <td>0</td>\n",
              "      <td>0.0</td>\n",
              "      <td>1.0</td>\n",
              "      <td>0.0</td>\n",
              "      <td>1</td>\n",
              "      <td>0</td>\n",
              "      <td>1</td>\n",
              "      <td>0</td>\n",
              "      <td>0.0</td>\n",
              "      <td>1.0</td>\n",
              "      <td>0.0</td>\n",
              "      <td>0.0</td>\n",
              "      <td>0.0</td>\n",
              "      <td>0.0</td>\n",
              "      <td>0.0</td>\n",
              "      <td>0.0</td>\n",
              "      <td>0.0</td>\n",
              "      <td>0.0</td>\n",
              "      <td>1.0</td>\n",
              "    </tr>\n",
              "    <tr>\n",
              "      <th>Anaar</th>\n",
              "      <td>0.38</td>\n",
              "      <td>0.904762</td>\n",
              "      <td>3</td>\n",
              "      <td>2</td>\n",
              "      <td>6</td>\n",
              "      <td>2.0</td>\n",
              "      <td>0.0</td>\n",
              "      <td>0.0</td>\n",
              "      <td>3</td>\n",
              "      <td>2</td>\n",
              "      <td>0</td>\n",
              "      <td>0</td>\n",
              "      <td>0</td>\n",
              "      <td>0.0</td>\n",
              "      <td>0.0</td>\n",
              "      <td>1.0</td>\n",
              "      <td>1</td>\n",
              "      <td>1</td>\n",
              "      <td>0</td>\n",
              "      <td>0</td>\n",
              "      <td>0.0</td>\n",
              "      <td>0.0</td>\n",
              "      <td>0.0</td>\n",
              "      <td>0.0</td>\n",
              "      <td>1.0</td>\n",
              "      <td>0.0</td>\n",
              "      <td>0.0</td>\n",
              "      <td>0.0</td>\n",
              "      <td>0.0</td>\n",
              "      <td>0.0</td>\n",
              "      <td>1.0</td>\n",
              "    </tr>\n",
              "    <tr>\n",
              "      <th>Anene</th>\n",
              "      <td>2.55</td>\n",
              "      <td>0.066667</td>\n",
              "      <td>3</td>\n",
              "      <td>2</td>\n",
              "      <td>3</td>\n",
              "      <td>2.0</td>\n",
              "      <td>0.0</td>\n",
              "      <td>2.0</td>\n",
              "      <td>1</td>\n",
              "      <td>3</td>\n",
              "      <td>0</td>\n",
              "      <td>0</td>\n",
              "      <td>0</td>\n",
              "      <td>0.0</td>\n",
              "      <td>1.0</td>\n",
              "      <td>0.0</td>\n",
              "      <td>0</td>\n",
              "      <td>0</td>\n",
              "      <td>0</td>\n",
              "      <td>1</td>\n",
              "      <td>0.0</td>\n",
              "      <td>0.0</td>\n",
              "      <td>1.0</td>\n",
              "      <td>0.0</td>\n",
              "      <td>0.0</td>\n",
              "      <td>0.0</td>\n",
              "      <td>0.0</td>\n",
              "      <td>1.0</td>\n",
              "      <td>0.0</td>\n",
              "      <td>0.0</td>\n",
              "      <td>0.0</td>\n",
              "    </tr>\n",
              "    <tr>\n",
              "      <th>Angsy</th>\n",
              "      <td>1.48</td>\n",
              "      <td>0.210526</td>\n",
              "      <td>3</td>\n",
              "      <td>3</td>\n",
              "      <td>7</td>\n",
              "      <td>2.0</td>\n",
              "      <td>0.0</td>\n",
              "      <td>0.0</td>\n",
              "      <td>0</td>\n",
              "      <td>3</td>\n",
              "      <td>0</td>\n",
              "      <td>0</td>\n",
              "      <td>0</td>\n",
              "      <td>0.0</td>\n",
              "      <td>1.0</td>\n",
              "      <td>0.0</td>\n",
              "      <td>0</td>\n",
              "      <td>0</td>\n",
              "      <td>1</td>\n",
              "      <td>1</td>\n",
              "      <td>1.0</td>\n",
              "      <td>0.0</td>\n",
              "      <td>0.0</td>\n",
              "      <td>0.0</td>\n",
              "      <td>0.0</td>\n",
              "      <td>0.0</td>\n",
              "      <td>0.0</td>\n",
              "      <td>0.0</td>\n",
              "      <td>1.0</td>\n",
              "      <td>0.0</td>\n",
              "      <td>0.0</td>\n",
              "    </tr>\n",
              "    <tr>\n",
              "      <th>Antod</th>\n",
              "      <td>0.52</td>\n",
              "      <td>0.369565</td>\n",
              "      <td>3</td>\n",
              "      <td>2</td>\n",
              "      <td>4</td>\n",
              "      <td>2.0</td>\n",
              "      <td>0.0</td>\n",
              "      <td>0.0</td>\n",
              "      <td>2</td>\n",
              "      <td>0</td>\n",
              "      <td>3</td>\n",
              "      <td>0</td>\n",
              "      <td>0</td>\n",
              "      <td>0.0</td>\n",
              "      <td>0.0</td>\n",
              "      <td>1.0</td>\n",
              "      <td>0</td>\n",
              "      <td>0</td>\n",
              "      <td>0</td>\n",
              "      <td>1</td>\n",
              "      <td>0.0</td>\n",
              "      <td>0.0</td>\n",
              "      <td>0.0</td>\n",
              "      <td>1.0</td>\n",
              "      <td>0.0</td>\n",
              "      <td>0.0</td>\n",
              "      <td>0.0</td>\n",
              "      <td>1.0</td>\n",
              "      <td>0.0</td>\n",
              "      <td>0.0</td>\n",
              "      <td>0.0</td>\n",
              "    </tr>\n",
              "  </tbody>\n",
              "</table>\n",
              "</div>"
            ],
            "text/plain": [
              "        pdias  longindex  durflow  height  begflow  mycor  vegaer  vegsout  \\\n",
              "Aceca   96.84   0.000000        2       7        5    2.0     0.0      0.0   \n",
              "Aceps  110.72   0.000000        3       8        4    2.0     0.0      0.0   \n",
              "Agrca    0.06   0.666667        3       2        6    2.0     0.0      1.0   \n",
              "Agrst    0.08   0.488889        2       2        7    1.0     2.0      0.0   \n",
              "Ajure    1.48   0.476190        3       2        5    2.0     2.0      0.0   \n",
              "Allpe    2.33   0.500000        3       5        4    0.0     0.0      0.0   \n",
              "Anaar    0.38   0.904762        3       2        6    2.0     0.0      0.0   \n",
              "Anene    2.55   0.066667        3       2        3    2.0     0.0      2.0   \n",
              "Angsy    1.48   0.210526        3       3        7    2.0     0.0      0.0   \n",
              "Antod    0.52   0.369565        3       2        4    2.0     0.0      0.0   \n",
              "\n",
              "       autopoll  insects  wind  lign  piq  ros  semiros  leafy  suman  winan  \\\n",
              "Aceca         0        4     0     1    0  0.0      0.0    1.0      0      0   \n",
              "Aceps         0        4     0     1    0  0.0      0.0    1.0      0      0   \n",
              "Agrca         0        0     4     0    0  0.0      0.0    1.0      0      0   \n",
              "Agrst         0        0     4     0    0  0.0      0.0    1.0      0      0   \n",
              "Ajure         1        3     0     0    0  0.0      1.0    0.0      0      0   \n",
              "Allpe         3        3     0     0    0  0.0      1.0    0.0      1      0   \n",
              "Anaar         3        2     0     0    0  0.0      0.0    1.0      1      1   \n",
              "Anene         1        3     0     0    0  0.0      1.0    0.0      0      0   \n",
              "Angsy         0        3     0     0    0  0.0      1.0    0.0      0      0   \n",
              "Antod         2        0     3     0    0  0.0      0.0    1.0      0      0   \n",
              "\n",
              "       monocarp  polycarp  seasaes  seashiv  seasver  everalw  everparti  \\\n",
              "Aceca         0         1      1.0      0.0      0.0      0.0        0.0   \n",
              "Aceps         0         1      1.0      0.0      0.0      0.0        0.0   \n",
              "Agrca         0         1      0.0      0.0      0.0      1.0        0.0   \n",
              "Agrst         0         1      0.0      0.0      0.0      1.0        0.0   \n",
              "Ajure         0         1      0.0      0.0      0.0      1.0        0.0   \n",
              "Allpe         1         0      0.0      1.0      0.0      0.0        0.0   \n",
              "Anaar         0         0      0.0      0.0      0.0      0.0        1.0   \n",
              "Anene         0         1      0.0      0.0      1.0      0.0        0.0   \n",
              "Angsy         1         1      1.0      0.0      0.0      0.0        0.0   \n",
              "Antod         0         1      0.0      0.0      0.0      1.0        0.0   \n",
              "\n",
              "       elaio  endozoo  epizoo  aquat  windgl  unsp  \n",
              "Aceca    0.0      0.0     0.0    0.0     1.0   0.0  \n",
              "Aceps    0.0      0.0     0.0    0.0     1.0   0.0  \n",
              "Agrca    0.0      0.0     0.0    0.0     0.0   1.0  \n",
              "Agrst    0.0      0.0     0.0    0.0     0.0   1.0  \n",
              "Ajure    1.0      0.0     0.0    0.0     0.0   0.0  \n",
              "Allpe    0.0      0.0     0.0    0.0     0.0   1.0  \n",
              "Anaar    0.0      0.0     0.0    0.0     0.0   1.0  \n",
              "Anene    0.0      0.0     1.0    0.0     0.0   0.0  \n",
              "Angsy    0.0      0.0     0.0    1.0     0.0   0.0  \n",
              "Antod    0.0      0.0     1.0    0.0     0.0   0.0  "
            ]
          },
          "metadata": {},
          "output_type": "display_data"
        }
      ],
      "source": [
        "display(df.head(10))"
      ]
    },
    {
      "attachments": {},
      "cell_type": "markdown",
      "metadata": {
        "id": "PCSu_xiPFCPr"
      },
      "source": [
        "#### 3. Informe o tipo de dados retornado pela função data"
      ]
    },
    {
      "cell_type": "code",
      "execution_count": 6,
      "metadata": {
        "colab": {
          "base_uri": "https://localhost:8080/"
        },
        "id": "fjqtlxnkFEG8",
        "outputId": "af8297f3-acb6-49b8-ad55-58f3aeaf5deb"
      },
      "outputs": [
        {
          "name": "stdout",
          "output_type": "stream",
          "text": [
            "A função data() retorna um objeto do tipo: <class 'pandas.core.frame.DataFrame'>\n"
          ]
        }
      ],
      "source": [
        "print(f\"A função data() retorna um objeto do tipo: {type(df)}\")"
      ]
    },
    {
      "cell_type": "code",
      "execution_count": 7,
      "metadata": {
        "colab": {
          "base_uri": "https://localhost:8080/"
        },
        "id": "Pkbku0pQFEWB",
        "outputId": "5e729375-d603-4206-a2cb-f8e385331053"
      },
      "outputs": [
        {
          "name": "stdout",
          "output_type": "stream",
          "text": [
            "<class 'pandas.core.frame.DataFrame'>\n",
            "Index: 136 entries, Aceca to Viore\n",
            "Data columns (total 31 columns):\n",
            " #   Column     Non-Null Count  Dtype  \n",
            "---  ------     --------------  -----  \n",
            " 0   pdias      100 non-null    float64\n",
            " 1   longindex  111 non-null    float64\n",
            " 2   durflow    136 non-null    int64  \n",
            " 3   height     136 non-null    int64  \n",
            " 4   begflow    136 non-null    int64  \n",
            " 5   mycor      97 non-null     float64\n",
            " 6   vegaer     134 non-null    float64\n",
            " 7   vegsout    134 non-null    float64\n",
            " 8   autopoll   136 non-null    int64  \n",
            " 9   insects    136 non-null    int64  \n",
            " 10  wind       136 non-null    int64  \n",
            " 11  lign       136 non-null    int64  \n",
            " 12  piq        136 non-null    int64  \n",
            " 13  ros        132 non-null    float64\n",
            " 14  semiros    132 non-null    float64\n",
            " 15  leafy      132 non-null    float64\n",
            " 16  suman      136 non-null    int64  \n",
            " 17  winan      136 non-null    int64  \n",
            " 18  monocarp   136 non-null    int64  \n",
            " 19  polycarp   136 non-null    int64  \n",
            " 20  seasaes    132 non-null    float64\n",
            " 21  seashiv    132 non-null    float64\n",
            " 22  seasver    132 non-null    float64\n",
            " 23  everalw    132 non-null    float64\n",
            " 24  everparti  132 non-null    float64\n",
            " 25  elaio      131 non-null    float64\n",
            " 26  endozoo    131 non-null    float64\n",
            " 27  epizoo     131 non-null    float64\n",
            " 28  aquat      131 non-null    float64\n",
            " 29  windgl     131 non-null    float64\n",
            " 30  unsp       131 non-null    float64\n",
            "dtypes: float64(19), int64(12)\n",
            "memory usage: 34.0+ KB\n"
          ]
        }
      ],
      "source": [
        "df.info()"
      ]
    },
    {
      "attachments": {},
      "cell_type": "markdown",
      "metadata": {
        "id": "GgrOp3XKFm-Y"
      },
      "source": [
        "#### 4. Informe o número de exemplos (linhas) e características (colunas) do dataset."
      ]
    },
    {
      "cell_type": "code",
      "execution_count": 8,
      "metadata": {
        "colab": {
          "base_uri": "https://localhost:8080/"
        },
        "id": "BhLK05PUFEY_",
        "outputId": "273d6d9a-ab92-4262-a550-993709d1004c"
      },
      "outputs": [
        {
          "name": "stdout",
          "output_type": "stream",
          "text": [
            "plantTraits possui 136 linhas e 31 colunas\n"
          ]
        }
      ],
      "source": [
        "print(f\"plantTraits possui {df.shape[0]} linhas e {df.shape[1]} colunas\")\n"
      ]
    },
    {
      "attachments": {},
      "cell_type": "markdown",
      "metadata": {
        "id": "jlMLwNsUF4Ls"
      },
      "source": [
        "#### 5. Crie uma função que ao receber um DataFrame retorna o número de linhas e colunas."
      ]
    },
    {
      "cell_type": "code",
      "execution_count": 9,
      "metadata": {
        "colab": {
          "base_uri": "https://localhost:8080/"
        },
        "id": "D51iTyo0F5di",
        "outputId": "780d440f-322c-4478-ac0b-fa09a3885f2e"
      },
      "outputs": [
        {
          "data": {
            "text/plain": [
              "(136, 31)"
            ]
          },
          "execution_count": 9,
          "metadata": {},
          "output_type": "execute_result"
        }
      ],
      "source": [
        "def numero_linhas_colunas(df):\n",
        "  return df.shape\n",
        "\n",
        "numero_linhas_colunas(df)"
      ]
    },
    {
      "cell_type": "markdown",
      "metadata": {
        "id": "sLEJ44kwCJIs"
      },
      "source": [
        "## Desafio 2: Conversão"
      ]
    },
    {
      "attachments": {},
      "cell_type": "markdown",
      "metadata": {
        "id": "LXAd5cIYGsXS"
      },
      "source": [
        "Definição do problema: Dada a tabela com a média de altura e peso de mulheres estadunidenses, onde os nomes das colunas estão em inglês height (altura) e weight (peso) e seus respectivos valores estão nas seguintes unidades: polegada e libras.\n",
        "1. Construa uma nova representação onde os nomes das colunas estão em português, e os valores de altura são convertidos para centímetros e os valores de peso convertidos para quilograma.\n",
        "2. Plote o scatterplot de altura x peso da nova representação.\n",
        "\n",
        "Código do dataset: women\n",
        "\n",
        "Dicas:\n",
        "* 1 polegada = 2,54 centímetros\n",
        "* 1 libra = 0,45 quilos\n",
        "* use o método .plot.scatter()"
      ]
    },
    {
      "attachments": {},
      "cell_type": "markdown",
      "metadata": {},
      "source": [
        "#### 1. Construindo uma nova representação onde os nomes das colunas estão em português, e os valores de altura são convertidos para centímetros e os valores de peso convertidos para quilograma"
      ]
    },
    {
      "cell_type": "code",
      "execution_count": 10,
      "metadata": {},
      "outputs": [
        {
          "name": "stdout",
          "output_type": "stream",
          "text": [
            "women\n",
            "\n",
            "PyDataset Documentation (adopted from R Documentation. The displayed examples are in R)\n",
            "\n",
            "## Average Heights and Weights for American Women\n",
            "\n",
            "### Description\n",
            "\n",
            "This data set gives the average heights and weights for American women aged\n",
            "30–39.\n",
            "\n",
            "### Usage\n",
            "\n",
            "    women\n",
            "\n",
            "### Format\n",
            "\n",
            "A data frame with 15 observations on 2 variables.\n",
            "\n",
            "`[,1]`\n",
            "\n",
            "`height`\n",
            "\n",
            "numeric\n",
            "\n",
            "Height (in)\n",
            "\n",
            "`[,2]`\n",
            "\n",
            "`weight`\n",
            "\n",
            "numeric\n",
            "\n",
            "Weight (lbs)\n",
            "\n",
            "### Details\n",
            "\n",
            "The data set appears to have been taken from the American Society of Actuaries\n",
            "_Build and Blood Pressure Study_ for some (unknown to us) earlier year.\n",
            "\n",
            "The World Almanac notes: “The figures represent weights in ordinary indoor\n",
            "clothing and shoes, and heights with shoes”.\n",
            "\n",
            "### Source\n",
            "\n",
            "The World Almanac and Book of Facts, 1975.\n",
            "\n",
            "### References\n",
            "\n",
            "McNeil, D. R. (1977) _Interactive Data Analysis_. Wiley.\n",
            "\n",
            "### Examples\n",
            "\n",
            "    require(graphics)\n",
            "    plot(women, xlab = \"Height (in)\", ylab = \"Weight (lb)\",\n",
            "         main = \"women data: American women aged 30-39\")\n",
            "\n",
            "\n"
          ]
        }
      ],
      "source": [
        "data('women', show_doc=True)\n",
        "df = data('women')"
      ]
    },
    {
      "cell_type": "code",
      "execution_count": 11,
      "metadata": {},
      "outputs": [
        {
          "name": "stdout",
          "output_type": "stream",
          "text": [
            "<class 'pandas.core.frame.DataFrame'>\n",
            "Int64Index: 15 entries, 1 to 15\n",
            "Data columns (total 2 columns):\n",
            " #   Column  Non-Null Count  Dtype\n",
            "---  ------  --------------  -----\n",
            " 0   height  15 non-null     int64\n",
            " 1   weight  15 non-null     int64\n",
            "dtypes: int64(2)\n",
            "memory usage: 360.0 bytes\n"
          ]
        }
      ],
      "source": [
        "df.info()"
      ]
    },
    {
      "cell_type": "code",
      "execution_count": 12,
      "metadata": {},
      "outputs": [
        {
          "data": {
            "text/html": [
              "<div>\n",
              "<style scoped>\n",
              "    .dataframe tbody tr th:only-of-type {\n",
              "        vertical-align: middle;\n",
              "    }\n",
              "\n",
              "    .dataframe tbody tr th {\n",
              "        vertical-align: top;\n",
              "    }\n",
              "\n",
              "    .dataframe thead th {\n",
              "        text-align: right;\n",
              "    }\n",
              "</style>\n",
              "<table border=\"1\" class=\"dataframe\">\n",
              "  <thead>\n",
              "    <tr style=\"text-align: right;\">\n",
              "      <th></th>\n",
              "      <th>altura</th>\n",
              "      <th>peso</th>\n",
              "    </tr>\n",
              "  </thead>\n",
              "  <tbody>\n",
              "    <tr>\n",
              "      <th>1</th>\n",
              "      <td>147.32</td>\n",
              "      <td>51.75</td>\n",
              "    </tr>\n",
              "    <tr>\n",
              "      <th>2</th>\n",
              "      <td>149.86</td>\n",
              "      <td>52.65</td>\n",
              "    </tr>\n",
              "    <tr>\n",
              "      <th>3</th>\n",
              "      <td>152.40</td>\n",
              "      <td>54.00</td>\n",
              "    </tr>\n",
              "    <tr>\n",
              "      <th>4</th>\n",
              "      <td>154.94</td>\n",
              "      <td>55.35</td>\n",
              "    </tr>\n",
              "    <tr>\n",
              "      <th>5</th>\n",
              "      <td>157.48</td>\n",
              "      <td>56.70</td>\n",
              "    </tr>\n",
              "  </tbody>\n",
              "</table>\n",
              "</div>"
            ],
            "text/plain": [
              "   altura   peso\n",
              "1  147.32  51.75\n",
              "2  149.86  52.65\n",
              "3  152.40  54.00\n",
              "4  154.94  55.35\n",
              "5  157.48  56.70"
            ]
          },
          "metadata": {},
          "output_type": "display_data"
        }
      ],
      "source": [
        "df = df.rename(columns={'height': 'altura', 'weight': 'peso'})\n",
        "\n",
        "df.altura = 2.54 * df.altura\n",
        "df.peso = 0.45 * df.peso\n",
        "\n",
        "display(df.head())"
      ]
    },
    {
      "attachments": {},
      "cell_type": "markdown",
      "metadata": {},
      "source": [
        "#### 2. Plote o scatterplot de altura x peso da nova representação."
      ]
    },
    {
      "cell_type": "code",
      "execution_count": 17,
      "metadata": {},
      "outputs": [
        {
          "data": {
            "image/png": "[encoded data removed]",
            "text/plain": [
              "<Figure size 640x480 with 1 Axes>"
            ]
          },
          "metadata": {},
          "output_type": "display_data"
        }
      ],
      "source": [
        "plt.scatter(df.altura, df.peso)\n",
        "plt.\n",
        "plt.title('Gráfico altura x peso')\n",
        "plt.xlabel('Altura (cm)')\n",
        "plt.ylabel('Peso (kg)')\n",
        "plt.show()\n",
        "#, s=None, c=None, marker=None, cmap=None, norm=None, vmin=None, vmax=None, alpha=None, linewidths=None, *, edgecolors=None, plotnonfinite=False, data=None, **kwargs)"
      ]
    },
    {
      "cell_type": "markdown",
      "metadata": {
        "id": "Vv2z3r9sCJXN"
      },
      "source": [
        "## Desafio 3: Titanic"
      ]
    },
    {
      "cell_type": "markdown",
      "metadata": {
        "id": "ePWYXdUyG2Ro"
      },
      "source": [
        "Definição do problema:Dado que você está trabalhando com um grupo de historiadores que estão analisando o naufrágio do Titanic, informe aos historiadores as seguintes questões?\n",
        "1. Quantas pessoas sobreviveram e quantas morreram?\n",
        "2. Quantas pessoas eram da primeira, segunda e terceira classe?\n",
        "3. Qual a porcentagem de sobreviventes na primeira classe?\n",
        "4. Qual a porcentagem de mortos da terceira classe?\n",
        "\n",
        "Código do dataset: titanic\n",
        "\n",
        "Dicas:\n",
        "\n",
        "● value_counts() (Itens 1 e 2)\n",
        "\n",
        "● seleção de subconjuntos (Itens 3 e 4)"
      ]
    },
    {
      "cell_type": "code",
      "execution_count": 18,
      "metadata": {
        "id": "nRZqaAARHfKZ"
      },
      "outputs": [
        {
          "name": "stdout",
          "output_type": "stream",
          "text": [
            "titanic\n",
            "\n",
            "PyDataset Documentation (adopted from R Documentation. The displayed examples are in R)\n",
            "\n",
            "## titanic\n",
            "\n",
            "### Description\n",
            "\n",
            "The data is an observation-based version of the 1912 Titanic passenger\n",
            "survival log,\n",
            "\n",
            "### Usage\n",
            "\n",
            "    data(titanic)\n",
            "\n",
            "### Format\n",
            "\n",
            "A data frame with 1316 observations on the following 4 variables.\n",
            "\n",
            "`class`\n",
            "\n",
            "a factor with levels `1st class` `2nd class` `3rd class` `crew`\n",
            "\n",
            "`age`\n",
            "\n",
            "a factor with levels `child` `adults`\n",
            "\n",
            "`sex`\n",
            "\n",
            "a factor with levels `women` `man`\n",
            "\n",
            "`survived`\n",
            "\n",
            "a factor with levels `no` `yes`\n",
            "\n",
            "### Details\n",
            "\n",
            "titanic is saved as a data frame. Used to assess risk ratios\n",
            "\n",
            "### Source\n",
            "\n",
            "Found in many other texts\n",
            "\n",
            "### References\n",
            "\n",
            "Hilbe, Joseph M (2014), Modeling Count Data, Cambridge University Press Hilbe,\n",
            "Joseph M (2007, 2011), Negative Binomial Regression, Cambridge University\n",
            "Press Hilbe, Joseph M (2009), Logistic Regression Models, Chapman & Hall/CRC\n",
            "\n",
            "### Examples\n",
            "\n",
            "    data(titanic)\n",
            "    titanic$survival <- titanic$survived == \"yes\"\n",
            "    glmlr <- glm(survival ~ age + sex + factor(class), family=binomial, data=titanic)\n",
            "    summary(glmlr)\n",
            "\n",
            "\n"
          ]
        }
      ],
      "source": [
        "data('titanic', show_doc=True)\n",
        "df = data('titanic')"
      ]
    },
    {
      "cell_type": "code",
      "execution_count": 21,
      "metadata": {},
      "outputs": [
        {
          "data": {
            "text/html": [
              "<div>\n",
              "<style scoped>\n",
              "    .dataframe tbody tr th:only-of-type {\n",
              "        vertical-align: middle;\n",
              "    }\n",
              "\n",
              "    .dataframe tbody tr th {\n",
              "        vertical-align: top;\n",
              "    }\n",
              "\n",
              "    .dataframe thead th {\n",
              "        text-align: right;\n",
              "    }\n",
              "</style>\n",
              "<table border=\"1\" class=\"dataframe\">\n",
              "  <thead>\n",
              "    <tr style=\"text-align: right;\">\n",
              "      <th></th>\n",
              "      <th>class</th>\n",
              "      <th>age</th>\n",
              "      <th>sex</th>\n",
              "      <th>survived</th>\n",
              "    </tr>\n",
              "  </thead>\n",
              "  <tbody>\n",
              "    <tr>\n",
              "      <th>1</th>\n",
              "      <td>1st class</td>\n",
              "      <td>adults</td>\n",
              "      <td>man</td>\n",
              "      <td>yes</td>\n",
              "    </tr>\n",
              "    <tr>\n",
              "      <th>2</th>\n",
              "      <td>1st class</td>\n",
              "      <td>adults</td>\n",
              "      <td>man</td>\n",
              "      <td>yes</td>\n",
              "    </tr>\n",
              "    <tr>\n",
              "      <th>3</th>\n",
              "      <td>1st class</td>\n",
              "      <td>adults</td>\n",
              "      <td>man</td>\n",
              "      <td>yes</td>\n",
              "    </tr>\n",
              "    <tr>\n",
              "      <th>4</th>\n",
              "      <td>1st class</td>\n",
              "      <td>adults</td>\n",
              "      <td>man</td>\n",
              "      <td>yes</td>\n",
              "    </tr>\n",
              "    <tr>\n",
              "      <th>5</th>\n",
              "      <td>1st class</td>\n",
              "      <td>adults</td>\n",
              "      <td>man</td>\n",
              "      <td>yes</td>\n",
              "    </tr>\n",
              "  </tbody>\n",
              "</table>\n",
              "</div>"
            ],
            "text/plain": [
              "       class     age  sex survived\n",
              "1  1st class  adults  man      yes\n",
              "2  1st class  adults  man      yes\n",
              "3  1st class  adults  man      yes\n",
              "4  1st class  adults  man      yes\n",
              "5  1st class  adults  man      yes"
            ]
          },
          "metadata": {},
          "output_type": "display_data"
        }
      ],
      "source": [
        "display(df.head(5))"
      ]
    },
    {
      "cell_type": "code",
      "execution_count": 20,
      "metadata": {},
      "outputs": [
        {
          "name": "stdout",
          "output_type": "stream",
          "text": [
            "<class 'pandas.core.frame.DataFrame'>\n",
            "Int64Index: 1316 entries, 1 to 1316\n",
            "Data columns (total 4 columns):\n",
            " #   Column    Non-Null Count  Dtype \n",
            "---  ------    --------------  ----- \n",
            " 0   class     1316 non-null   object\n",
            " 1   age       1316 non-null   object\n",
            " 2   sex       1316 non-null   object\n",
            " 3   survived  1316 non-null   object\n",
            "dtypes: object(4)\n",
            "memory usage: 51.4+ KB\n"
          ]
        }
      ],
      "source": [
        "df.info()"
      ]
    },
    {
      "attachments": {},
      "cell_type": "markdown",
      "metadata": {},
      "source": [
        "#### 1. Quantas pessoas sobreviveram e quantas morreram?"
      ]
    },
    {
      "cell_type": "code",
      "execution_count": 25,
      "metadata": {},
      "outputs": [],
      "source": [
        "qtd_survived = df['survived'].value_counts()['yes']\n",
        "qtd_not_survives = df['survived'].value_counts()['no']\n"
      ]
    },
    {
      "cell_type": "code",
      "execution_count": 26,
      "metadata": {},
      "outputs": [
        {
          "name": "stdout",
          "output_type": "stream",
          "text": [
            "Quantidade de sobreviventes: 499\n",
            "Quantidade de óbitos: 817\n"
          ]
        }
      ],
      "source": [
        "print(f\"Quantidade de sobreviventes: {qtd_survived}\")\n",
        "print(f\"Quantidade de óbitos: {qtd_not_survives}\")"
      ]
    },
    {
      "attachments": {},
      "cell_type": "markdown",
      "metadata": {},
      "source": [
        "#### 2. Quantas pessoas eram da primeira, segunda e terceira classe?\n"
      ]
    },
    {
      "cell_type": "code",
      "execution_count": null,
      "metadata": {},
      "outputs": [],
      "source": []
    },
    {
      "cell_type": "code",
      "execution_count": null,
      "metadata": {},
      "outputs": [],
      "source": [
        "qtd_1st = df['']\n",
        "qtd_2st = df['']\n",
        "qtd_3st = df['']"
      ]
    },
    {
      "attachments": {},
      "cell_type": "markdown",
      "metadata": {},
      "source": [
        "#### 3. Qual a porcentagem de sobreviventes na primeira classe?\n"
      ]
    },
    {
      "attachments": {},
      "cell_type": "markdown",
      "metadata": {},
      "source": [
        "#### 4. Qual a porcentagem de mortos da terceira classe?"
      ]
    },
    {
      "cell_type": "markdown",
      "metadata": {
        "id": "dPlqbJFRCJdw"
      },
      "source": [
        "## Desafio 4: Futebol"
      ]
    },
    {
      "cell_type": "markdown",
      "metadata": {
        "id": "eZ8ErtCPHEGi"
      },
      "source": [
        "Definição do problema: Dado que você está trabalhando numa emissora de televisão, o narrador precisa informar o jogo com o maior número de gols na história da Bundesliga (Campeonato Alemão). Você precisa fazer uma busca em todos os jogos da história deste campeonato e verificar qual jogo é esse e passar a informação ao narrador, para posteriormente, o narrador informar aos telespectadores.\n",
        "1. Verificar os jogos com maior quantidade de gols na história da Bundesliga\n",
        "2. Informar a data, os times participantes e o placar do jogo\n",
        "\n",
        "Código do dataset: Bundesliga\n",
        "\n",
        "Dicas:\n",
        "\n",
        "● Criar uma nova variável \"TotalGols\" com o total de gols da partida;\n",
        "\n",
        "● Use o método.max()"
      ]
    },
    {
      "cell_type": "code",
      "execution_count": null,
      "metadata": {
        "id": "XsEcK7EoHc6k"
      },
      "outputs": [],
      "source": []
    },
    {
      "cell_type": "markdown",
      "metadata": {
        "id": "ez7ttIiaCJil"
      },
      "source": [
        "## Desafio 5: Forbes"
      ]
    },
    {
      "cell_type": "markdown",
      "metadata": {
        "id": "2FRRKHZJHRqC"
      },
      "source": [
        "Definição do problema: Você está trabalhando em um jornal e o editor quer que você responda as seguintes questões:\n",
        "1. Qual a empresa mais valiosa da lista da Forbes 2000?\n",
        "2. Construa uma tabela com as TOP 10 empresas mais lucrativas da lista.\n",
        "3. Qual a média de valores de empresa das cinco categorias mais valiosas?\n",
        "Código do dataset: Forbes2000\n",
        "\n",
        "Dicas:\n",
        "\n",
        "● Método.max()\n",
        "\n",
        "● Método.nlargest()\n",
        "\n",
        "● Método.groupby()"
      ]
    },
    {
      "cell_type": "code",
      "execution_count": null,
      "metadata": {
        "id": "_OVapLyPHZcD"
      },
      "outputs": [],
      "source": []
    },
    {
      "cell_type": "markdown",
      "metadata": {
        "id": "6CFao6mmCJtm"
      },
      "source": [
        "## Desafio 6: Rendimento Ações"
      ]
    },
    {
      "cell_type": "markdown",
      "metadata": {
        "id": "suBaR16sHjn0"
      },
      "source": [
        "Definição do problema: Você está trabalhando num banco e precisa informar ao seu cliente em que ano foi a maior rentabilidade de dividendo pago por ação da empresa Johnson&Jonson\n",
        "\n",
        "1. Agregar os rendimentos de um mesmo ano.\n",
        "\n",
        "2. Calcular a valorização do rendimento de um ano para outro.\n",
        "\n",
        "3. Informar o ano de maior rentabilidade.\n",
        "\n",
        "Código do dataset: JohnsonJohnson\n",
        "\n",
        "Dicas:\n",
        "\n",
        "* Criar uma nova representação dos dados, onde a informação é anual\n",
        "\n",
        "* Criar uma nova coluna informando a valorização anual\n",
        "\n",
        "* numpy.trunc()\n",
        "\n",
        "* método.shift()\n",
        "\n",
        "* método.idxmax()"
      ]
    },
    {
      "cell_type": "code",
      "execution_count": null,
      "metadata": {
        "id": "LZoyJTUoHr_c"
      },
      "outputs": [],
      "source": []
    },
    {
      "cell_type": "markdown",
      "metadata": {
        "id": "-Pt_6P0DC_Do"
      },
      "source": [
        "## Desafio 7: Condições de Moradia"
      ]
    },
    {
      "cell_type": "markdown",
      "metadata": {
        "id": "GLfiLT7_HuVI"
      },
      "source": [
        "Definição do problema: Dado que você recebeu dados de pessoas em situação de rua, informe aos pesquisadores as seguintes respostas\n",
        "1. Em quantas medições, em média, as pessoas da base estava em situação de rua?\n",
        "\n",
        "2. Qual a proporção de moradores que estiveram inscritos em Section 8 em algum momento?\n",
        "\n",
        "3. Quantas pessoas estiveram 100% do tempo em situação de rua?\n",
        "\n",
        "4. Qual percentual das pessoas apresentaram uma melhora de condições de moradia no final do estudo?\n",
        "\n",
        "Código do dataset: housing\n",
        "\n",
        "Dicas:\n",
        "\n",
        "● Cada pessoa está registrada com um ID diferente.\n",
        "\n",
        "● Uma medição da condição da pessoa é feita a cada seis meses.\n",
        "\n",
        "● Foram feitas medições por 2 anos.\n",
        "\n",
        "● É importante conferir a documentação da base para entender o que significa cada código da variável y."
      ]
    },
    {
      "cell_type": "code",
      "execution_count": null,
      "metadata": {
        "id": "DZiYOKLOH39m"
      },
      "outputs": [],
      "source": []
    },
    {
      "cell_type": "markdown",
      "metadata": {
        "id": "J5bHUBB9C_Pl"
      },
      "source": [
        "## Desafio 8: Suicídios"
      ]
    },
    {
      "cell_type": "markdown",
      "metadata": {
        "id": "vhxgrirSH6Ho"
      },
      "source": [
        "Definição do problema: Dado que você é uma investigadora da polícia e tem em mãos uma base de dados sobre o histórico de suicídios de seu país.\n",
        "\n",
        "1. Crie uma função que ao informar o sexo e a faixa etária de um suícidio é retornado as probabilidades do método utilizado.\n",
        "\n",
        "2. Com auxílio da função input() faça a chamada da função do item 1. (a ideia é simular uma interface amigável)\n",
        "\n",
        "Código do dataset: Suicide\n",
        "\n",
        "Dicas:\n",
        "\n",
        "● Utilizar o método groupby"
      ]
    },
    {
      "cell_type": "code",
      "execution_count": null,
      "metadata": {
        "id": "P0GSeyfRICO4"
      },
      "outputs": [],
      "source": []
    }
  ],
  "metadata": {
    "colab": {
      "provenance": []
    },
    "kernelspec": {
      "display_name": "base",
      "language": "python",
      "name": "python3"
    },
    "language_info": {
      "codemirror_mode": {
        "name": "ipython",
        "version": 3
      },
      "file_extension": ".py",
      "mimetype": "text/x-python",
      "name": "python",
      "nbconvert_exporter": "python",
      "pygments_lexer": "ipython3",
      "version": "3.9.13"
    },
    "vscode": {
      "interpreter": {
        "hash": "a9a945df823e285c06b96a2606972f70ab25f91665b500d829d03b1c9fd07f0c"
      }
    }
  },
  "nbformat": 4,
  "nbformat_minor": 0
}
