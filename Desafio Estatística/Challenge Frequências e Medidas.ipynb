{
 "cells": [
  {
   "attachments": {},
   "cell_type": "markdown",
   "metadata": {},
   "source": [
    "# Challenge Frequências e Medidas\n",
    "## Desafio 1: Entendendo os estudantes"
   ]
  },
  {
   "attachments": {},
   "cell_type": "markdown",
   "metadata": {},
   "source": [
    "Esse desafio tem como objetivo responder algumas perguntas através da\n",
    "análise de dados, aprofundando o conhecimento em frequência e medidas.\n",
    "Os dados que deverão ser utilizado nesse script foram baixados do kaggle,\n",
    "e podem ser acessados através do link:\n",
    "https://www.kaggle.com/spscientist/students-performance-in-exams\n",
    "\n",
    "Este conjunto de dados consiste nas notas obtidas pelos alunos em várias\n",
    "disciplinas e suas informações pessoais.\n",
    "Variáveis:\n",
    "- gender - gênero do aluno\n",
    "- race/ethnicity - raça/etnia dos alunos\n",
    "- parental level of education - grau de escolaridade dos pais\n",
    "- lunch - tipo de almoço\n",
    "- test preparation course - indica se fez curso preparatório\n",
    "- math score - nota na prova de matematica\n",
    "- reading score - nota na prova de leitura\n",
    "- writing score - nota na prova de escrita\n",
    "Os dados são arquivos em .csv.\n",
    "\n",
    "Dica / Passo a Passo:\n",
    "1. Leia a base de dados e faça uma análise inicial, como por exemplo,\n",
    "verificar o tamanho da base de dados (quantidade de linhas e\n",
    "colunas) e o tipo das variáveis.\n",
    "2. Alguma variável precisa ser alterada ou criada? Faça as alterações se\n",
    "julgar necessária.\n",
    "3. Verifique a quantidade de alunos em cada grupo racial/étnico.\n",
    "4. Qual a quantidade de alunos de cada gênero? Existem mais alunos do\n",
    "gênero masculino ou feminino?\n",
    "5. Analise as notas de matemática dos alunos de forma mais completa\n",
    "possível.\n",
    "\n",
    "Dica: Identifique o tipo de variável e faça todas análises que você sabe que\n",
    "pode ser aplicado para esse tipo de variável. Por exemplo, se for uma\n",
    "variável quantitativa calcule a média, mediana, quartis, etc. Já se for uma\n",
    "variável qualitativa faça a tabela de fequência, moda, etc.\n",
    "\n",
    "Faça também análises gráficas das sugestões abaixo ou o que achar\n",
    "pertinente.\n",
    "- Qual a nota média de matemática dos alunos segundo o grau de\n",
    "escolaridade dos pais?\n",
    "- Faça a mesma análise para as notas de leitura e escrita.\n",
    "- Verifique gráficamente a relação da nota de leitura e de escrita.\n",
    "\n",
    "Atividade extra:\n",
    "Análise mais algum dado que seja interessante avaliar e represente\n",
    "graficamente, através de boxplot, histogramas, barplot dentre outros\n",
    "diversos de livre escolha."
   ]
  }
 ],
 "metadata": {
  "kernelspec": {
   "display_name": "base",
   "language": "python",
   "name": "python3"
  },
  "language_info": {
   "name": "python",
   "version": "3.9.13"
  },
  "orig_nbformat": 4,
  "vscode": {
   "interpreter": {
    "hash": "a9a945df823e285c06b96a2606972f70ab25f91665b500d829d03b1c9fd07f0c"
   }
  }
 },
 "nbformat": 4,
 "nbformat_minor": 2
}
