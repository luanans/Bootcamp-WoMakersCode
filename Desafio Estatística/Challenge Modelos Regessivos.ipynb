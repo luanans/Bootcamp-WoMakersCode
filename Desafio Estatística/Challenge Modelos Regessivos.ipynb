{
 "cells": [
  {
   "attachments": {},
   "cell_type": "markdown",
   "metadata": {},
   "source": [
    "# Challenge Modelos Regessivos\n",
    "## Desafio: Estimando o Preço do Imóvel"
   ]
  },
  {
   "attachments": {},
   "cell_type": "markdown",
   "metadata": {},
   "source": [
    "Suponha que você trabalha em uma empresa do setor imobiliário. Após explorar as principais variáveis que impactam o preco dos imóveis, na semana passada, pediram para você, do time de dados, construir um modelo que estime o preço de um imóvel.\n",
    "Para isso, você utilizará a mesma base de dados da semana anterior\n",
    "(desafio_01_preco_imoveis.csv). Como você poderia ajudá-los?\n",
    "A base contém as seguintes informações:\n",
    "- id : código identificador do imóvel\n",
    "- date: data em que o imóvel foi cadastrado\n",
    "- price: preço do imóvel\n",
    "- bedrooms: número de quartos\n",
    "- bathrooms: número de banheiros\n",
    "- sqft_living: tamanho do imóvel (dentro da casa)\n",
    "- sqft_lot: tamanho do lote / terreno\n",
    "- floors: andares\n",
    "- waterfront: flag se o imóvel tem vista para o mar. 1 caso positivo, 0 caso contrário.\n",
    "- view: indica o número de quartos com vista.\n",
    "- condition: condição do imóvel, escala de 1 a 5\n",
    "- grade: nota do imóvel\n",
    "- sqft_above: tamanho da casa acima do solo (excluindo porão)\n",
    "- sqft_basement: tamanho do porão\n",
    "- yr_built: ano em que a casa foi construída\n",
    "- yr_renovated: ano em que a casa foi renovada\n",
    "- zipcode: \"CEP\" do imóvel\n",
    "- lat: latitude do imóvel\n",
    "- long: longitude do imóvel"
   ]
  },
  {
   "attachments": {},
   "cell_type": "markdown",
   "metadata": {},
   "source": [
    "1. Selecione as principais variáveis que você gostaria de incluir no modelo de precificação do imóvel.\n",
    "2. Construa um modelo de regressão linear multivariada para estimar o preço do imóvel. Lembre-se de: Analisar a tabela de regressão e os resíduos do modelo e interprete os resultados\n",
    "3. Suponha agora que você encontrou um modelo ideal. Explique como você faria para colocar esse modelo em produção? Entenda por modelo em produção um modelo que a cada apartamento novo inserido na base precifique-o com base no seu modelo. \n",
    "\n",
    "Materiais de apoio:\n",
    "https://medium.com/creditas-tech/terminei-a-modelagem-e-agora-parte-i-604232bb5114\n",
    "https://medium.com/analytics-vidhya/deploying-linear-regression-ml-model-as-web-application-on-docker-3409f9464a27 (conteúdo em inglês: utilizar google tradutor caso necessário)\n",
    "\n",
    "https://docs.microsoft.com/en-us/sql/machine-learning/tutorials/python-ski-rental-linear-regression-deploy-model?view=sql-server-ver15 (conteúdo em inglês: utilizar google tradutor caso necessário)"
   ]
  },
  {
   "attachments": {},
   "cell_type": "markdown",
   "metadata": {},
   "source": [
    "## Importação das bibliotecas"
   ]
  },
  {
   "cell_type": "code",
   "execution_count": 23,
   "metadata": {},
   "outputs": [],
   "source": [
    "import pandas as pd\n",
    "import numpy as np\n",
    "import seaborn as sns\n",
    "import matplotlib.pyplot as plt\n",
    "import statsmodels.api as sm\n",
    "\n",
    "from sklearn.model_selection import train_test_split\n",
    "from sklearn.linear_model import LinearRegression\n",
    "from sklearn import metrics"
   ]
  },
  {
   "cell_type": "code",
   "execution_count": 24,
   "metadata": {},
   "outputs": [],
   "source": [
    "# Suprimindo notação científica\n",
    "pd.set_option('display.float_format', lambda x: '%.5f' % x)"
   ]
  },
  {
   "attachments": {},
   "cell_type": "markdown",
   "metadata": {},
   "source": [
    "## Importação dos dados"
   ]
  },
  {
   "cell_type": "code",
   "execution_count": 25,
   "metadata": {},
   "outputs": [
    {
     "data": {
      "text/html": [
       "<div>\n",
       "<style scoped>\n",
       "    .dataframe tbody tr th:only-of-type {\n",
       "        vertical-align: middle;\n",
       "    }\n",
       "\n",
       "    .dataframe tbody tr th {\n",
       "        vertical-align: top;\n",
       "    }\n",
       "\n",
       "    .dataframe thead th {\n",
       "        text-align: right;\n",
       "    }\n",
       "</style>\n",
       "<table border=\"1\" class=\"dataframe\">\n",
       "  <thead>\n",
       "    <tr style=\"text-align: right;\">\n",
       "      <th></th>\n",
       "      <th>id</th>\n",
       "      <th>date</th>\n",
       "      <th>price</th>\n",
       "      <th>bedrooms</th>\n",
       "      <th>bathrooms</th>\n",
       "      <th>sqft_living</th>\n",
       "      <th>sqft_lot</th>\n",
       "      <th>floors</th>\n",
       "      <th>waterfront</th>\n",
       "      <th>view</th>\n",
       "      <th>condition</th>\n",
       "      <th>grade</th>\n",
       "      <th>sqft_above</th>\n",
       "      <th>sqft_basement</th>\n",
       "      <th>yr_built</th>\n",
       "      <th>yr_renovated</th>\n",
       "      <th>zipcode</th>\n",
       "      <th>lat</th>\n",
       "      <th>long</th>\n",
       "    </tr>\n",
       "  </thead>\n",
       "  <tbody>\n",
       "    <tr>\n",
       "      <th>0</th>\n",
       "      <td>7129300520</td>\n",
       "      <td>20141013T000000</td>\n",
       "      <td>221900.00000</td>\n",
       "      <td>3</td>\n",
       "      <td>1.00000</td>\n",
       "      <td>1180</td>\n",
       "      <td>5650</td>\n",
       "      <td>1.00000</td>\n",
       "      <td>0</td>\n",
       "      <td>0</td>\n",
       "      <td>3</td>\n",
       "      <td>7</td>\n",
       "      <td>1180</td>\n",
       "      <td>0</td>\n",
       "      <td>1955</td>\n",
       "      <td>0</td>\n",
       "      <td>98178</td>\n",
       "      <td>47.51120</td>\n",
       "      <td>-122.25700</td>\n",
       "    </tr>\n",
       "    <tr>\n",
       "      <th>1</th>\n",
       "      <td>6414100192</td>\n",
       "      <td>20141209T000000</td>\n",
       "      <td>538000.00000</td>\n",
       "      <td>3</td>\n",
       "      <td>2.25000</td>\n",
       "      <td>2570</td>\n",
       "      <td>7242</td>\n",
       "      <td>2.00000</td>\n",
       "      <td>0</td>\n",
       "      <td>0</td>\n",
       "      <td>3</td>\n",
       "      <td>7</td>\n",
       "      <td>2170</td>\n",
       "      <td>400</td>\n",
       "      <td>1951</td>\n",
       "      <td>1991</td>\n",
       "      <td>98125</td>\n",
       "      <td>47.72100</td>\n",
       "      <td>-122.31900</td>\n",
       "    </tr>\n",
       "    <tr>\n",
       "      <th>2</th>\n",
       "      <td>5631500400</td>\n",
       "      <td>20150225T000000</td>\n",
       "      <td>180000.00000</td>\n",
       "      <td>2</td>\n",
       "      <td>1.00000</td>\n",
       "      <td>770</td>\n",
       "      <td>10000</td>\n",
       "      <td>1.00000</td>\n",
       "      <td>0</td>\n",
       "      <td>0</td>\n",
       "      <td>3</td>\n",
       "      <td>6</td>\n",
       "      <td>770</td>\n",
       "      <td>0</td>\n",
       "      <td>1933</td>\n",
       "      <td>0</td>\n",
       "      <td>98028</td>\n",
       "      <td>47.73790</td>\n",
       "      <td>-122.23300</td>\n",
       "    </tr>\n",
       "    <tr>\n",
       "      <th>3</th>\n",
       "      <td>2487200875</td>\n",
       "      <td>20141209T000000</td>\n",
       "      <td>604000.00000</td>\n",
       "      <td>4</td>\n",
       "      <td>3.00000</td>\n",
       "      <td>1960</td>\n",
       "      <td>5000</td>\n",
       "      <td>1.00000</td>\n",
       "      <td>0</td>\n",
       "      <td>0</td>\n",
       "      <td>5</td>\n",
       "      <td>7</td>\n",
       "      <td>1050</td>\n",
       "      <td>910</td>\n",
       "      <td>1965</td>\n",
       "      <td>0</td>\n",
       "      <td>98136</td>\n",
       "      <td>47.52080</td>\n",
       "      <td>-122.39300</td>\n",
       "    </tr>\n",
       "    <tr>\n",
       "      <th>4</th>\n",
       "      <td>1954400510</td>\n",
       "      <td>20150218T000000</td>\n",
       "      <td>510000.00000</td>\n",
       "      <td>3</td>\n",
       "      <td>2.00000</td>\n",
       "      <td>1680</td>\n",
       "      <td>8080</td>\n",
       "      <td>1.00000</td>\n",
       "      <td>0</td>\n",
       "      <td>0</td>\n",
       "      <td>3</td>\n",
       "      <td>8</td>\n",
       "      <td>1680</td>\n",
       "      <td>0</td>\n",
       "      <td>1987</td>\n",
       "      <td>0</td>\n",
       "      <td>98074</td>\n",
       "      <td>47.61680</td>\n",
       "      <td>-122.04500</td>\n",
       "    </tr>\n",
       "  </tbody>\n",
       "</table>\n",
       "</div>"
      ],
      "text/plain": [
       "           id             date        price  bedrooms  bathrooms  sqft_living  \\\n",
       "0  7129300520  20141013T000000 221900.00000         3    1.00000         1180   \n",
       "1  6414100192  20141209T000000 538000.00000         3    2.25000         2570   \n",
       "2  5631500400  20150225T000000 180000.00000         2    1.00000          770   \n",
       "3  2487200875  20141209T000000 604000.00000         4    3.00000         1960   \n",
       "4  1954400510  20150218T000000 510000.00000         3    2.00000         1680   \n",
       "\n",
       "   sqft_lot  floors  waterfront  view  condition  grade  sqft_above  \\\n",
       "0      5650 1.00000           0     0          3      7        1180   \n",
       "1      7242 2.00000           0     0          3      7        2170   \n",
       "2     10000 1.00000           0     0          3      6         770   \n",
       "3      5000 1.00000           0     0          5      7        1050   \n",
       "4      8080 1.00000           0     0          3      8        1680   \n",
       "\n",
       "   sqft_basement  yr_built  yr_renovated  zipcode      lat       long  \n",
       "0              0      1955             0    98178 47.51120 -122.25700  \n",
       "1            400      1951          1991    98125 47.72100 -122.31900  \n",
       "2              0      1933             0    98028 47.73790 -122.23300  \n",
       "3            910      1965             0    98136 47.52080 -122.39300  \n",
       "4              0      1987             0    98074 47.61680 -122.04500  "
      ]
     },
     "execution_count": 25,
     "metadata": {},
     "output_type": "execute_result"
    }
   ],
   "source": [
    "df = pd.read_csv('./dados/desafio_01_preco_imoveis.csv')\n",
    "df.head()"
   ]
  },
  {
   "cell_type": "code",
   "execution_count": 26,
   "metadata": {},
   "outputs": [
    {
     "name": "stdout",
     "output_type": "stream",
     "text": [
      "<class 'pandas.core.frame.DataFrame'>\n",
      "RangeIndex: 21613 entries, 0 to 21612\n",
      "Data columns (total 19 columns):\n",
      " #   Column         Non-Null Count  Dtype  \n",
      "---  ------         --------------  -----  \n",
      " 0   id             21613 non-null  int64  \n",
      " 1   date           21613 non-null  object \n",
      " 2   price          21613 non-null  float64\n",
      " 3   bedrooms       21613 non-null  int64  \n",
      " 4   bathrooms      21613 non-null  float64\n",
      " 5   sqft_living    21613 non-null  int64  \n",
      " 6   sqft_lot       21613 non-null  int64  \n",
      " 7   floors         21613 non-null  float64\n",
      " 8   waterfront     21613 non-null  int64  \n",
      " 9   view           21613 non-null  int64  \n",
      " 10  condition      21613 non-null  int64  \n",
      " 11  grade          21613 non-null  int64  \n",
      " 12  sqft_above     21613 non-null  int64  \n",
      " 13  sqft_basement  21613 non-null  int64  \n",
      " 14  yr_built       21613 non-null  int64  \n",
      " 15  yr_renovated   21613 non-null  int64  \n",
      " 16  zipcode        21613 non-null  int64  \n",
      " 17  lat            21613 non-null  float64\n",
      " 18  long           21613 non-null  float64\n",
      "dtypes: float64(5), int64(13), object(1)\n",
      "memory usage: 3.1+ MB\n"
     ]
    }
   ],
   "source": [
    "df.info()"
   ]
  },
  {
   "cell_type": "code",
   "execution_count": 27,
   "metadata": {},
   "outputs": [
    {
     "data": {
      "text/html": [
       "<div>\n",
       "<style scoped>\n",
       "    .dataframe tbody tr th:only-of-type {\n",
       "        vertical-align: middle;\n",
       "    }\n",
       "\n",
       "    .dataframe tbody tr th {\n",
       "        vertical-align: top;\n",
       "    }\n",
       "\n",
       "    .dataframe thead th {\n",
       "        text-align: right;\n",
       "    }\n",
       "</style>\n",
       "<table border=\"1\" class=\"dataframe\">\n",
       "  <thead>\n",
       "    <tr style=\"text-align: right;\">\n",
       "      <th></th>\n",
       "      <th>id</th>\n",
       "      <th>price</th>\n",
       "      <th>bedrooms</th>\n",
       "      <th>bathrooms</th>\n",
       "      <th>sqft_living</th>\n",
       "      <th>sqft_lot</th>\n",
       "      <th>floors</th>\n",
       "      <th>waterfront</th>\n",
       "      <th>view</th>\n",
       "      <th>condition</th>\n",
       "      <th>grade</th>\n",
       "      <th>sqft_above</th>\n",
       "      <th>sqft_basement</th>\n",
       "      <th>yr_built</th>\n",
       "      <th>yr_renovated</th>\n",
       "      <th>zipcode</th>\n",
       "      <th>lat</th>\n",
       "      <th>long</th>\n",
       "    </tr>\n",
       "  </thead>\n",
       "  <tbody>\n",
       "    <tr>\n",
       "      <th>count</th>\n",
       "      <td>21613.00000</td>\n",
       "      <td>21613.00000</td>\n",
       "      <td>21613.00000</td>\n",
       "      <td>21613.00000</td>\n",
       "      <td>21613.00000</td>\n",
       "      <td>21613.00000</td>\n",
       "      <td>21613.00000</td>\n",
       "      <td>21613.00000</td>\n",
       "      <td>21613.00000</td>\n",
       "      <td>21613.00000</td>\n",
       "      <td>21613.00000</td>\n",
       "      <td>21613.00000</td>\n",
       "      <td>21613.00000</td>\n",
       "      <td>21613.00000</td>\n",
       "      <td>21613.00000</td>\n",
       "      <td>21613.00000</td>\n",
       "      <td>21613.00000</td>\n",
       "      <td>21613.00000</td>\n",
       "    </tr>\n",
       "    <tr>\n",
       "      <th>mean</th>\n",
       "      <td>4580301520.86499</td>\n",
       "      <td>540088.14177</td>\n",
       "      <td>3.37084</td>\n",
       "      <td>2.11476</td>\n",
       "      <td>2079.89974</td>\n",
       "      <td>15106.96757</td>\n",
       "      <td>1.49431</td>\n",
       "      <td>0.00754</td>\n",
       "      <td>0.23430</td>\n",
       "      <td>3.40943</td>\n",
       "      <td>7.65687</td>\n",
       "      <td>1788.39069</td>\n",
       "      <td>291.50905</td>\n",
       "      <td>1971.00514</td>\n",
       "      <td>84.40226</td>\n",
       "      <td>98077.93980</td>\n",
       "      <td>47.56005</td>\n",
       "      <td>-122.21390</td>\n",
       "    </tr>\n",
       "    <tr>\n",
       "      <th>std</th>\n",
       "      <td>2876565571.31205</td>\n",
       "      <td>367127.19648</td>\n",
       "      <td>0.93006</td>\n",
       "      <td>0.77016</td>\n",
       "      <td>918.44090</td>\n",
       "      <td>41420.51152</td>\n",
       "      <td>0.53999</td>\n",
       "      <td>0.08652</td>\n",
       "      <td>0.76632</td>\n",
       "      <td>0.65074</td>\n",
       "      <td>1.17546</td>\n",
       "      <td>828.09098</td>\n",
       "      <td>442.57504</td>\n",
       "      <td>29.37341</td>\n",
       "      <td>401.67924</td>\n",
       "      <td>53.50503</td>\n",
       "      <td>0.13856</td>\n",
       "      <td>0.14083</td>\n",
       "    </tr>\n",
       "    <tr>\n",
       "      <th>min</th>\n",
       "      <td>1000102.00000</td>\n",
       "      <td>75000.00000</td>\n",
       "      <td>0.00000</td>\n",
       "      <td>0.00000</td>\n",
       "      <td>290.00000</td>\n",
       "      <td>520.00000</td>\n",
       "      <td>1.00000</td>\n",
       "      <td>0.00000</td>\n",
       "      <td>0.00000</td>\n",
       "      <td>1.00000</td>\n",
       "      <td>1.00000</td>\n",
       "      <td>290.00000</td>\n",
       "      <td>0.00000</td>\n",
       "      <td>1900.00000</td>\n",
       "      <td>0.00000</td>\n",
       "      <td>98001.00000</td>\n",
       "      <td>47.15590</td>\n",
       "      <td>-122.51900</td>\n",
       "    </tr>\n",
       "    <tr>\n",
       "      <th>25%</th>\n",
       "      <td>2123049194.00000</td>\n",
       "      <td>321950.00000</td>\n",
       "      <td>3.00000</td>\n",
       "      <td>1.75000</td>\n",
       "      <td>1427.00000</td>\n",
       "      <td>5040.00000</td>\n",
       "      <td>1.00000</td>\n",
       "      <td>0.00000</td>\n",
       "      <td>0.00000</td>\n",
       "      <td>3.00000</td>\n",
       "      <td>7.00000</td>\n",
       "      <td>1190.00000</td>\n",
       "      <td>0.00000</td>\n",
       "      <td>1951.00000</td>\n",
       "      <td>0.00000</td>\n",
       "      <td>98033.00000</td>\n",
       "      <td>47.47100</td>\n",
       "      <td>-122.32800</td>\n",
       "    </tr>\n",
       "    <tr>\n",
       "      <th>50%</th>\n",
       "      <td>3904930410.00000</td>\n",
       "      <td>450000.00000</td>\n",
       "      <td>3.00000</td>\n",
       "      <td>2.25000</td>\n",
       "      <td>1910.00000</td>\n",
       "      <td>7618.00000</td>\n",
       "      <td>1.50000</td>\n",
       "      <td>0.00000</td>\n",
       "      <td>0.00000</td>\n",
       "      <td>3.00000</td>\n",
       "      <td>7.00000</td>\n",
       "      <td>1560.00000</td>\n",
       "      <td>0.00000</td>\n",
       "      <td>1975.00000</td>\n",
       "      <td>0.00000</td>\n",
       "      <td>98065.00000</td>\n",
       "      <td>47.57180</td>\n",
       "      <td>-122.23000</td>\n",
       "    </tr>\n",
       "    <tr>\n",
       "      <th>75%</th>\n",
       "      <td>7308900445.00000</td>\n",
       "      <td>645000.00000</td>\n",
       "      <td>4.00000</td>\n",
       "      <td>2.50000</td>\n",
       "      <td>2550.00000</td>\n",
       "      <td>10688.00000</td>\n",
       "      <td>2.00000</td>\n",
       "      <td>0.00000</td>\n",
       "      <td>0.00000</td>\n",
       "      <td>4.00000</td>\n",
       "      <td>8.00000</td>\n",
       "      <td>2210.00000</td>\n",
       "      <td>560.00000</td>\n",
       "      <td>1997.00000</td>\n",
       "      <td>0.00000</td>\n",
       "      <td>98118.00000</td>\n",
       "      <td>47.67800</td>\n",
       "      <td>-122.12500</td>\n",
       "    </tr>\n",
       "    <tr>\n",
       "      <th>max</th>\n",
       "      <td>9900000190.00000</td>\n",
       "      <td>7700000.00000</td>\n",
       "      <td>33.00000</td>\n",
       "      <td>8.00000</td>\n",
       "      <td>13540.00000</td>\n",
       "      <td>1651359.00000</td>\n",
       "      <td>3.50000</td>\n",
       "      <td>1.00000</td>\n",
       "      <td>4.00000</td>\n",
       "      <td>5.00000</td>\n",
       "      <td>13.00000</td>\n",
       "      <td>9410.00000</td>\n",
       "      <td>4820.00000</td>\n",
       "      <td>2015.00000</td>\n",
       "      <td>2015.00000</td>\n",
       "      <td>98199.00000</td>\n",
       "      <td>47.77760</td>\n",
       "      <td>-121.31500</td>\n",
       "    </tr>\n",
       "  </tbody>\n",
       "</table>\n",
       "</div>"
      ],
      "text/plain": [
       "                    id         price    bedrooms   bathrooms  sqft_living  \\\n",
       "count      21613.00000   21613.00000 21613.00000 21613.00000  21613.00000   \n",
       "mean  4580301520.86499  540088.14177     3.37084     2.11476   2079.89974   \n",
       "std   2876565571.31205  367127.19648     0.93006     0.77016    918.44090   \n",
       "min      1000102.00000   75000.00000     0.00000     0.00000    290.00000   \n",
       "25%   2123049194.00000  321950.00000     3.00000     1.75000   1427.00000   \n",
       "50%   3904930410.00000  450000.00000     3.00000     2.25000   1910.00000   \n",
       "75%   7308900445.00000  645000.00000     4.00000     2.50000   2550.00000   \n",
       "max   9900000190.00000 7700000.00000    33.00000     8.00000  13540.00000   \n",
       "\n",
       "           sqft_lot      floors  waterfront        view   condition  \\\n",
       "count   21613.00000 21613.00000 21613.00000 21613.00000 21613.00000   \n",
       "mean    15106.96757     1.49431     0.00754     0.23430     3.40943   \n",
       "std     41420.51152     0.53999     0.08652     0.76632     0.65074   \n",
       "min       520.00000     1.00000     0.00000     0.00000     1.00000   \n",
       "25%      5040.00000     1.00000     0.00000     0.00000     3.00000   \n",
       "50%      7618.00000     1.50000     0.00000     0.00000     3.00000   \n",
       "75%     10688.00000     2.00000     0.00000     0.00000     4.00000   \n",
       "max   1651359.00000     3.50000     1.00000     4.00000     5.00000   \n",
       "\n",
       "            grade  sqft_above  sqft_basement    yr_built  yr_renovated  \\\n",
       "count 21613.00000 21613.00000    21613.00000 21613.00000   21613.00000   \n",
       "mean      7.65687  1788.39069      291.50905  1971.00514      84.40226   \n",
       "std       1.17546   828.09098      442.57504    29.37341     401.67924   \n",
       "min       1.00000   290.00000        0.00000  1900.00000       0.00000   \n",
       "25%       7.00000  1190.00000        0.00000  1951.00000       0.00000   \n",
       "50%       7.00000  1560.00000        0.00000  1975.00000       0.00000   \n",
       "75%       8.00000  2210.00000      560.00000  1997.00000       0.00000   \n",
       "max      13.00000  9410.00000     4820.00000  2015.00000    2015.00000   \n",
       "\n",
       "          zipcode         lat        long  \n",
       "count 21613.00000 21613.00000 21613.00000  \n",
       "mean  98077.93980    47.56005  -122.21390  \n",
       "std      53.50503     0.13856     0.14083  \n",
       "min   98001.00000    47.15590  -122.51900  \n",
       "25%   98033.00000    47.47100  -122.32800  \n",
       "50%   98065.00000    47.57180  -122.23000  \n",
       "75%   98118.00000    47.67800  -122.12500  \n",
       "max   98199.00000    47.77760  -121.31500  "
      ]
     },
     "execution_count": 27,
     "metadata": {},
     "output_type": "execute_result"
    }
   ],
   "source": [
    "df.describe()"
   ]
  },
  {
   "attachments": {},
   "cell_type": "markdown",
   "metadata": {},
   "source": [
    "## Seleção das variáveis independentes"
   ]
  },
  {
   "attachments": {},
   "cell_type": "markdown",
   "metadata": {},
   "source": [
    "As variáveis independentes serão escolhidas com base no grau de correlação linear com a variável resposta. Dessa forma, as variáveis com maiores correlações com o preço são:"
   ]
  },
  {
   "cell_type": "code",
   "execution_count": 28,
   "metadata": {},
   "outputs": [
    {
     "data": {
      "text/plain": [
       "price            1.00000\n",
       "sqft_living      0.70204\n",
       "grade            0.66743\n",
       "sqft_above       0.60557\n",
       "bathrooms        0.52514\n",
       "view             0.39729\n",
       "sqft_basement    0.32382\n",
       "bedrooms         0.30835\n",
       "lat              0.30700\n",
       "waterfront       0.26637\n",
       "floors           0.25679\n",
       "yr_renovated     0.12643\n",
       "sqft_lot         0.08966\n",
       "yr_built         0.05401\n",
       "condition        0.03636\n",
       "long             0.02163\n",
       "id              -0.01676\n",
       "zipcode         -0.05320\n",
       "Name: price, dtype: float64"
      ]
     },
     "execution_count": 28,
     "metadata": {},
     "output_type": "execute_result"
    }
   ],
   "source": [
    "corr = df.corr()\n",
    "corr['price'].sort_values(ascending=False)"
   ]
  },
  {
   "attachments": {},
   "cell_type": "markdown",
   "metadata": {},
   "source": [
    "Podemos considerar as variáveis sqft_living, grade, sqft_above e bathrooms para a criação do nosso modelo. No entanto, é importante verificar se essas variáveis possuem forte correlação entre si, a fim de tornar a explicação do modelo mais robusta. Isso ocorre porque a multicolinearidade, ou seja, a alta correlação entre as variáveis independentes, torna mais difícil separar os efeitos individuais de cada variável no modelo."
   ]
  },
  {
   "cell_type": "code",
   "execution_count": 29,
   "metadata": {},
   "outputs": [
    {
     "data": {
      "text/html": [
       "<div>\n",
       "<style scoped>\n",
       "    .dataframe tbody tr th:only-of-type {\n",
       "        vertical-align: middle;\n",
       "    }\n",
       "\n",
       "    .dataframe tbody tr th {\n",
       "        vertical-align: top;\n",
       "    }\n",
       "\n",
       "    .dataframe thead th {\n",
       "        text-align: right;\n",
       "    }\n",
       "</style>\n",
       "<table border=\"1\" class=\"dataframe\">\n",
       "  <thead>\n",
       "    <tr style=\"text-align: right;\">\n",
       "      <th></th>\n",
       "      <th>price</th>\n",
       "      <th>bathrooms</th>\n",
       "      <th>sqft_living</th>\n",
       "      <th>grade</th>\n",
       "      <th>sqft_above</th>\n",
       "    </tr>\n",
       "  </thead>\n",
       "  <tbody>\n",
       "    <tr>\n",
       "      <th>price</th>\n",
       "      <td></td>\n",
       "      <td></td>\n",
       "      <td>0.70204</td>\n",
       "      <td></td>\n",
       "      <td></td>\n",
       "    </tr>\n",
       "    <tr>\n",
       "      <th>bathrooms</th>\n",
       "      <td></td>\n",
       "      <td></td>\n",
       "      <td>0.75467</td>\n",
       "      <td></td>\n",
       "      <td></td>\n",
       "    </tr>\n",
       "    <tr>\n",
       "      <th>sqft_living</th>\n",
       "      <td>0.70204</td>\n",
       "      <td>0.75467</td>\n",
       "      <td></td>\n",
       "      <td>0.76270</td>\n",
       "      <td>0.87660</td>\n",
       "    </tr>\n",
       "    <tr>\n",
       "      <th>grade</th>\n",
       "      <td></td>\n",
       "      <td></td>\n",
       "      <td>0.76270</td>\n",
       "      <td></td>\n",
       "      <td>0.75592</td>\n",
       "    </tr>\n",
       "    <tr>\n",
       "      <th>sqft_above</th>\n",
       "      <td></td>\n",
       "      <td></td>\n",
       "      <td>0.87660</td>\n",
       "      <td>0.75592</td>\n",
       "      <td></td>\n",
       "    </tr>\n",
       "  </tbody>\n",
       "</table>\n",
       "</div>"
      ],
      "text/plain": [
       "              price bathrooms sqft_living   grade sqft_above\n",
       "price                             0.70204                   \n",
       "bathrooms                         0.75467                   \n",
       "sqft_living 0.70204   0.75467             0.76270    0.87660\n",
       "grade                             0.76270            0.75592\n",
       "sqft_above                        0.87660 0.75592           "
      ]
     },
     "execution_count": 29,
     "metadata": {},
     "output_type": "execute_result"
    }
   ],
   "source": [
    "# Verificando a existência de variáveis altamente correlacionadas\n",
    "corr[((corr.abs() < 1) & (corr.abs() > 0.7))].dropna(how='all').dropna(axis=1,how='all').fillna('')"
   ]
  },
  {
   "attachments": {},
   "cell_type": "markdown",
   "metadata": {},
   "source": [
    "Utilizando o limiar de corelação de 0.7, percebemos que sqft_living tem alta correlação com as demais variáveis escolhidas, assim como grade e sqft_above também têm forte correlação. Então, optaremos por excluí-las do nosso primeiro modelo."
   ]
  },
  {
   "attachments": {},
   "cell_type": "markdown",
   "metadata": {},
   "source": [
    "Para o segundo modelos, podemos utilizar o limiar de 0.8 e compará-lo com o 0.7."
   ]
  },
  {
   "attachments": {},
   "cell_type": "markdown",
   "metadata": {},
   "source": [
    "## Separação do conjunto de treino e teste"
   ]
  },
  {
   "cell_type": "code",
   "execution_count": 30,
   "metadata": {},
   "outputs": [],
   "source": [
    "from sklearn.model_selection import train_test_split\n",
    "\n",
    "y = df['price']\n",
    "X = df[['bathrooms', 'sqft_above']]\n",
    "X2 = df[['bathrooms', 'grade', 'sqft_above']]\n",
    "\n",
    "X_train, X_test, y_train, y_test = train_test_split(X, y, test_size=0.3, random_state=42)\n",
    "X2_train, X2_test, y2_train, y2_test = train_test_split(X2, y, test_size=0.3, random_state=42)"
   ]
  },
  {
   "attachments": {},
   "cell_type": "markdown",
   "metadata": {},
   "source": [
    "## Treinamento dos modelos"
   ]
  },
  {
   "cell_type": "code",
   "execution_count": 31,
   "metadata": {},
   "outputs": [],
   "source": [
    "model = LinearRegression()\n",
    "model2 = LinearRegression()"
   ]
  },
  {
   "cell_type": "code",
   "execution_count": 32,
   "metadata": {},
   "outputs": [
    {
     "data": {
      "text/plain": [
       "LinearRegression()"
      ]
     },
     "execution_count": 32,
     "metadata": {},
     "output_type": "execute_result"
    }
   ],
   "source": [
    "model.fit(X_train, y_train)\n",
    "model2.fit(X2_train, y2_train)"
   ]
  },
  {
   "attachments": {},
   "cell_type": "markdown",
   "metadata": {},
   "source": [
    "## Teste"
   ]
  },
  {
   "cell_type": "code",
   "execution_count": 33,
   "metadata": {},
   "outputs": [
    {
     "name": "stdout",
     "output_type": "stream",
     "text": [
      "Modelo 1: R² = 0.39\n",
      "Modelo 2: R² = 0.47\n"
     ]
    }
   ],
   "source": [
    "print(f'Modelo 1: R² = {model.score(X_train, y_train).round(2)}')\n",
    "print(f'Modelo 2: R² = {model2.score(X2_train, y2_train).round(2)}')"
   ]
  },
  {
   "attachments": {},
   "cell_type": "markdown",
   "metadata": {},
   "source": [
    "Como esperado o R2 do segundo modelo é maior, já que o mesmo tem mais variáveis explicativas."
   ]
  },
  {
   "cell_type": "code",
   "execution_count": 34,
   "metadata": {},
   "outputs": [],
   "source": [
    "y_pred = model.predict(X_test)\n",
    "y2_pred = model2.predict(X2_test)"
   ]
  },
  {
   "cell_type": "code",
   "execution_count": 35,
   "metadata": {},
   "outputs": [
    {
     "name": "stdout",
     "output_type": "stream",
     "text": [
      "Modelo 1: R² = 0.38\n",
      "Modelo 2: R² = 0.47\n"
     ]
    }
   ],
   "source": [
    "print(f'Modelo 1: R² = {model.score(X_test, y_test).round(2)}')\n",
    "print(f'Modelo 2: R² = {model2.score(X2_test, y2_test).round(2)}')\n"
   ]
  },
  {
   "cell_type": "code",
   "execution_count": 36,
   "metadata": {},
   "outputs": [
    {
     "data": {
      "text/html": [
       "<div>\n",
       "<style scoped>\n",
       "    .dataframe tbody tr th:only-of-type {\n",
       "        vertical-align: middle;\n",
       "    }\n",
       "\n",
       "    .dataframe tbody tr th {\n",
       "        vertical-align: top;\n",
       "    }\n",
       "\n",
       "    .dataframe thead th {\n",
       "        text-align: right;\n",
       "    }\n",
       "</style>\n",
       "<table border=\"1\" class=\"dataframe\">\n",
       "  <thead>\n",
       "    <tr style=\"text-align: right;\">\n",
       "      <th></th>\n",
       "      <th>Métricas</th>\n",
       "    </tr>\n",
       "  </thead>\n",
       "  <tbody>\n",
       "    <tr>\n",
       "      <th>MSE</th>\n",
       "      <td>89118603177.78999</td>\n",
       "    </tr>\n",
       "    <tr>\n",
       "      <th>RMSE</th>\n",
       "      <td>298527.39100</td>\n",
       "    </tr>\n",
       "    <tr>\n",
       "      <th>R²</th>\n",
       "      <td>0.38269</td>\n",
       "    </tr>\n",
       "  </tbody>\n",
       "</table>\n",
       "</div>"
      ],
      "text/plain": [
       "              Métricas\n",
       "MSE  89118603177.78999\n",
       "RMSE      298527.39100\n",
       "R²             0.38269"
      ]
     },
     "execution_count": 36,
     "metadata": {},
     "output_type": "execute_result"
    }
   ],
   "source": [
    "MSE = metrics.mean_squared_error(y_test, y_pred).round(2)\n",
    "RMSE = np.sqrt(MSE)\n",
    "R2 = metrics.r2_score(y_test, y_pred)\n",
    "\n",
    "pd.DataFrame(\n",
    "    [MSE, RMSE, R2],\n",
    "    ['MSE', 'RMSE', 'R²'],\n",
    "    columns=['Métricas']\n",
    "    )"
   ]
  },
  {
   "cell_type": "code",
   "execution_count": 37,
   "metadata": {},
   "outputs": [
    {
     "data": {
      "text/html": [
       "<div>\n",
       "<style scoped>\n",
       "    .dataframe tbody tr th:only-of-type {\n",
       "        vertical-align: middle;\n",
       "    }\n",
       "\n",
       "    .dataframe tbody tr th {\n",
       "        vertical-align: top;\n",
       "    }\n",
       "\n",
       "    .dataframe thead th {\n",
       "        text-align: right;\n",
       "    }\n",
       "</style>\n",
       "<table border=\"1\" class=\"dataframe\">\n",
       "  <thead>\n",
       "    <tr style=\"text-align: right;\">\n",
       "      <th></th>\n",
       "      <th>Métricas</th>\n",
       "    </tr>\n",
       "  </thead>\n",
       "  <tbody>\n",
       "    <tr>\n",
       "      <th>MSE</th>\n",
       "      <td>76790153571.98000</td>\n",
       "    </tr>\n",
       "    <tr>\n",
       "      <th>RMSE</th>\n",
       "      <td>277110.36352</td>\n",
       "    </tr>\n",
       "    <tr>\n",
       "      <th>R²</th>\n",
       "      <td>0.46809</td>\n",
       "    </tr>\n",
       "  </tbody>\n",
       "</table>\n",
       "</div>"
      ],
      "text/plain": [
       "              Métricas\n",
       "MSE  76790153571.98000\n",
       "RMSE      277110.36352\n",
       "R²             0.46809"
      ]
     },
     "execution_count": 37,
     "metadata": {},
     "output_type": "execute_result"
    }
   ],
   "source": [
    "MSE_2 = metrics.mean_squared_error(y2_test, y2_pred).round(2)\n",
    "RMSE_2 = np.sqrt(MSE_2)\n",
    "R2_2 = metrics.r2_score(y2_test, y2_pred)\n",
    "\n",
    "pd.DataFrame(\n",
    "    [MSE_2, RMSE_2, R2_2],\n",
    "    ['MSE', 'RMSE', 'R²'],\n",
    "    columns=['Métricas']\n",
    "    )"
   ]
  },
  {
   "attachments": {},
   "cell_type": "markdown",
   "metadata": {},
   "source": [
    "O erro quadrático médio indica que o segundo modelo tem melhor ajuste. Assim, este será o escolhido."
   ]
  },
  {
   "attachments": {},
   "cell_type": "markdown",
   "metadata": {},
   "source": [
    "# Análise dos resíduos."
   ]
  },
  {
   "attachments": {},
   "cell_type": "markdown",
   "metadata": {},
   "source": [
    "<img width='800px' src='.\\imagens\\var_u.jpg'>\n",
    "Fonte: Econometria Básica - 5ª edição - Gujarati e Porter"
   ]
  },
  {
   "cell_type": "code",
   "execution_count": 38,
   "metadata": {},
   "outputs": [
    {
     "data": {
      "text/plain": [
       "167      -16061.67165\n",
       "12412    194013.19432\n",
       "7691    -308315.61252\n",
       "12460    -74098.19065\n",
       "9099     -34021.45071\n",
       "             ...     \n",
       "11964     26922.79907\n",
       "21575   -319054.86986\n",
       "5390      84472.76089\n",
       "860      260569.61717\n",
       "15795   -266913.00129\n",
       "Name: price, Length: 15129, dtype: float64"
      ]
     },
     "execution_count": 38,
     "metadata": {},
     "output_type": "execute_result"
    }
   ],
   "source": [
    "y2_pred_train = model2.predict(X2_train)\n",
    "residuo = y2_train - y2_pred_train\n",
    "residuo"
   ]
  },
  {
   "cell_type": "code",
   "execution_count": 39,
   "metadata": {},
   "outputs": [
    {
     "data": {
      "image/png": "[encoded data removed]",
      "text/plain": [
       "<Figure size 1200x600 with 1 Axes>"
      ]
     },
     "metadata": {},
     "output_type": "display_data"
    }
   ],
   "source": [
    "ax = sns.scatterplot(x=y2_pred_train, y=residuo)\n",
    "ax.figure.set_size_inches(12, 6)\n",
    "ax.set_title('Previsão x Resíduos', fontsize=18)\n",
    "ax.set_ylabel('Resíduos', fontsize=14)\n",
    "ax.set_xlabel('Preço do imóvel', fontsize=14)\n",
    "plt.show()"
   ]
  },
  {
   "cell_type": "code",
   "execution_count": 40,
   "metadata": {},
   "outputs": [
    {
     "data": {
      "image/png": "[encoded data removed]",
      "text/plain": [
       "<Figure size 1200x600 with 1 Axes>"
      ]
     },
     "metadata": {},
     "output_type": "display_data"
    }
   ],
   "source": [
    "ax = sns.scatterplot(x=y2_pred_train, y=residuo**2)\n",
    "ax.figure.set_size_inches(12, 6)\n",
    "ax.set_title('Previsão x Resíduos', fontsize=18)\n",
    "ax.set_ylabel('Resíduos²', fontsize=14)\n",
    "ax.set_xlabel('Preço do imóvel', fontsize=14)\n",
    "plt.show()"
   ]
  },
  {
   "cell_type": "code",
   "execution_count": 41,
   "metadata": {},
   "outputs": [
    {
     "data": {
      "text/plain": [
       "<Figure size 1600x800 with 0 Axes>"
      ]
     },
     "metadata": {},
     "output_type": "display_data"
    },
    {
     "data": {
      "image/png": "[encoded data removed]",
      "text/plain": [
       "<Figure size 500x500 with 1 Axes>"
      ]
     },
     "metadata": {},
     "output_type": "display_data"
    }
   ],
   "source": [
    "plt.figure(figsize=(16, 8))\n",
    "ax = sns.displot(residuo, bins=50)\n",
    "\n",
    "ax.set(title='Distribuição de frequência dos resíduos')\n",
    "ax.set(xlabel='Resíduos', ylabel='Frequência')\n",
    "\n",
    "plt.show()"
   ]
  },
  {
   "attachments": {},
   "cell_type": "markdown",
   "metadata": {},
   "source": [
    "Pelo o gráficos dos resíduos, nota-se que a variância do modelo não é constante."
   ]
  },
  {
   "attachments": {},
   "cell_type": "markdown",
   "metadata": {},
   "source": [
    "## Análise da tabela de regressão"
   ]
  },
  {
   "attachments": {},
   "cell_type": "markdown",
   "metadata": {},
   "source": [
    "Utilizando statsmodels.api conseguimos a seguinte tabela:"
   ]
  },
  {
   "cell_type": "code",
   "execution_count": 42,
   "metadata": {},
   "outputs": [
    {
     "name": "stdout",
     "output_type": "stream",
     "text": [
      "                                 OLS Regression Results                                \n",
      "=======================================================================================\n",
      "Dep. Variable:                  price   R-squared (uncentered):                   0.813\n",
      "Model:                            OLS   Adj. R-squared (uncentered):              0.813\n",
      "Method:                 Least Squares   F-statistic:                          2.186e+04\n",
      "Date:                Tue, 21 Mar 2023   Prob (F-statistic):                        0.00\n",
      "Time:                        10:22:40   Log-Likelihood:                     -2.1125e+05\n",
      "No. Observations:               15129   AIC:                                  4.225e+05\n",
      "Df Residuals:                   15126   BIC:                                  4.225e+05\n",
      "Df Model:                           3                                                  \n",
      "Covariance Type:            nonrobust                                                  \n",
      "==============================================================================\n",
      "                 coef    std err          t      P>|t|      [0.025      0.975]\n",
      "------------------------------------------------------------------------------\n",
      "bathrooms   5.243e+04   4286.584     12.231      0.000     4.4e+04    6.08e+04\n",
      "grade       1.462e+04   1173.809     12.456      0.000    1.23e+04    1.69e+04\n",
      "sqft_above   183.4684      3.997     45.897      0.000     175.633     191.304\n",
      "==============================================================================\n",
      "Omnibus:                    13233.416   Durbin-Watson:                   2.014\n",
      "Prob(Omnibus):                  0.000   Jarque-Bera (JB):           967466.766\n",
      "Skew:                           3.859   Prob(JB):                         0.00\n",
      "Kurtosis:                      41.408   Cond. No.                     3.76e+03\n",
      "==============================================================================\n",
      "\n",
      "Notes:\n",
      "[1] R² is computed without centering (uncentered) since the model does not contain a constant.\n",
      "[2] Standard Errors assume that the covariance matrix of the errors is correctly specified.\n",
      "[3] The condition number is large, 3.76e+03. This might indicate that there are\n",
      "strong multicollinearity or other numerical problems.\n"
     ]
    }
   ],
   "source": [
    "model = sm.OLS(y2_train, X2_train)\n",
    "results = model.fit()\n",
    "y_pred = results.predict(X2_test)\n",
    "print(results.summary())"
   ]
  },
  {
   "attachments": {},
   "cell_type": "markdown",
   "metadata": {},
   "source": [
    "O método usado pelas funções OLS() e pela LinearRegression() é o mesmo. Assim a reta de regressão gereda é a mesma para um mesmo conjunto de dados."
   ]
  },
  {
   "attachments": {},
   "cell_type": "markdown",
   "metadata": {},
   "source": [
    "Pelo summar podemos chegar às seguintes conclusões:\n",
    "- R-square e Adj. R-square: o coeficiente de determinação é uma métrica que busca rsumir o quanto da variação da variável dependente é explicada pelas variáveis indepedetes. Podendo variar entre 0 e 1, quanto mair próximo a 1, maior a capacidade explicativa. Entretanto, o R-square é sensível ao número de variáveis independentes utilizadas, quanto maior a quantidade de variáveis explicativas, mais o valor de aproxima de 1. Neste cenário, temos o Adj. R-square, o valor de R-square ajustado que pode ser utilizado para comparar modelos com quantidade diferentes de variáveis explicativas. Na nossa regressão, nós obtvemos o valor de 0.813 para ambas as métricas. O que demonstra uma boa explicabilidade. Além disso, os valores serem iguais pode indicar que todas as variáveis são relevantes para o modelo.\n",
    "- F-statistics e Prob (F-statistic): esta métrica testa a hipótese nula de que todos os coefs são nulos, ou seja, compara o modelo com outro onde apenas existe o intercepto. Valores maiores indicam melhor significância para o modelo. A Prob (F-statistics) é o valor p associado ao teste f. Conseguimos obter $2.186 * 10^4$ para F-statistics e um p-valor < 0,01. Assim, podemos concluir que pelo menos uma das variáveis é significativa para o modelo.\n",
    "- bathrooms: o coeficiente de banheiros é $5.243*10^4$, o que significa que para cada banheiro existente haverá um aumento de 5.243*10^4 doláres no valor do imóvel. O valor para o erro padrão foi de 4286.584. Com um t teste, que testa a significancia do modelo, de 12.231 p-valor < 0,01. O que indica que a variável e estatísticamente significativa para o modelo. A coluna  [0.025      0.975], traz faixa na qual, com um nível de confiança de 95%, o valor verdadeiro do coeficiente deve estar. No caso da variável bathrooms, temps a faixa de $4.4 * 10^4$ a $6.08 * 10^4$. Notamos que a faixa não engloba o número 0, o que corrobora o raciocío desenvolvido onde não aceitams aonde a hipótese de que os coeficientes são nulos.\n",
    "- grade: para o nota do imóvel podemos aplicar a lógica anterior para analisar sas métricas. Concluindo que esta variável é significativa para o modelo e que a cada ponto na nota o valor do imóvel aumenta em $1.462 * 10^4$ dólares.\n",
    "- sqft_above: da mesma maneira, a área acima do solo também se mostrou significativa para o modelo, onde o acréscimo de uma unidade em seu valor aumenta o valor do imóvel em 183.4684 dólares.\n",
    "- Omnibus: valores próximos a zero indicam indica a normalidade dos resíduos. O resultado de                  13233.416 corrobora a conclusão feita através da análise gráfica, os resíduos não estão normalmente distribuidos. \n",
    "- Prob(Omnibus): é o p-valor do Omnibus e valores próximos a zero indicam a não normalidade dos resíduos.\n",
    "- Durbin-Watson: é uma medida da autocorrelação entre os resíduos, valores próximos a 2 indicam que não há autocorrelação. Obtivemos o valor 2.014, que é próximo a dois.\n",
    "- Jarque-Bera (JB): testa a hipótese nula de que os dados se distribuem como uma nrmal e leva em consideação o número de observações, o coeficiente de simetria e o coeficiente de curtosi.       967466.766\n",
    "- Skew: indica a assimetria dos redíduos, valores próximos a zero indicam que não há assimetria. Obtivemos o valor de 3.859, que indica assimetria e conseguimos ver está assimétria na análise gráfica dos resíduos.   \n",
    "- Cond. No,: o número condicional alto indica que possa haver alta colinearidade ou outros problemas numéricos com o modelo.                  \n"
   ]
  },
  {
   "attachments": {},
   "cell_type": "markdown",
   "metadata": {},
   "source": [
    "## Modelo em produção"
   ]
  },
  {
   "attachments": {},
   "cell_type": "markdown",
   "metadata": {},
   "source": [
    "Para colocar um modelo em produção, é preciso seguir algumas etapas importantes. A primeira delas é salvar o modelo de forma que ele possa ser compartilhado. Para isso, podemos usar a biblioteca Pickle, que permite serializar e deserializar objetos Python. Isso significa que podemos salvar o modelo em uma representação binária que pode ser armazenada em disco ou compartilhada, e depois deserializá-lo para obter o objeto original. Isso é importante porque o treinamento do modelo e sua utilização devem ocorrer separadamente.\n",
    "\n",
    "Depois de salvar o modelo, precisamos disponibilizá-lo para uso por meio de uma API. Existem várias linguagens e frameworks que podem ser usados para criar uma API. Em python, o Flask é uma biblioteca fácil de usar para criar aplicativos web e que pode ser utilizada para esse proposito.\n",
    "\n",
    "Além de disponibilizar o modelo, é importante monitorar seu desempenho para garantir a qualidade das previsões. Isso pode ser feito por meio de testes automatizados e análises regulares dos resultados. Também é importante atualizar periodicamente o modelo com novos dados de treinamento para garantir que ele continue a produzir resultados precisos ao longo do tempo.\n",
    "\n",
    "Em resumo, para colocar um modelo em produção, é preciso salvar o modelo, disponibilizá-lo por meio de uma API, monitorar seu desempenho e atualizá-lo com novos dados de treinamento. O processo pode ser complexo, mas seguir essas etapas ajudará a garantir que o modelo seja eficaz e confiável em produção."
   ]
  },
  {
   "cell_type": "code",
   "execution_count": 43,
   "metadata": {},
   "outputs": [],
   "source": [
    "import pickle\n",
    "\n",
    "output = open('modelo_previficacao_imoveis', 'wb')\n",
    "pickle.dump(model2, output)\n",
    "output.close()"
   ]
  },
  {
   "cell_type": "code",
   "execution_count": 48,
   "metadata": {},
   "outputs": [
    {
     "name": "stdout",
     "output_type": "stream",
     "text": [
      "617457.9 dólares\n"
     ]
    }
   ],
   "source": [
    "modelo = open('modelo_previficacao_imoveis','rb')\n",
    "lm_new = pickle.load(modelo)\n",
    "modelo.close()\n",
    "\n",
    "entrada = X2_test[0:1]\n",
    "print(f'{lm_new.predict(entrada)[0].round(2)} dólares')"
   ]
  },
  {
   "cell_type": "code",
   "execution_count": 45,
   "metadata": {},
   "outputs": [
    {
     "data": {
      "text/html": [
       "<div>\n",
       "<style scoped>\n",
       "    .dataframe tbody tr th:only-of-type {\n",
       "        vertical-align: middle;\n",
       "    }\n",
       "\n",
       "    .dataframe tbody tr th {\n",
       "        vertical-align: top;\n",
       "    }\n",
       "\n",
       "    .dataframe thead th {\n",
       "        text-align: right;\n",
       "    }\n",
       "</style>\n",
       "<table border=\"1\" class=\"dataframe\">\n",
       "  <thead>\n",
       "    <tr style=\"text-align: right;\">\n",
       "      <th></th>\n",
       "      <th>bathrooms</th>\n",
       "      <th>grade</th>\n",
       "      <th>sqft_above</th>\n",
       "    </tr>\n",
       "  </thead>\n",
       "  <tbody>\n",
       "    <tr>\n",
       "      <th>167</th>\n",
       "      <td>2.50000</td>\n",
       "      <td>9</td>\n",
       "      <td>2680</td>\n",
       "    </tr>\n",
       "    <tr>\n",
       "      <th>12412</th>\n",
       "      <td>1.75000</td>\n",
       "      <td>7</td>\n",
       "      <td>1170</td>\n",
       "    </tr>\n",
       "    <tr>\n",
       "      <th>7691</th>\n",
       "      <td>2.25000</td>\n",
       "      <td>8</td>\n",
       "      <td>2190</td>\n",
       "    </tr>\n",
       "    <tr>\n",
       "      <th>12460</th>\n",
       "      <td>1.75000</td>\n",
       "      <td>9</td>\n",
       "      <td>1890</td>\n",
       "    </tr>\n",
       "    <tr>\n",
       "      <th>9099</th>\n",
       "      <td>1.75000</td>\n",
       "      <td>8</td>\n",
       "      <td>2110</td>\n",
       "    </tr>\n",
       "    <tr>\n",
       "      <th>...</th>\n",
       "      <td>...</td>\n",
       "      <td>...</td>\n",
       "      <td>...</td>\n",
       "    </tr>\n",
       "    <tr>\n",
       "      <th>11964</th>\n",
       "      <td>1.50000</td>\n",
       "      <td>7</td>\n",
       "      <td>1000</td>\n",
       "    </tr>\n",
       "    <tr>\n",
       "      <th>21575</th>\n",
       "      <td>2.50000</td>\n",
       "      <td>8</td>\n",
       "      <td>3087</td>\n",
       "    </tr>\n",
       "    <tr>\n",
       "      <th>5390</th>\n",
       "      <td>2.50000</td>\n",
       "      <td>7</td>\n",
       "      <td>2120</td>\n",
       "    </tr>\n",
       "    <tr>\n",
       "      <th>860</th>\n",
       "      <td>0.75000</td>\n",
       "      <td>5</td>\n",
       "      <td>380</td>\n",
       "    </tr>\n",
       "    <tr>\n",
       "      <th>15795</th>\n",
       "      <td>2.50000</td>\n",
       "      <td>7</td>\n",
       "      <td>3130</td>\n",
       "    </tr>\n",
       "  </tbody>\n",
       "</table>\n",
       "<p>15129 rows × 3 columns</p>\n",
       "</div>"
      ],
      "text/plain": [
       "       bathrooms  grade  sqft_above\n",
       "167      2.50000      9        2680\n",
       "12412    1.75000      7        1170\n",
       "7691     2.25000      8        2190\n",
       "12460    1.75000      9        1890\n",
       "9099     1.75000      8        2110\n",
       "...          ...    ...         ...\n",
       "11964    1.50000      7        1000\n",
       "21575    2.50000      8        3087\n",
       "5390     2.50000      7        2120\n",
       "860      0.75000      5         380\n",
       "15795    2.50000      7        3130\n",
       "\n",
       "[15129 rows x 3 columns]"
      ]
     },
     "execution_count": 45,
     "metadata": {},
     "output_type": "execute_result"
    }
   ],
   "source": [
    "X2_train"
   ]
  },
  {
   "cell_type": "code",
   "execution_count": 46,
   "metadata": {},
   "outputs": [],
   "source": [
    "def predict_value():   \n",
    "    bathrooms = int(input('Quantidade de banheiros: '))\n",
    "    grade = int(input('Nota do imóvel: '))\n",
    "    sqft_above = float(input('Tamanho do imóvel acima do solo: '))\n",
    "\n",
    "    imovel = pd.DataFrame(\n",
    "        {\n",
    "            'bathrooms': bathrooms,\n",
    "            'grade': grade,\n",
    "            'sqft_above': sqft_above,\n",
    "        },\n",
    "        index=[0]\n",
    "    )\n",
    "\n",
    "    print(f'O valor estimado do imóvel é: {lm_new.predict(imovel)[0]}')\n",
    "\n"
   ]
  }
 ],
 "metadata": {
  "kernelspec": {
   "display_name": "base",
   "language": "python",
   "name": "python3"
  },
  "language_info": {
   "codemirror_mode": {
    "name": "ipython",
    "version": 3
   },
   "file_extension": ".py",
   "mimetype": "text/x-python",
   "name": "python",
   "nbconvert_exporter": "python",
   "pygments_lexer": "ipython3",
   "version": "3.9.13"
  },
  "orig_nbformat": 4,
  "vscode": {
   "interpreter": {
    "hash": "a9a945df823e285c06b96a2606972f70ab25f91665b500d829d03b1c9fd07f0c"
   }
  }
 },
 "nbformat": 4,
 "nbformat_minor": 2
}
